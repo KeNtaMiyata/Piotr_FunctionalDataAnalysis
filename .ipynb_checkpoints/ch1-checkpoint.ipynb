{
 "cells": [
  {
   "cell_type": "code",
   "execution_count": 1,
   "id": "86527b81",
   "metadata": {},
   "outputs": [
    {
     "name": "stderr",
     "output_type": "stream",
     "text": [
      "-- \u001b[1mAttaching core tidyverse packages\u001b[22m ---------------------------------------------------------------- tidyverse 2.0.0 --\n",
      "\u001b[32mv\u001b[39m \u001b[34mdplyr    \u001b[39m 1.1.2     \u001b[32mv\u001b[39m \u001b[34mreadr    \u001b[39m 2.1.4\n",
      "\u001b[32mv\u001b[39m \u001b[34mforcats  \u001b[39m 1.0.0     \u001b[32mv\u001b[39m \u001b[34mstringr  \u001b[39m 1.5.0\n",
      "\u001b[32mv\u001b[39m \u001b[34mggplot2  \u001b[39m 3.4.2     \u001b[32mv\u001b[39m \u001b[34mtibble   \u001b[39m 3.2.1\n",
      "\u001b[32mv\u001b[39m \u001b[34mlubridate\u001b[39m 1.9.2     \u001b[32mv\u001b[39m \u001b[34mtidyr    \u001b[39m 1.3.0\n",
      "\u001b[32mv\u001b[39m \u001b[34mpurrr    \u001b[39m 1.0.1     \n",
      "-- \u001b[1mConflicts\u001b[22m ---------------------------------------------------------------------------------- tidyverse_conflicts() --\n",
      "\u001b[31mx\u001b[39m \u001b[34mdplyr\u001b[39m::\u001b[32mfilter()\u001b[39m masks \u001b[34mstats\u001b[39m::filter()\n",
      "\u001b[31mx\u001b[39m \u001b[34mdplyr\u001b[39m::\u001b[32mlag()\u001b[39m    masks \u001b[34mstats\u001b[39m::lag()\n",
      "\u001b[36mi\u001b[39m Use the conflicted package (\u001b[3m\u001b[34m<http://conflicted.r-lib.org/>\u001b[39m\u001b[23m) to force all conflicts to become errors\n",
      "Loading required package: splines\n",
      "\n",
      "Loading required package: fds\n",
      "\n",
      "Loading required package: rainbow\n",
      "\n",
      "Loading required package: MASS\n",
      "\n",
      "\n",
      "Attaching package: 'MASS'\n",
      "\n",
      "\n",
      "The following object is masked from 'package:dplyr':\n",
      "\n",
      "    select\n",
      "\n",
      "\n",
      "Loading required package: pcaPP\n",
      "\n",
      "Loading required package: RCurl\n",
      "\n",
      "\n",
      "Attaching package: 'RCurl'\n",
      "\n",
      "\n",
      "The following object is masked from 'package:tidyr':\n",
      "\n",
      "    complete\n",
      "\n",
      "\n",
      "Loading required package: deSolve\n",
      "\n",
      "\n",
      "Attaching package: 'fda'\n",
      "\n",
      "\n",
      "The following object is masked from 'package:graphics':\n",
      "\n",
      "    matplot\n",
      "\n",
      "\n"
     ]
    }
   ],
   "source": [
    "library(IRdisplay)\n",
    "library(tidyverse)\n",
    "library(fda)"
   ]
  },
  {
   "cell_type": "markdown",
   "id": "74dcf220",
   "metadata": {},
   "source": [
    "# First Steps in the analysis of functional data"
   ]
  },
  {
   "cell_type": "code",
   "execution_count": 2,
   "id": "27b36e23",
   "metadata": {},
   "outputs": [
    {
     "data": {
      "text/html": [
       "<strong>png:</strong> 2"
      ],
      "text/latex": [
       "\\textbf{png:} 2"
      ],
      "text/markdown": [
       "**png:** 2"
      ],
      "text/plain": [
       "png \n",
       "  2 "
      ]
     },
     "metadata": {},
     "output_type": "display_data"
    },
    {
     "data": {
      "image/png": "[encoded data removed]"
     },
     "metadata": {},
     "output_type": "display_data"
    }
   ],
   "source": [
    "set.seed(123)\n",
    "x = cumsum(rnorm(10))\n",
    "\n",
    "png(\"00-sample.png\", width=400, height = 400) \n",
    "par(cex=1.5)\n",
    "\n",
    "plot(x, xlab=\"t\", ylab=\"x\")\n",
    "grid()\n",
    "\n",
    "dev.off()\n",
    "png_data <- readBin(\"00-sample.png\", \"raw\", file.size(\"00-sample.png\"))\n",
    "display_png(png_data)"
   ]
  },
  {
   "cell_type": "code",
   "execution_count": 3,
   "id": "28790ffe",
   "metadata": {},
   "outputs": [
    {
     "data": {
      "text/html": [
       "<strong>png:</strong> 2"
      ],
      "text/latex": [
       "\\textbf{png:} 2"
      ],
      "text/markdown": [
       "**png:** 2"
      ],
      "text/plain": [
       "png \n",
       "  2 "
      ]
     },
     "metadata": {},
     "output_type": "display_data"
    },
    {
     "data": {
      "image/png": "[encoded data removed]"
     },
     "metadata": {},
     "output_type": "display_data"
    }
   ],
   "source": [
    "set.seed(123)\n",
    "x = cumsum(rnorm(10))\n",
    "B25.basis = create.bspline.basis(rangeval=c(0,10), nbasis=5)\n",
    "x_fd = smooth.basis(y=x, fdParobj = B25.basis)\n",
    "\n",
    "png(\"01-sample.png\", width=800, height = 400) \n",
    "par(mfrow=c(1,2), cex=1.5)\n",
    "\n",
    "plot(x, xlab=\"t\", ylab=\"x\")\n",
    "grid()\n",
    "\n",
    "plot(x, xlab=\"t\", ylab=\"x\")\n",
    "lines(x_fd, lwd=3, col=\"red\")\n",
    "grid()\n",
    "\n",
    "dev.off()\n",
    "png_data <- readBin(\"01-sample.png\", \"raw\", file.size(\"01-sample.png\"))\n",
    "display_png(png_data)"
   ]
  },
  {
   "cell_type": "code",
   "execution_count": null,
   "id": "55c26e05",
   "metadata": {},
   "outputs": [],
   "source": []
  },
  {
   "cell_type": "code",
   "execution_count": 4,
   "id": "eeabaf36",
   "metadata": {},
   "outputs": [
    {
     "data": {
      "text/html": [
       "<strong>png:</strong> 2"
      ],
      "text/latex": [
       "\\textbf{png:} 2"
      ],
      "text/markdown": [
       "**png:** 2"
      ],
      "text/plain": [
       "png \n",
       "  2 "
      ]
     },
     "metadata": {},
     "output_type": "display_data"
    },
    {
     "data": {
      "image/png": "[encoded data removed]"
     },
     "metadata": {},
     "output_type": "display_data"
    }
   ],
   "source": [
    "set.seed(123)\n",
    "x1 = cumsum(rnorm(10))\n",
    "x2 = cumsum(rnorm(7))\n",
    "x3 = cumsum(rnorm(5))\n",
    "\n",
    "png(\"02-sample.png\", width=800, height = 400) \n",
    "par(cex=1.5)\n",
    "plot(x1, xlab=\"t\", ylab=\"x\", xlim=c(0,10), ylim=c(-5,5), lwd=2, col=1)\n",
    "par(cex=1.5, new=T)\n",
    "plot(x2, xlab=\"\", ylab=\"\", xlim=c(0,10), ylim=c(-5,5), lwd=2, col=2, ann=F)\n",
    "par(cex=1.5, new=T)\n",
    "plot(x3, xlab=\"\", ylab=\"\", xlim=c(0,10), ylim=c(-5,5), lwd=2, col=3, ann=F)\n",
    "legend(\"bottomright\", legend=c(\"n=1\", \"n=2\", \"n=3\"), lty=1, col=1:3)\n",
    "grid()\n",
    "\n",
    "dev.off()\n",
    "png_data <- readBin(\"02-sample.png\", \"raw\", file.size(\"02-sample.png\"))\n",
    "display_png(png_data)"
   ]
  },
  {
   "cell_type": "code",
   "execution_count": 5,
   "id": "cdf28da9",
   "metadata": {},
   "outputs": [
    {
     "data": {
      "text/html": [
       "<style>\n",
       ".list-inline {list-style: none; margin:0; padding: 0}\n",
       ".list-inline>li {display: inline-block}\n",
       ".list-inline>li:not(:last-child)::after {content: \"\\00b7\"; padding: 0 .5ex}\n",
       "</style>\n",
       "<ol class=list-inline><li>0</li><li>0.1</li><li>0.2</li><li>0.3</li><li>0.4</li><li>0.5</li><li>0.6</li><li>0.7</li><li>0.8</li><li>0.9</li><li>1</li><li>1.1</li><li>1.2</li><li>1.3</li><li>1.4</li><li>1.5</li><li>1.6</li><li>1.7</li><li>1.8</li><li>1.9</li><li>2</li><li>2.1</li><li>2.2</li><li>2.3</li><li>2.4</li><li>2.5</li><li>2.6</li><li>2.7</li><li>2.8</li><li>2.9</li><li>3</li><li>3.1</li><li>3.2</li><li>3.3</li><li>3.4</li><li>3.5</li><li>3.6</li><li>3.7</li><li>3.8</li><li>3.9</li><li>4</li><li>4.1</li><li>4.2</li><li>4.3</li><li>4.4</li><li>4.5</li><li>4.6</li><li>4.7</li><li>4.8</li><li>4.9</li><li>5</li><li>5.1</li><li>5.2</li><li>5.3</li><li>5.4</li><li>5.5</li><li>5.6</li><li>5.7</li><li>5.8</li><li>5.9</li><li>6</li><li>6.1</li><li>6.2</li><li>6.3</li><li>6.4</li><li>6.5</li><li>6.6</li><li>6.7</li><li>6.8</li><li>6.9</li><li>7</li><li>7.1</li><li>7.2</li><li>7.3</li><li>7.4</li><li>7.5</li><li>7.6</li><li>7.7</li><li>7.8</li><li>7.9</li><li>8</li><li>8.1</li><li>8.2</li><li>8.3</li><li>8.4</li><li>8.5</li><li>8.6</li><li>8.7</li><li>8.8</li><li>8.9</li><li>9</li><li>9.1</li><li>9.2</li><li>9.3</li><li>9.4</li><li>9.5</li><li>9.6</li><li>9.7</li><li>9.8</li><li>9.9</li><li>10</li></ol>\n"
      ],
      "text/latex": [
       "\\begin{enumerate*}\n",
       "\\item 0\n",
       "\\item 0.1\n",
       "\\item 0.2\n",
       "\\item 0.3\n",
       "\\item 0.4\n",
       "\\item 0.5\n",
       "\\item 0.6\n",
       "\\item 0.7\n",
       "\\item 0.8\n",
       "\\item 0.9\n",
       "\\item 1\n",
       "\\item 1.1\n",
       "\\item 1.2\n",
       "\\item 1.3\n",
       "\\item 1.4\n",
       "\\item 1.5\n",
       "\\item 1.6\n",
       "\\item 1.7\n",
       "\\item 1.8\n",
       "\\item 1.9\n",
       "\\item 2\n",
       "\\item 2.1\n",
       "\\item 2.2\n",
       "\\item 2.3\n",
       "\\item 2.4\n",
       "\\item 2.5\n",
       "\\item 2.6\n",
       "\\item 2.7\n",
       "\\item 2.8\n",
       "\\item 2.9\n",
       "\\item 3\n",
       "\\item 3.1\n",
       "\\item 3.2\n",
       "\\item 3.3\n",
       "\\item 3.4\n",
       "\\item 3.5\n",
       "\\item 3.6\n",
       "\\item 3.7\n",
       "\\item 3.8\n",
       "\\item 3.9\n",
       "\\item 4\n",
       "\\item 4.1\n",
       "\\item 4.2\n",
       "\\item 4.3\n",
       "\\item 4.4\n",
       "\\item 4.5\n",
       "\\item 4.6\n",
       "\\item 4.7\n",
       "\\item 4.8\n",
       "\\item 4.9\n",
       "\\item 5\n",
       "\\item 5.1\n",
       "\\item 5.2\n",
       "\\item 5.3\n",
       "\\item 5.4\n",
       "\\item 5.5\n",
       "\\item 5.6\n",
       "\\item 5.7\n",
       "\\item 5.8\n",
       "\\item 5.9\n",
       "\\item 6\n",
       "\\item 6.1\n",
       "\\item 6.2\n",
       "\\item 6.3\n",
       "\\item 6.4\n",
       "\\item 6.5\n",
       "\\item 6.6\n",
       "\\item 6.7\n",
       "\\item 6.8\n",
       "\\item 6.9\n",
       "\\item 7\n",
       "\\item 7.1\n",
       "\\item 7.2\n",
       "\\item 7.3\n",
       "\\item 7.4\n",
       "\\item 7.5\n",
       "\\item 7.6\n",
       "\\item 7.7\n",
       "\\item 7.8\n",
       "\\item 7.9\n",
       "\\item 8\n",
       "\\item 8.1\n",
       "\\item 8.2\n",
       "\\item 8.3\n",
       "\\item 8.4\n",
       "\\item 8.5\n",
       "\\item 8.6\n",
       "\\item 8.7\n",
       "\\item 8.8\n",
       "\\item 8.9\n",
       "\\item 9\n",
       "\\item 9.1\n",
       "\\item 9.2\n",
       "\\item 9.3\n",
       "\\item 9.4\n",
       "\\item 9.5\n",
       "\\item 9.6\n",
       "\\item 9.7\n",
       "\\item 9.8\n",
       "\\item 9.9\n",
       "\\item 10\n",
       "\\end{enumerate*}\n"
      ],
      "text/markdown": [
       "1. 0\n",
       "2. 0.1\n",
       "3. 0.2\n",
       "4. 0.3\n",
       "5. 0.4\n",
       "6. 0.5\n",
       "7. 0.6\n",
       "8. 0.7\n",
       "9. 0.8\n",
       "10. 0.9\n",
       "11. 1\n",
       "12. 1.1\n",
       "13. 1.2\n",
       "14. 1.3\n",
       "15. 1.4\n",
       "16. 1.5\n",
       "17. 1.6\n",
       "18. 1.7\n",
       "19. 1.8\n",
       "20. 1.9\n",
       "21. 2\n",
       "22. 2.1\n",
       "23. 2.2\n",
       "24. 2.3\n",
       "25. 2.4\n",
       "26. 2.5\n",
       "27. 2.6\n",
       "28. 2.7\n",
       "29. 2.8\n",
       "30. 2.9\n",
       "31. 3\n",
       "32. 3.1\n",
       "33. 3.2\n",
       "34. 3.3\n",
       "35. 3.4\n",
       "36. 3.5\n",
       "37. 3.6\n",
       "38. 3.7\n",
       "39. 3.8\n",
       "40. 3.9\n",
       "41. 4\n",
       "42. 4.1\n",
       "43. 4.2\n",
       "44. 4.3\n",
       "45. 4.4\n",
       "46. 4.5\n",
       "47. 4.6\n",
       "48. 4.7\n",
       "49. 4.8\n",
       "50. 4.9\n",
       "51. 5\n",
       "52. 5.1\n",
       "53. 5.2\n",
       "54. 5.3\n",
       "55. 5.4\n",
       "56. 5.5\n",
       "57. 5.6\n",
       "58. 5.7\n",
       "59. 5.8\n",
       "60. 5.9\n",
       "61. 6\n",
       "62. 6.1\n",
       "63. 6.2\n",
       "64. 6.3\n",
       "65. 6.4\n",
       "66. 6.5\n",
       "67. 6.6\n",
       "68. 6.7\n",
       "69. 6.8\n",
       "70. 6.9\n",
       "71. 7\n",
       "72. 7.1\n",
       "73. 7.2\n",
       "74. 7.3\n",
       "75. 7.4\n",
       "76. 7.5\n",
       "77. 7.6\n",
       "78. 7.7\n",
       "79. 7.8\n",
       "80. 7.9\n",
       "81. 8\n",
       "82. 8.1\n",
       "83. 8.2\n",
       "84. 8.3\n",
       "85. 8.4\n",
       "86. 8.5\n",
       "87. 8.6\n",
       "88. 8.7\n",
       "89. 8.8\n",
       "90. 8.9\n",
       "91. 9\n",
       "92. 9.1\n",
       "93. 9.2\n",
       "94. 9.3\n",
       "95. 9.4\n",
       "96. 9.5\n",
       "97. 9.6\n",
       "98. 9.7\n",
       "99. 9.8\n",
       "100. 9.9\n",
       "101. 10\n",
       "\n",
       "\n"
      ],
      "text/plain": [
       "  [1]  0.0  0.1  0.2  0.3  0.4  0.5  0.6  0.7  0.8  0.9  1.0  1.1  1.2  1.3  1.4\n",
       " [16]  1.5  1.6  1.7  1.8  1.9  2.0  2.1  2.2  2.3  2.4  2.5  2.6  2.7  2.8  2.9\n",
       " [31]  3.0  3.1  3.2  3.3  3.4  3.5  3.6  3.7  3.8  3.9  4.0  4.1  4.2  4.3  4.4\n",
       " [46]  4.5  4.6  4.7  4.8  4.9  5.0  5.1  5.2  5.3  5.4  5.5  5.6  5.7  5.8  5.9\n",
       " [61]  6.0  6.1  6.2  6.3  6.4  6.5  6.6  6.7  6.8  6.9  7.0  7.1  7.2  7.3  7.4\n",
       " [76]  7.5  7.6  7.7  7.8  7.9  8.0  8.1  8.2  8.3  8.4  8.5  8.6  8.7  8.8  8.9\n",
       " [91]  9.0  9.1  9.2  9.3  9.4  9.5  9.6  9.7  9.8  9.9 10.0"
      ]
     },
     "metadata": {},
     "output_type": "display_data"
    }
   ],
   "source": [
    "x_ax = seq(0,10,0.1)\n",
    "c(x_ax)"
   ]
  },
  {
   "cell_type": "code",
   "execution_count": 6,
   "id": "19d375c1",
   "metadata": {},
   "outputs": [
    {
     "data": {
      "text/html": [
       "<strong>png:</strong> 2"
      ],
      "text/latex": [
       "\\textbf{png:} 2"
      ],
      "text/markdown": [
       "**png:** 2"
      ],
      "text/plain": [
       "png \n",
       "  2 "
      ]
     },
     "metadata": {},
     "output_type": "display_data"
    },
    {
     "data": {
      "image/png": "[encoded data removed]"
     },
     "metadata": {},
     "output_type": "display_data"
    }
   ],
   "source": [
    "set.seed(123)\n",
    "x1 = cumsum(rnorm(50))/5\n",
    "\n",
    "png(\"03-sample.png\", width=400, height = 400) \n",
    "par(cex=1.5)\n",
    "plot(x1, xlab=\"\", ylab=\"\", xlim=c(0,50), ylim=c(-5,5), lwd=2, col=1, xaxt=\"n\")\n",
    "axis(1, at=seq(0, 50, by=10), \n",
    "     labels=expression(0, 2, 4, 6, 8, 10))\n",
    "legend(\"bottomright\", legend=c(\"densely\"), lty=1, col=1)\n",
    "grid()\n",
    "\n",
    "dev.off()\n",
    "png_data <- readBin(\"03-sample.png\", \"raw\", file.size(\"03-sample.png\"))\n",
    "display_png(png_data)"
   ]
  },
  {
   "cell_type": "code",
   "execution_count": 7,
   "id": "0d613d67",
   "metadata": {},
   "outputs": [
    {
     "data": {
      "text/html": [
       "<strong>png:</strong> 2"
      ],
      "text/latex": [
       "\\textbf{png:} 2"
      ],
      "text/markdown": [
       "**png:** 2"
      ],
      "text/plain": [
       "png \n",
       "  2 "
      ]
     },
     "metadata": {},
     "output_type": "display_data"
    },
    {
     "data": {
      "image/png": "[encoded data removed]"
     },
     "metadata": {},
     "output_type": "display_data"
    }
   ],
   "source": [
    "set.seed(123)\n",
    "x2 = cumsum(rnorm(10))\n",
    "\n",
    "png(\"04-sample.png\", width=400, height = 400) \n",
    "par(cex=1.5)\n",
    "plot(x2, xlab=\"\", ylab=\"\", xlim=c(0,10), ylim=c(-5,5), lwd=2, col=2)\n",
    "legend(\"bottomright\", legend=c(\"sparse\"), lty=1, col=2)\n",
    "grid()\n",
    "\n",
    "dev.off()\n",
    "png_data <- readBin(\"04-sample.png\", \"raw\", file.size(\"04-sample.png\"))\n",
    "display_png(png_data)"
   ]
  },
  {
   "cell_type": "markdown",
   "id": "b8e30f6d",
   "metadata": {},
   "source": [
    "## 1.1 Basis expansion"
   ]
  },
  {
   "cell_type": "code",
   "execution_count": 8,
   "id": "b97f6d30",
   "metadata": {},
   "outputs": [
    {
     "data": {
      "text/html": [
       "<strong>png:</strong> 2"
      ],
      "text/latex": [
       "\\textbf{png:} 2"
      ],
      "text/markdown": [
       "**png:** 2"
      ],
      "text/plain": [
       "png \n",
       "  2 "
      ]
     },
     "metadata": {},
     "output_type": "display_data"
    },
    {
     "data": {
      "image/png": "[encoded data removed]"
     },
     "metadata": {},
     "output_type": "display_data"
    }
   ],
   "source": [
    "png(\"110_bsp.png\", width=400, height = 400) \n",
    "par(cex=1.2)\n",
    "spline.basis = create.bspline.basis(rangeval=c(0,10), nbasis=5, norder=4)\n",
    "plot(spline.basis)\n",
    "grid()\n",
    "\n",
    "dev.off()\n",
    "png_data <- readBin(\"110_bsp.png\", \"raw\", file.size(\"110_bsp.png\"))\n",
    "display_png(png_data)"
   ]
  },
  {
   "cell_type": "code",
   "execution_count": 9,
   "id": "8fa41e14",
   "metadata": {},
   "outputs": [
    {
     "data": {
      "text/html": [
       "<strong>png:</strong> 2"
      ],
      "text/latex": [
       "\\textbf{png:} 2"
      ],
      "text/markdown": [
       "**png:** 2"
      ],
      "text/plain": [
       "png \n",
       "  2 "
      ]
     },
     "metadata": {},
     "output_type": "display_data"
    },
    {
     "data": {
      "image/png": "[encoded data removed]"
     },
     "metadata": {},
     "output_type": "display_data"
    }
   ],
   "source": [
    "png(\"111_fou.png\", width=400, height = 400) \n",
    "par(cex=1.2)\n",
    "fourier.basis = create.fourier.basis(rangeval=c(0,10), nbasis=5)\n",
    "plot(fourier.basis, xaxt=\"n\")\n",
    "axis(1, at=seq(0, 3*pi, by=pi/2), \n",
    "     labels=expression(0, 1/2*pi, pi, 3/2*pi, 2*pi, 5/2*pi, 3*pi))\n",
    "grid()\n",
    "\n",
    "dev.off()\n",
    "png_data <- readBin(\"111_fou.png\", \"raw\", file.size(\"111_fou.png\"))\n",
    "display_png(png_data)"
   ]
  },
  {
   "cell_type": "code",
   "execution_count": 10,
   "id": "6b2d01c2",
   "metadata": {},
   "outputs": [
    {
     "data": {
      "text/html": [
       "<strong>png:</strong> 2"
      ],
      "text/latex": [
       "\\textbf{png:} 2"
      ],
      "text/markdown": [
       "**png:** 2"
      ],
      "text/plain": [
       "png \n",
       "  2 "
      ]
     },
     "metadata": {},
     "output_type": "display_data"
    },
    {
     "data": {
      "image/png": "[encoded data removed]"
     },
     "metadata": {},
     "output_type": "display_data"
    }
   ],
   "source": [
    "set.seed(123)\n",
    "Wiener = cumsum(rnorm(10000))/100\n",
    "\n",
    "png(\"112_wie.png\", width=500, height = 500) \n",
    "par(cex=1.2)\n",
    "plot.ts(Wiener, xlab=\"t\", ylab=\"W(t)\")\n",
    "grid()\n",
    "\n",
    "dev.off()\n",
    "png_data <- readBin(\"112_wie.png\", \"raw\", file.size(\"112_wie.png\"))\n",
    "display_png(png_data)"
   ]
  },
  {
   "cell_type": "code",
   "execution_count": 11,
   "id": "a855950c",
   "metadata": {},
   "outputs": [
    {
     "data": {
      "text/html": [
       "<strong>png:</strong> 2"
      ],
      "text/latex": [
       "\\textbf{png:} 2"
      ],
      "text/markdown": [
       "**png:** 2"
      ],
      "text/plain": [
       "png \n",
       "  2 "
      ]
     },
     "metadata": {},
     "output_type": "display_data"
    },
    {
     "data": {
      "image/png": "[encoded data removed]"
     },
     "metadata": {},
     "output_type": "display_data"
    }
   ],
   "source": [
    "set.seed(123)\n",
    "Wiener = cumsum(rnorm(10000))/100\n",
    "\n",
    "png(\"113_w25.png\", width=500, height = 500) \n",
    "par(cex=1.2)\n",
    "plot.ts(Wiener, xlab=\"t\", ylab=\"W(t)\")\n",
    "B25.basis = create.bspline.basis(rangeval=c(0,10000), nbasis=25)\n",
    "Wiener.fd = smooth.basis(y=Wiener, fdParobj = B25.basis)\n",
    "lines(Wiener.fd, lwd=3, col=\"red\")\n",
    "grid()\n",
    "\n",
    "dev.off()\n",
    "png_data <- readBin(\"113_w25.png\", \"raw\", file.size(\"113_w25.png\"))\n",
    "display_png(png_data)"
   ]
  },
  {
   "cell_type": "code",
   "execution_count": 12,
   "id": "01ed25d7",
   "metadata": {},
   "outputs": [
    {
     "data": {
      "text/html": [
       "<strong>png:</strong> 2"
      ],
      "text/latex": [
       "\\textbf{png:} 2"
      ],
      "text/markdown": [
       "**png:** 2"
      ],
      "text/plain": [
       "png \n",
       "  2 "
      ]
     },
     "metadata": {},
     "output_type": "display_data"
    },
    {
     "data": {
      "image/png": "[encoded data removed]"
     },
     "metadata": {},
     "output_type": "display_data"
    }
   ],
   "source": [
    "set.seed(123)\n",
    "Wiener = cumsum(rnorm(10000))/100\n",
    "\n",
    "png(\"114_w5.png\", width=500, height = 500) \n",
    "par(cex=1.2)\n",
    "plot.ts(Wiener, xlab=\"t\", ylab=\"W(t)\")\n",
    "B25.basis = create.bspline.basis(rangeval=c(0,10000), nbasis=5)\n",
    "Wiener.fd = smooth.basis(y=Wiener, fdParobj = B25.basis)\n",
    "lines(Wiener.fd, lwd=3, col=\"red\")\n",
    "grid()\n",
    "\n",
    "dev.off()\n",
    "png_data <- readBin(\"114_w5.png\", \"raw\", file.size(\"114_w5.png\"))\n",
    "display_png(png_data)"
   ]
  },
  {
   "cell_type": "markdown",
   "id": "01077362",
   "metadata": {},
   "source": [
    "## 1.2 Sample mean and covariance"
   ]
  },
  {
   "cell_type": "code",
   "execution_count": 43,
   "id": "6a48bf15",
   "metadata": {},
   "outputs": [
    {
     "data": {
      "text/html": [
       "'done'"
      ],
      "text/latex": [
       "'done'"
      ],
      "text/markdown": [
       "'done'"
      ],
      "text/plain": [
       "[1] \"done\""
      ]
     },
     "metadata": {},
     "output_type": "display_data"
    },
    {
     "data": {
      "text/html": [
       "<strong>png:</strong> 2"
      ],
      "text/latex": [
       "\\textbf{png:} 2"
      ],
      "text/markdown": [
       "**png:** 2"
      ],
      "text/plain": [
       "png \n",
       "  2 "
      ]
     },
     "metadata": {},
     "output_type": "display_data"
    },
    {
     "data": {
      "image/png": "[encoded data removed]"
     },
     "metadata": {},
     "output_type": "display_data"
    }
   ],
   "source": [
    "set.seed(123)\n",
    "N = 50\n",
    "W_mat = matrix(0, ncol=N, nrow=10000)\n",
    "for(n in 1:N){\n",
    "    W_mat[, n] = cumsum(rnorm(10000)/100)\n",
    "}\n",
    "B25_basis = create.bspline.basis(rangeval=c(0,10000), nbasis=25)\n",
    "W_fd = smooth.basis(y=W_mat, fdParobj=B25_basis)\n",
    "\n",
    "png(\"121_mean.png\", width=500, height = 500) \n",
    "par(cex=1.2)\n",
    "plot(W_fd, ylab=\"\", xlab=\"\", col=\"gray\", lty=1)\n",
    "W_mean = mean.fd(W_fd$fd)\n",
    "W_sd = std.fd(W_fd$fd)\n",
    "lines(W_sd, lwd=2)\n",
    "lines(W_mean, lty=2, lwd=2)\n",
    "legend(\"bottomright\", legend=c(\"sample\", \"mean\", \"SD\",\"0\"), lty=c(\"solid\",  \"dashed\", \"solid\", \"dotted\"), col=c(\"gray\", \"black\", \"black\", \"black\"))\n",
    "\n",
    "dev.off()\n",
    "png_data <- readBin(\"121_mean.png\", \"raw\", file.size(\"121_mean.png\"))\n",
    "display_png(png_data)"
   ]
  },
  {
   "cell_type": "code",
   "execution_count": 44,
   "id": "dca89345",
   "metadata": {},
   "outputs": [
    {
     "name": "stdout",
     "output_type": "stream",
     "text": [
      "List of 3\n",
      " $ coefs  : num [1:25, 1:50] -0.01219 0.07184 0.00152 0.23244 0.13722 ...\n",
      "  ..- attr(*, \"dimnames\")=List of 2\n",
      "  .. ..$ : chr [1:25] \"bspl4.1\" \"bspl4.2\" \"bspl4.3\" \"bspl4.4\" ...\n",
      "  .. ..$ : NULL\n",
      " $ basis  :List of 10\n",
      "  ..$ call       : language basisfd(type = type, rangeval = rangeval, nbasis = nbasis, params = params,      dropind = dropind, quadvals = qu| __truncated__\n",
      "  ..$ type       : chr \"bspline\"\n",
      "  ..$ rangeval   : num [1:2] 0 10000\n",
      "  ..$ nbasis     : num 25\n",
      "  ..$ params     : num [1:21] 455 909 1364 1818 2273 ...\n",
      "  ..$ dropind    : NULL\n",
      "  ..$ quadvals   : NULL\n",
      "  ..$ values     : list()\n",
      "  ..$ basisvalues: list()\n",
      "  ..$ names      : chr [1:25] \"bspl4.1\" \"bspl4.2\" \"bspl4.3\" \"bspl4.4\" ...\n",
      "  ..- attr(*, \"class\")= chr \"basisfd\"\n",
      " $ fdnames:List of 3\n",
      "  ..$ time  : int [1:10000] 1 2 3 4 5 6 7 8 9 10 ...\n",
      "  ..$ reps  : chr [1:50] \"rep1\" \"rep2\" \"rep3\" \"rep4\" ...\n",
      "  ..$ values: chr \"value\"\n",
      " - attr(*, \"class\")= chr \"fd\"\n"
     ]
    }
   ],
   "source": [
    "str(W_fd$fd)"
   ]
  },
  {
   "cell_type": "code",
   "execution_count": 45,
   "id": "5962f825",
   "metadata": {},
   "outputs": [
    {
     "data": {
      "text/html": [
       "'done'"
      ],
      "text/latex": [
       "'done'"
      ],
      "text/markdown": [
       "'done'"
      ],
      "text/plain": [
       "[1] \"done\""
      ]
     },
     "metadata": {},
     "output_type": "display_data"
    },
    {
     "data": {
      "image/png": "[encoded data removed]",
      "text/plain": [
       "plot without title"
      ]
     },
     "metadata": {
      "image/png": {
       "height": 420,
       "width": 420
      }
     },
     "output_type": "display_data"
    }
   ],
   "source": [
    "plot(W_fd)"
   ]
  },
  {
   "cell_type": "code",
   "execution_count": 46,
   "id": "66826409",
   "metadata": {},
   "outputs": [
    {
     "data": {
      "text/html": [
       "<strong>png:</strong> 2"
      ],
      "text/latex": [
       "\\textbf{png:} 2"
      ],
      "text/markdown": [
       "**png:** 2"
      ],
      "text/plain": [
       "png \n",
       "  2 "
      ]
     },
     "metadata": {},
     "output_type": "display_data"
    },
    {
     "data": {
      "image/png": "[encoded data removed]"
     },
     "metadata": {},
     "output_type": "display_data"
    }
   ],
   "source": [
    "png(\"122_cov.png\", width=1000, height = 500) \n",
    "par(mfrow=c(1,2), cex=1.2)\n",
    "\n",
    "W_cov = var.fd(W_fd$fd)\n",
    "grid = (1:100)*100\n",
    "W_cov_mat = eval.bifd(grid, grid, W_cov)\n",
    "persp(grid, grid, W_cov_mat, xlab=\"s\",\n",
    "        ylab=\"t\", zlab=\"c(s,t)\"\n",
    ")\n",
    "contour(grid, grid, W_cov_mat, lwd=2)\n",
    "\n",
    "dev.off()\n",
    "png_data <- readBin(\"122_cov.png\", \"raw\", file.size(\"122_cov.png\"))\n",
    "display_png(png_data)"
   ]
  },
  {
   "cell_type": "markdown",
   "id": "d1cd9266",
   "metadata": {},
   "source": [
    "## 1.3 Principal component function    "
   ]
  },
  {
   "cell_type": "code",
   "execution_count": 47,
   "id": "39578d88",
   "metadata": {},
   "outputs": [
    {
     "data": {
      "text/html": [
       "'done'"
      ],
      "text/latex": [
       "'done'"
      ],
      "text/markdown": [
       "'done'"
      ],
      "text/plain": [
       "[1] \"done\""
      ]
     },
     "metadata": {},
     "output_type": "display_data"
    },
    {
     "data": {
      "image/png": "[encoded data removed]",
      "text/plain": [
       "plot without title"
      ]
     },
     "metadata": {
      "image/png": {
       "height": 420,
       "width": 420
      }
     },
     "output_type": "display_data"
    }
   ],
   "source": [
    "set.seed(123)\n",
    "N = 50\n",
    "W_mat = matrix(0, ncol=N, nrow=10000)\n",
    "for(n in 1:N){\n",
    "    W_mat[, n] = cumsum(rnorm(10000)/100)\n",
    "}\n",
    "B25_basis = create.bspline.basis(rangeval=c(0,10000), nbasis=25)\n",
    "W_fd = smooth.basis(y=W_mat, fdParobj=B25_basis)\n",
    "plot(W_fd, ylab=\"\", xlab=\"\", col=\"gray\", lty=1)"
   ]
  },
  {
   "cell_type": "code",
   "execution_count": 77,
   "id": "d26fcfe0",
   "metadata": {},
   "outputs": [
    {
     "data": {
      "text/html": [
       "'done'"
      ],
      "text/latex": [
       "'done'"
      ],
      "text/markdown": [
       "'done'"
      ],
      "text/plain": [
       "[1] \"done\""
      ]
     },
     "metadata": {},
     "output_type": "display_data"
    },
    {
     "name": "stdout",
     "output_type": "stream",
     "text": [
      "0.8614332 0.07008462 0.02193785 0.01387032 \n",
      "0.8614332 0.9315178 0.9534557 0.967326 \n"
     ]
    },
    {
     "data": {
      "text/html": [
       "<strong>png:</strong> 2"
      ],
      "text/latex": [
       "\\textbf{png:} 2"
      ],
      "text/markdown": [
       "**png:** 2"
      ],
      "text/plain": [
       "png \n",
       "  2 "
      ]
     },
     "metadata": {},
     "output_type": "display_data"
    },
    {
     "data": {
      "image/png": "[encoded data removed]"
     },
     "metadata": {},
     "output_type": "display_data"
    }
   ],
   "source": [
    "png(\"131_pri.png\", width=500, height = 500) \n",
    "par(cex=1.2)\n",
    "\n",
    "W_pca = pca.fd(W_fd$fd, nharm=4)\n",
    "plot(W_pca$harmonics, lwd=2)\n",
    "\n",
    "colnames = paste0(\"PC\", 1:ncol(W_pca$harmonics$coefs))\n",
    "legend(\"bottomleft\", legend=colnames, col=1:ncol(W_pca$harmonics$coefs), lwd=2)\n",
    "\n",
    "cat(W_pca$varprop,\"\\n\")\n",
    "cat(cumsum(W_pca$varprop),\"\\n\")\n",
    "\n",
    "dev.off()\n",
    "png_data <- readBin(\"131_pri.png\", \"raw\", file.size(\"131_pri.png\"))\n",
    "display_png(png_data)"
   ]
  },
  {
   "cell_type": "markdown",
   "id": "f6a0f32a",
   "metadata": {},
   "source": [
    "## 1.4 Analysis ofBOA stock returns"
   ]
  },
  {
   "cell_type": "markdown",
   "id": "5e5ed072",
   "metadata": {},
   "source": [
    "1行目： BOAという名前のデータフレームをcsvファイルから読み込みます。ファイルは、GitHubリポジトリからダウンロードされます。header=TRUEは、ファイルの最初の行にヘッダー（列名）があることを示し、sep = \" \"は列を区切るために空白を使用することを指定します。dec = \",\"は10進数のセパレーターがカンマであることを指定します。\n",
    "\n",
    "2行目： BOAの日付列を取り出します。\n",
    "\n",
    "3行目： BOAデータフレームから日付列を除きます。\n",
    "\n",
    "4行目： BOAデータフレームを行列に変換します。\n",
    "\n",
    "5行目： \"08/26/2004\"という日付の行を除外します。この行が外れ値であると判断されたためです。\n",
    "\n",
    "6行目： BOA行列の行数（観測数）をnに、列数（変数の数）をJに代入します。\n",
    "\n",
    "7行目： Timesは、0から6.5までの値をJ個の等間隔な区間に分割したベクトルを作成します。これは、後でBスプライン基底関数を評価するために使用されます。"
   ]
  },
  {
   "cell_type": "code",
   "execution_count": 78,
   "id": "5d738ca9",
   "metadata": {},
   "outputs": [
    {
     "data": {
      "text/html": [
       "<table class=\"dataframe\">\n",
       "<caption>A data.frame: 6 × 391</caption>\n",
       "<thead>\n",
       "\t<tr><th></th><th scope=col>date</th><th scope=col>price.09.30</th><th scope=col>price.09.31</th><th scope=col>price.09.32</th><th scope=col>price.09.33</th><th scope=col>price.09.34</th><th scope=col>price.09.35</th><th scope=col>price.09.36</th><th scope=col>price.09.37</th><th scope=col>price.09.38</th><th scope=col>...</th><th scope=col>price.15.50</th><th scope=col>price.15.51</th><th scope=col>price.15.52</th><th scope=col>price.15.53</th><th scope=col>price.15.54</th><th scope=col>price.15.55</th><th scope=col>price.15.56</th><th scope=col>price.15.57</th><th scope=col>price.15.58</th><th scope=col>price.15.59</th></tr>\n",
       "\t<tr><th></th><th scope=col>&lt;chr&gt;</th><th scope=col>&lt;dbl&gt;</th><th scope=col>&lt;dbl&gt;</th><th scope=col>&lt;dbl&gt;</th><th scope=col>&lt;dbl&gt;</th><th scope=col>&lt;dbl&gt;</th><th scope=col>&lt;dbl&gt;</th><th scope=col>&lt;dbl&gt;</th><th scope=col>&lt;dbl&gt;</th><th scope=col>&lt;dbl&gt;</th><th scope=col>...</th><th scope=col>&lt;dbl&gt;</th><th scope=col>&lt;dbl&gt;</th><th scope=col>&lt;dbl&gt;</th><th scope=col>&lt;dbl&gt;</th><th scope=col>&lt;dbl&gt;</th><th scope=col>&lt;dbl&gt;</th><th scope=col>&lt;dbl&gt;</th><th scope=col>&lt;dbl&gt;</th><th scope=col>&lt;dbl&gt;</th><th scope=col>&lt;dbl&gt;</th></tr>\n",
       "</thead>\n",
       "<tbody>\n",
       "\t<tr><th scope=row>1</th><td>04/09/1997</td><td>53.84375</td><td>53.84375</td><td>53.87500</td><td>53.87500</td><td>53.84375</td><td>53.87500</td><td>53.87500</td><td>53.90625</td><td>53.90625</td><td>...</td><td>53.21875</td><td>53.20312</td><td>53.18750</td><td>53.18750</td><td>53.18750</td><td>53.18750</td><td>53.21875</td><td>53.18750</td><td>53.18750</td><td>53.18750</td></tr>\n",
       "\t<tr><th scope=row>2</th><td>04/10/1997</td><td>53.15625</td><td>53.12500</td><td>53.12500</td><td>53.06250</td><td>53.06250</td><td>53.00000</td><td>53.00000</td><td>53.06250</td><td>53.00000</td><td>...</td><td>52.81250</td><td>52.81250</td><td>52.81250</td><td>52.81250</td><td>52.81250</td><td>52.87500</td><td>52.87500</td><td>52.87500</td><td>52.87500</td><td>52.87500</td></tr>\n",
       "\t<tr><th scope=row>3</th><td>04/11/1997</td><td>51.81250</td><td>51.81250</td><td>51.81250</td><td>51.81250</td><td>51.81250</td><td>51.81250</td><td>51.81250</td><td>51.81250</td><td>51.81250</td><td>...</td><td>51.00000</td><td>51.00000</td><td>51.00000</td><td>51.00000</td><td>50.93750</td><td>50.90625</td><td>50.84375</td><td>50.75000</td><td>50.78125</td><td>50.81250</td></tr>\n",
       "\t<tr><th scope=row>4</th><td>04/14/1997</td><td>50.75000</td><td>50.75000</td><td>50.75000</td><td>50.75000</td><td>50.84375</td><td>50.81250</td><td>50.81250</td><td>50.84375</td><td>50.62500</td><td>...</td><td>51.87500</td><td>51.87500</td><td>51.81250</td><td>51.96875</td><td>52.06250</td><td>52.03125</td><td>52.03125</td><td>51.96875</td><td>51.96875</td><td>52.00000</td></tr>\n",
       "\t<tr><th scope=row>5</th><td>04/15/1997</td><td>53.62500</td><td>53.62500</td><td>53.59375</td><td>53.53125</td><td>53.62500</td><td>53.56250</td><td>53.50000</td><td>53.56250</td><td>53.53125</td><td>...</td><td>53.28125</td><td>53.28125</td><td>53.25000</td><td>53.31250</td><td>53.34375</td><td>53.37500</td><td>53.31250</td><td>53.12500</td><td>53.03125</td><td>53.03125</td></tr>\n",
       "\t<tr><th scope=row>6</th><td>04/16/1997</td><td>52.78125</td><td>52.78125</td><td>52.78125</td><td>52.78125</td><td>52.78125</td><td>52.71875</td><td>52.65625</td><td>52.59375</td><td>52.56250</td><td>...</td><td>52.03125</td><td>51.93750</td><td>51.84375</td><td>51.84375</td><td>51.81250</td><td>51.85938</td><td>51.90625</td><td>51.96875</td><td>51.96875</td><td>51.93750</td></tr>\n",
       "</tbody>\n",
       "</table>\n"
      ],
      "text/latex": [
       "A data.frame: 6 × 391\n",
       "\\begin{tabular}{r|lllllllllllllllllllll}\n",
       "  & date & price.09.30 & price.09.31 & price.09.32 & price.09.33 & price.09.34 & price.09.35 & price.09.36 & price.09.37 & price.09.38 & ... & price.15.50 & price.15.51 & price.15.52 & price.15.53 & price.15.54 & price.15.55 & price.15.56 & price.15.57 & price.15.58 & price.15.59\\\\\n",
       "  & <chr> & <dbl> & <dbl> & <dbl> & <dbl> & <dbl> & <dbl> & <dbl> & <dbl> & <dbl> & ... & <dbl> & <dbl> & <dbl> & <dbl> & <dbl> & <dbl> & <dbl> & <dbl> & <dbl> & <dbl>\\\\\n",
       "\\hline\n",
       "\t1 & 04/09/1997 & 53.84375 & 53.84375 & 53.87500 & 53.87500 & 53.84375 & 53.87500 & 53.87500 & 53.90625 & 53.90625 & ... & 53.21875 & 53.20312 & 53.18750 & 53.18750 & 53.18750 & 53.18750 & 53.21875 & 53.18750 & 53.18750 & 53.18750\\\\\n",
       "\t2 & 04/10/1997 & 53.15625 & 53.12500 & 53.12500 & 53.06250 & 53.06250 & 53.00000 & 53.00000 & 53.06250 & 53.00000 & ... & 52.81250 & 52.81250 & 52.81250 & 52.81250 & 52.81250 & 52.87500 & 52.87500 & 52.87500 & 52.87500 & 52.87500\\\\\n",
       "\t3 & 04/11/1997 & 51.81250 & 51.81250 & 51.81250 & 51.81250 & 51.81250 & 51.81250 & 51.81250 & 51.81250 & 51.81250 & ... & 51.00000 & 51.00000 & 51.00000 & 51.00000 & 50.93750 & 50.90625 & 50.84375 & 50.75000 & 50.78125 & 50.81250\\\\\n",
       "\t4 & 04/14/1997 & 50.75000 & 50.75000 & 50.75000 & 50.75000 & 50.84375 & 50.81250 & 50.81250 & 50.84375 & 50.62500 & ... & 51.87500 & 51.87500 & 51.81250 & 51.96875 & 52.06250 & 52.03125 & 52.03125 & 51.96875 & 51.96875 & 52.00000\\\\\n",
       "\t5 & 04/15/1997 & 53.62500 & 53.62500 & 53.59375 & 53.53125 & 53.62500 & 53.56250 & 53.50000 & 53.56250 & 53.53125 & ... & 53.28125 & 53.28125 & 53.25000 & 53.31250 & 53.34375 & 53.37500 & 53.31250 & 53.12500 & 53.03125 & 53.03125\\\\\n",
       "\t6 & 04/16/1997 & 52.78125 & 52.78125 & 52.78125 & 52.78125 & 52.78125 & 52.71875 & 52.65625 & 52.59375 & 52.56250 & ... & 52.03125 & 51.93750 & 51.84375 & 51.84375 & 51.81250 & 51.85938 & 51.90625 & 51.96875 & 51.96875 & 51.93750\\\\\n",
       "\\end{tabular}\n"
      ],
      "text/markdown": [
       "\n",
       "A data.frame: 6 × 391\n",
       "\n",
       "| <!--/--> | date &lt;chr&gt; | price.09.30 &lt;dbl&gt; | price.09.31 &lt;dbl&gt; | price.09.32 &lt;dbl&gt; | price.09.33 &lt;dbl&gt; | price.09.34 &lt;dbl&gt; | price.09.35 &lt;dbl&gt; | price.09.36 &lt;dbl&gt; | price.09.37 &lt;dbl&gt; | price.09.38 &lt;dbl&gt; | ... ... | price.15.50 &lt;dbl&gt; | price.15.51 &lt;dbl&gt; | price.15.52 &lt;dbl&gt; | price.15.53 &lt;dbl&gt; | price.15.54 &lt;dbl&gt; | price.15.55 &lt;dbl&gt; | price.15.56 &lt;dbl&gt; | price.15.57 &lt;dbl&gt; | price.15.58 &lt;dbl&gt; | price.15.59 &lt;dbl&gt; |\n",
       "|---|---|---|---|---|---|---|---|---|---|---|---|---|---|---|---|---|---|---|---|---|---|\n",
       "| 1 | 04/09/1997 | 53.84375 | 53.84375 | 53.87500 | 53.87500 | 53.84375 | 53.87500 | 53.87500 | 53.90625 | 53.90625 | ... | 53.21875 | 53.20312 | 53.18750 | 53.18750 | 53.18750 | 53.18750 | 53.21875 | 53.18750 | 53.18750 | 53.18750 |\n",
       "| 2 | 04/10/1997 | 53.15625 | 53.12500 | 53.12500 | 53.06250 | 53.06250 | 53.00000 | 53.00000 | 53.06250 | 53.00000 | ... | 52.81250 | 52.81250 | 52.81250 | 52.81250 | 52.81250 | 52.87500 | 52.87500 | 52.87500 | 52.87500 | 52.87500 |\n",
       "| 3 | 04/11/1997 | 51.81250 | 51.81250 | 51.81250 | 51.81250 | 51.81250 | 51.81250 | 51.81250 | 51.81250 | 51.81250 | ... | 51.00000 | 51.00000 | 51.00000 | 51.00000 | 50.93750 | 50.90625 | 50.84375 | 50.75000 | 50.78125 | 50.81250 |\n",
       "| 4 | 04/14/1997 | 50.75000 | 50.75000 | 50.75000 | 50.75000 | 50.84375 | 50.81250 | 50.81250 | 50.84375 | 50.62500 | ... | 51.87500 | 51.87500 | 51.81250 | 51.96875 | 52.06250 | 52.03125 | 52.03125 | 51.96875 | 51.96875 | 52.00000 |\n",
       "| 5 | 04/15/1997 | 53.62500 | 53.62500 | 53.59375 | 53.53125 | 53.62500 | 53.56250 | 53.50000 | 53.56250 | 53.53125 | ... | 53.28125 | 53.28125 | 53.25000 | 53.31250 | 53.34375 | 53.37500 | 53.31250 | 53.12500 | 53.03125 | 53.03125 |\n",
       "| 6 | 04/16/1997 | 52.78125 | 52.78125 | 52.78125 | 52.78125 | 52.78125 | 52.71875 | 52.65625 | 52.59375 | 52.56250 | ... | 52.03125 | 51.93750 | 51.84375 | 51.84375 | 51.81250 | 51.85938 | 51.90625 | 51.96875 | 51.96875 | 51.93750 |\n",
       "\n"
      ],
      "text/plain": [
       "  date       price.09.30 price.09.31 price.09.32 price.09.33 price.09.34\n",
       "1 04/09/1997 53.84375    53.84375    53.87500    53.87500    53.84375   \n",
       "2 04/10/1997 53.15625    53.12500    53.12500    53.06250    53.06250   \n",
       "3 04/11/1997 51.81250    51.81250    51.81250    51.81250    51.81250   \n",
       "4 04/14/1997 50.75000    50.75000    50.75000    50.75000    50.84375   \n",
       "5 04/15/1997 53.62500    53.62500    53.59375    53.53125    53.62500   \n",
       "6 04/16/1997 52.78125    52.78125    52.78125    52.78125    52.78125   \n",
       "  price.09.35 price.09.36 price.09.37 price.09.38 ... price.15.50 price.15.51\n",
       "1 53.87500    53.87500    53.90625    53.90625    ... 53.21875    53.20312   \n",
       "2 53.00000    53.00000    53.06250    53.00000    ... 52.81250    52.81250   \n",
       "3 51.81250    51.81250    51.81250    51.81250    ... 51.00000    51.00000   \n",
       "4 50.81250    50.81250    50.84375    50.62500    ... 51.87500    51.87500   \n",
       "5 53.56250    53.50000    53.56250    53.53125    ... 53.28125    53.28125   \n",
       "6 52.71875    52.65625    52.59375    52.56250    ... 52.03125    51.93750   \n",
       "  price.15.52 price.15.53 price.15.54 price.15.55 price.15.56 price.15.57\n",
       "1 53.18750    53.18750    53.18750    53.18750    53.21875    53.18750   \n",
       "2 52.81250    52.81250    52.81250    52.87500    52.87500    52.87500   \n",
       "3 51.00000    51.00000    50.93750    50.90625    50.84375    50.75000   \n",
       "4 51.81250    51.96875    52.06250    52.03125    52.03125    51.96875   \n",
       "5 53.25000    53.31250    53.34375    53.37500    53.31250    53.12500   \n",
       "6 51.84375    51.84375    51.81250    51.85938    51.90625    51.96875   \n",
       "  price.15.58 price.15.59\n",
       "1 53.18750    53.18750   \n",
       "2 52.87500    52.87500   \n",
       "3 50.78125    50.81250   \n",
       "4 51.96875    52.00000   \n",
       "5 53.03125    53.03125   \n",
       "6 51.96875    51.93750   "
      ]
     },
     "metadata": {},
     "output_type": "display_data"
    }
   ],
   "source": [
    "BOA_data = read.csv(file=\"https://raw.githubusercontent.com/lidom/Teaching_Repo/master/stock_prices.csv\", header=TRUE, sep=\" \", dec=\",\")\n",
    "head(BOA_data)"
   ]
  },
  {
   "cell_type": "code",
   "execution_count": 80,
   "id": "23fd1e07",
   "metadata": {},
   "outputs": [
    {
     "data": {
      "text/html": [
       "<table class=\"dataframe\">\n",
       "<caption>A data.frame: 6 × 391</caption>\n",
       "<thead>\n",
       "\t<tr><th></th><th scope=col>date</th><th scope=col>price.09.30</th><th scope=col>price.09.31</th><th scope=col>price.09.32</th><th scope=col>price.09.33</th><th scope=col>price.09.34</th><th scope=col>price.09.35</th><th scope=col>price.09.36</th><th scope=col>price.09.37</th><th scope=col>price.09.38</th><th scope=col>...</th><th scope=col>price.15.50</th><th scope=col>price.15.51</th><th scope=col>price.15.52</th><th scope=col>price.15.53</th><th scope=col>price.15.54</th><th scope=col>price.15.55</th><th scope=col>price.15.56</th><th scope=col>price.15.57</th><th scope=col>price.15.58</th><th scope=col>price.15.59</th></tr>\n",
       "\t<tr><th></th><th scope=col>&lt;chr&gt;</th><th scope=col>&lt;dbl&gt;</th><th scope=col>&lt;dbl&gt;</th><th scope=col>&lt;dbl&gt;</th><th scope=col>&lt;dbl&gt;</th><th scope=col>&lt;dbl&gt;</th><th scope=col>&lt;dbl&gt;</th><th scope=col>&lt;dbl&gt;</th><th scope=col>&lt;dbl&gt;</th><th scope=col>&lt;dbl&gt;</th><th scope=col>...</th><th scope=col>&lt;dbl&gt;</th><th scope=col>&lt;dbl&gt;</th><th scope=col>&lt;dbl&gt;</th><th scope=col>&lt;dbl&gt;</th><th scope=col>&lt;dbl&gt;</th><th scope=col>&lt;dbl&gt;</th><th scope=col>&lt;dbl&gt;</th><th scope=col>&lt;dbl&gt;</th><th scope=col>&lt;dbl&gt;</th><th scope=col>&lt;dbl&gt;</th></tr>\n",
       "</thead>\n",
       "<tbody>\n",
       "\t<tr><th scope=row>2506</th><td>03/26/2007</td><td>51.635</td><td>51.630</td><td>51.6500</td><td>51.620</td><td>51.58500</td><td>51.605</td><td>51.580</td><td>51.555</td><td>51.550</td><td>...</td><td>51.575</td><td>51.555</td><td>51.540</td><td>51.530</td><td>51.53000</td><td>51.530</td><td>51.530</td><td>51.530</td><td>51.525</td><td>51.535</td></tr>\n",
       "\t<tr><th scope=row>2507</th><td>03/27/2007</td><td>51.520</td><td>51.520</td><td>51.5350</td><td>51.525</td><td>51.52500</td><td>51.515</td><td>51.490</td><td>51.525</td><td>51.535</td><td>...</td><td>51.865</td><td>51.865</td><td>51.885</td><td>51.865</td><td>51.86500</td><td>51.830</td><td>51.850</td><td>51.840</td><td>51.825</td><td>51.820</td></tr>\n",
       "\t<tr><th scope=row>2508</th><td>03/28/2007</td><td>51.435</td><td>51.435</td><td>51.4325</td><td>51.415</td><td>51.39500</td><td>51.370</td><td>51.345</td><td>51.335</td><td>51.315</td><td>...</td><td>50.760</td><td>50.760</td><td>50.760</td><td>50.785</td><td>50.78500</td><td>50.815</td><td>50.815</td><td>50.785</td><td>50.745</td><td>50.730</td></tr>\n",
       "\t<tr><th scope=row>2509</th><td>03/29/2007</td><td>50.975</td><td>50.975</td><td>51.0900</td><td>51.135</td><td>51.13525</td><td>51.055</td><td>51.030</td><td>51.035</td><td>51.045</td><td>...</td><td>51.225</td><td>51.225</td><td>51.200</td><td>51.165</td><td>51.16000</td><td>51.190</td><td>51.200</td><td>51.210</td><td>51.200</td><td>51.180</td></tr>\n",
       "\t<tr><th scope=row>2510</th><td>03/30/2007</td><td>51.160</td><td>51.200</td><td>51.2050</td><td>51.130</td><td>51.08500</td><td>51.085</td><td>51.080</td><td>51.075</td><td>51.075</td><td>...</td><td>51.020</td><td>50.980</td><td>50.990</td><td>51.015</td><td>50.97525</td><td>50.920</td><td>50.880</td><td>50.895</td><td>50.960</td><td>50.985</td></tr>\n",
       "\t<tr><th scope=row>2511</th><td>04/02/2007</td><td>51.165</td><td>51.110</td><td>51.0600</td><td>50.940</td><td>50.86500</td><td>50.915</td><td>50.875</td><td>50.815</td><td>50.710</td><td>...</td><td>50.475</td><td>50.470</td><td>50.465</td><td>50.460</td><td>50.45500</td><td>50.460</td><td>50.470</td><td>50.475</td><td>50.470</td><td>50.450</td></tr>\n",
       "</tbody>\n",
       "</table>\n"
      ],
      "text/latex": [
       "A data.frame: 6 × 391\n",
       "\\begin{tabular}{r|lllllllllllllllllllll}\n",
       "  & date & price.09.30 & price.09.31 & price.09.32 & price.09.33 & price.09.34 & price.09.35 & price.09.36 & price.09.37 & price.09.38 & ... & price.15.50 & price.15.51 & price.15.52 & price.15.53 & price.15.54 & price.15.55 & price.15.56 & price.15.57 & price.15.58 & price.15.59\\\\\n",
       "  & <chr> & <dbl> & <dbl> & <dbl> & <dbl> & <dbl> & <dbl> & <dbl> & <dbl> & <dbl> & ... & <dbl> & <dbl> & <dbl> & <dbl> & <dbl> & <dbl> & <dbl> & <dbl> & <dbl> & <dbl>\\\\\n",
       "\\hline\n",
       "\t2506 & 03/26/2007 & 51.635 & 51.630 & 51.6500 & 51.620 & 51.58500 & 51.605 & 51.580 & 51.555 & 51.550 & ... & 51.575 & 51.555 & 51.540 & 51.530 & 51.53000 & 51.530 & 51.530 & 51.530 & 51.525 & 51.535\\\\\n",
       "\t2507 & 03/27/2007 & 51.520 & 51.520 & 51.5350 & 51.525 & 51.52500 & 51.515 & 51.490 & 51.525 & 51.535 & ... & 51.865 & 51.865 & 51.885 & 51.865 & 51.86500 & 51.830 & 51.850 & 51.840 & 51.825 & 51.820\\\\\n",
       "\t2508 & 03/28/2007 & 51.435 & 51.435 & 51.4325 & 51.415 & 51.39500 & 51.370 & 51.345 & 51.335 & 51.315 & ... & 50.760 & 50.760 & 50.760 & 50.785 & 50.78500 & 50.815 & 50.815 & 50.785 & 50.745 & 50.730\\\\\n",
       "\t2509 & 03/29/2007 & 50.975 & 50.975 & 51.0900 & 51.135 & 51.13525 & 51.055 & 51.030 & 51.035 & 51.045 & ... & 51.225 & 51.225 & 51.200 & 51.165 & 51.16000 & 51.190 & 51.200 & 51.210 & 51.200 & 51.180\\\\\n",
       "\t2510 & 03/30/2007 & 51.160 & 51.200 & 51.2050 & 51.130 & 51.08500 & 51.085 & 51.080 & 51.075 & 51.075 & ... & 51.020 & 50.980 & 50.990 & 51.015 & 50.97525 & 50.920 & 50.880 & 50.895 & 50.960 & 50.985\\\\\n",
       "\t2511 & 04/02/2007 & 51.165 & 51.110 & 51.0600 & 50.940 & 50.86500 & 50.915 & 50.875 & 50.815 & 50.710 & ... & 50.475 & 50.470 & 50.465 & 50.460 & 50.45500 & 50.460 & 50.470 & 50.475 & 50.470 & 50.450\\\\\n",
       "\\end{tabular}\n"
      ],
      "text/markdown": [
       "\n",
       "A data.frame: 6 × 391\n",
       "\n",
       "| <!--/--> | date &lt;chr&gt; | price.09.30 &lt;dbl&gt; | price.09.31 &lt;dbl&gt; | price.09.32 &lt;dbl&gt; | price.09.33 &lt;dbl&gt; | price.09.34 &lt;dbl&gt; | price.09.35 &lt;dbl&gt; | price.09.36 &lt;dbl&gt; | price.09.37 &lt;dbl&gt; | price.09.38 &lt;dbl&gt; | ... ... | price.15.50 &lt;dbl&gt; | price.15.51 &lt;dbl&gt; | price.15.52 &lt;dbl&gt; | price.15.53 &lt;dbl&gt; | price.15.54 &lt;dbl&gt; | price.15.55 &lt;dbl&gt; | price.15.56 &lt;dbl&gt; | price.15.57 &lt;dbl&gt; | price.15.58 &lt;dbl&gt; | price.15.59 &lt;dbl&gt; |\n",
       "|---|---|---|---|---|---|---|---|---|---|---|---|---|---|---|---|---|---|---|---|---|---|\n",
       "| 2506 | 03/26/2007 | 51.635 | 51.630 | 51.6500 | 51.620 | 51.58500 | 51.605 | 51.580 | 51.555 | 51.550 | ... | 51.575 | 51.555 | 51.540 | 51.530 | 51.53000 | 51.530 | 51.530 | 51.530 | 51.525 | 51.535 |\n",
       "| 2507 | 03/27/2007 | 51.520 | 51.520 | 51.5350 | 51.525 | 51.52500 | 51.515 | 51.490 | 51.525 | 51.535 | ... | 51.865 | 51.865 | 51.885 | 51.865 | 51.86500 | 51.830 | 51.850 | 51.840 | 51.825 | 51.820 |\n",
       "| 2508 | 03/28/2007 | 51.435 | 51.435 | 51.4325 | 51.415 | 51.39500 | 51.370 | 51.345 | 51.335 | 51.315 | ... | 50.760 | 50.760 | 50.760 | 50.785 | 50.78500 | 50.815 | 50.815 | 50.785 | 50.745 | 50.730 |\n",
       "| 2509 | 03/29/2007 | 50.975 | 50.975 | 51.0900 | 51.135 | 51.13525 | 51.055 | 51.030 | 51.035 | 51.045 | ... | 51.225 | 51.225 | 51.200 | 51.165 | 51.16000 | 51.190 | 51.200 | 51.210 | 51.200 | 51.180 |\n",
       "| 2510 | 03/30/2007 | 51.160 | 51.200 | 51.2050 | 51.130 | 51.08500 | 51.085 | 51.080 | 51.075 | 51.075 | ... | 51.020 | 50.980 | 50.990 | 51.015 | 50.97525 | 50.920 | 50.880 | 50.895 | 50.960 | 50.985 |\n",
       "| 2511 | 04/02/2007 | 51.165 | 51.110 | 51.0600 | 50.940 | 50.86500 | 50.915 | 50.875 | 50.815 | 50.710 | ... | 50.475 | 50.470 | 50.465 | 50.460 | 50.45500 | 50.460 | 50.470 | 50.475 | 50.470 | 50.450 |\n",
       "\n"
      ],
      "text/plain": [
       "     date       price.09.30 price.09.31 price.09.32 price.09.33 price.09.34\n",
       "2506 03/26/2007 51.635      51.630      51.6500     51.620      51.58500   \n",
       "2507 03/27/2007 51.520      51.520      51.5350     51.525      51.52500   \n",
       "2508 03/28/2007 51.435      51.435      51.4325     51.415      51.39500   \n",
       "2509 03/29/2007 50.975      50.975      51.0900     51.135      51.13525   \n",
       "2510 03/30/2007 51.160      51.200      51.2050     51.130      51.08500   \n",
       "2511 04/02/2007 51.165      51.110      51.0600     50.940      50.86500   \n",
       "     price.09.35 price.09.36 price.09.37 price.09.38 ... price.15.50\n",
       "2506 51.605      51.580      51.555      51.550      ... 51.575     \n",
       "2507 51.515      51.490      51.525      51.535      ... 51.865     \n",
       "2508 51.370      51.345      51.335      51.315      ... 50.760     \n",
       "2509 51.055      51.030      51.035      51.045      ... 51.225     \n",
       "2510 51.085      51.080      51.075      51.075      ... 51.020     \n",
       "2511 50.915      50.875      50.815      50.710      ... 50.475     \n",
       "     price.15.51 price.15.52 price.15.53 price.15.54 price.15.55 price.15.56\n",
       "2506 51.555      51.540      51.530      51.53000    51.530      51.530     \n",
       "2507 51.865      51.885      51.865      51.86500    51.830      51.850     \n",
       "2508 50.760      50.760      50.785      50.78500    50.815      50.815     \n",
       "2509 51.225      51.200      51.165      51.16000    51.190      51.200     \n",
       "2510 50.980      50.990      51.015      50.97525    50.920      50.880     \n",
       "2511 50.470      50.465      50.460      50.45500    50.460      50.470     \n",
       "     price.15.57 price.15.58 price.15.59\n",
       "2506 51.530      51.525      51.535     \n",
       "2507 51.840      51.825      51.820     \n",
       "2508 50.785      50.745      50.730     \n",
       "2509 51.210      51.200      51.180     \n",
       "2510 50.895      50.960      50.985     \n",
       "2511 50.475      50.470      50.450     "
      ]
     },
     "metadata": {},
     "output_type": "display_data"
    }
   ],
   "source": [
    "tail(BOA_data)"
   ]
  },
  {
   "cell_type": "code",
   "execution_count": 85,
   "id": "777c616c",
   "metadata": {},
   "outputs": [
    {
     "data": {
      "text/html": [
       "<style>\n",
       ".list-inline {list-style: none; margin:0; padding: 0}\n",
       ".list-inline>li {display: inline-block}\n",
       ".list-inline>li:not(:last-child)::after {content: \"\\00b7\"; padding: 0 .5ex}\n",
       "</style>\n",
       "<ol class=list-inline><li>'04/09/1997'</li><li>'04/10/1997'</li><li>'04/11/1997'</li><li>'04/14/1997'</li><li>'04/15/1997'</li><li>'04/16/1997'</li></ol>\n"
      ],
      "text/latex": [
       "\\begin{enumerate*}\n",
       "\\item '04/09/1997'\n",
       "\\item '04/10/1997'\n",
       "\\item '04/11/1997'\n",
       "\\item '04/14/1997'\n",
       "\\item '04/15/1997'\n",
       "\\item '04/16/1997'\n",
       "\\end{enumerate*}\n"
      ],
      "text/markdown": [
       "1. '04/09/1997'\n",
       "2. '04/10/1997'\n",
       "3. '04/11/1997'\n",
       "4. '04/14/1997'\n",
       "5. '04/15/1997'\n",
       "6. '04/16/1997'\n",
       "\n",
       "\n"
      ],
      "text/plain": [
       "[1] \"04/09/1997\" \"04/10/1997\" \"04/11/1997\" \"04/14/1997\" \"04/15/1997\"\n",
       "[6] \"04/16/1997\""
      ]
     },
     "metadata": {},
     "output_type": "display_data"
    }
   ],
   "source": [
    "dates = BOA_data$date\n",
    "head(dates)"
   ]
  },
  {
   "cell_type": "code",
   "execution_count": 86,
   "id": "566058ac",
   "metadata": {},
   "outputs": [
    {
     "data": {
      "text/html": [
       "<table class=\"dataframe\">\n",
       "<caption>A data.frame: 6 × 390</caption>\n",
       "<thead>\n",
       "\t<tr><th></th><th scope=col>price.09.30</th><th scope=col>price.09.31</th><th scope=col>price.09.32</th><th scope=col>price.09.33</th><th scope=col>price.09.34</th><th scope=col>price.09.35</th><th scope=col>price.09.36</th><th scope=col>price.09.37</th><th scope=col>price.09.38</th><th scope=col>price.09.39</th><th scope=col>...</th><th scope=col>price.15.50</th><th scope=col>price.15.51</th><th scope=col>price.15.52</th><th scope=col>price.15.53</th><th scope=col>price.15.54</th><th scope=col>price.15.55</th><th scope=col>price.15.56</th><th scope=col>price.15.57</th><th scope=col>price.15.58</th><th scope=col>price.15.59</th></tr>\n",
       "\t<tr><th></th><th scope=col>&lt;dbl&gt;</th><th scope=col>&lt;dbl&gt;</th><th scope=col>&lt;dbl&gt;</th><th scope=col>&lt;dbl&gt;</th><th scope=col>&lt;dbl&gt;</th><th scope=col>&lt;dbl&gt;</th><th scope=col>&lt;dbl&gt;</th><th scope=col>&lt;dbl&gt;</th><th scope=col>&lt;dbl&gt;</th><th scope=col>&lt;dbl&gt;</th><th scope=col>...</th><th scope=col>&lt;dbl&gt;</th><th scope=col>&lt;dbl&gt;</th><th scope=col>&lt;dbl&gt;</th><th scope=col>&lt;dbl&gt;</th><th scope=col>&lt;dbl&gt;</th><th scope=col>&lt;dbl&gt;</th><th scope=col>&lt;dbl&gt;</th><th scope=col>&lt;dbl&gt;</th><th scope=col>&lt;dbl&gt;</th><th scope=col>&lt;dbl&gt;</th></tr>\n",
       "</thead>\n",
       "<tbody>\n",
       "\t<tr><th scope=row>1</th><td>53.84375</td><td>53.84375</td><td>53.87500</td><td>53.87500</td><td>53.84375</td><td>53.87500</td><td>53.87500</td><td>53.90625</td><td>53.90625</td><td>53.84375</td><td>...</td><td>53.21875</td><td>53.20312</td><td>53.18750</td><td>53.18750</td><td>53.18750</td><td>53.18750</td><td>53.21875</td><td>53.18750</td><td>53.18750</td><td>53.18750</td></tr>\n",
       "\t<tr><th scope=row>2</th><td>53.15625</td><td>53.12500</td><td>53.12500</td><td>53.06250</td><td>53.06250</td><td>53.00000</td><td>53.00000</td><td>53.06250</td><td>53.00000</td><td>53.00000</td><td>...</td><td>52.81250</td><td>52.81250</td><td>52.81250</td><td>52.81250</td><td>52.81250</td><td>52.87500</td><td>52.87500</td><td>52.87500</td><td>52.87500</td><td>52.87500</td></tr>\n",
       "\t<tr><th scope=row>3</th><td>51.81250</td><td>51.81250</td><td>51.81250</td><td>51.81250</td><td>51.81250</td><td>51.81250</td><td>51.81250</td><td>51.81250</td><td>51.81250</td><td>51.81250</td><td>...</td><td>51.00000</td><td>51.00000</td><td>51.00000</td><td>51.00000</td><td>50.93750</td><td>50.90625</td><td>50.84375</td><td>50.75000</td><td>50.78125</td><td>50.81250</td></tr>\n",
       "\t<tr><th scope=row>4</th><td>50.75000</td><td>50.75000</td><td>50.75000</td><td>50.75000</td><td>50.84375</td><td>50.81250</td><td>50.81250</td><td>50.84375</td><td>50.62500</td><td>50.62500</td><td>...</td><td>51.87500</td><td>51.87500</td><td>51.81250</td><td>51.96875</td><td>52.06250</td><td>52.03125</td><td>52.03125</td><td>51.96875</td><td>51.96875</td><td>52.00000</td></tr>\n",
       "\t<tr><th scope=row>5</th><td>53.62500</td><td>53.62500</td><td>53.59375</td><td>53.53125</td><td>53.62500</td><td>53.56250</td><td>53.50000</td><td>53.56250</td><td>53.53125</td><td>53.53125</td><td>...</td><td>53.28125</td><td>53.28125</td><td>53.25000</td><td>53.31250</td><td>53.34375</td><td>53.37500</td><td>53.31250</td><td>53.12500</td><td>53.03125</td><td>53.03125</td></tr>\n",
       "\t<tr><th scope=row>6</th><td>52.78125</td><td>52.78125</td><td>52.78125</td><td>52.78125</td><td>52.78125</td><td>52.71875</td><td>52.65625</td><td>52.59375</td><td>52.56250</td><td>52.59375</td><td>...</td><td>52.03125</td><td>51.93750</td><td>51.84375</td><td>51.84375</td><td>51.81250</td><td>51.85938</td><td>51.90625</td><td>51.96875</td><td>51.96875</td><td>51.93750</td></tr>\n",
       "</tbody>\n",
       "</table>\n"
      ],
      "text/latex": [
       "A data.frame: 6 × 390\n",
       "\\begin{tabular}{r|lllllllllllllllllllll}\n",
       "  & price.09.30 & price.09.31 & price.09.32 & price.09.33 & price.09.34 & price.09.35 & price.09.36 & price.09.37 & price.09.38 & price.09.39 & ... & price.15.50 & price.15.51 & price.15.52 & price.15.53 & price.15.54 & price.15.55 & price.15.56 & price.15.57 & price.15.58 & price.15.59\\\\\n",
       "  & <dbl> & <dbl> & <dbl> & <dbl> & <dbl> & <dbl> & <dbl> & <dbl> & <dbl> & <dbl> & ... & <dbl> & <dbl> & <dbl> & <dbl> & <dbl> & <dbl> & <dbl> & <dbl> & <dbl> & <dbl>\\\\\n",
       "\\hline\n",
       "\t1 & 53.84375 & 53.84375 & 53.87500 & 53.87500 & 53.84375 & 53.87500 & 53.87500 & 53.90625 & 53.90625 & 53.84375 & ... & 53.21875 & 53.20312 & 53.18750 & 53.18750 & 53.18750 & 53.18750 & 53.21875 & 53.18750 & 53.18750 & 53.18750\\\\\n",
       "\t2 & 53.15625 & 53.12500 & 53.12500 & 53.06250 & 53.06250 & 53.00000 & 53.00000 & 53.06250 & 53.00000 & 53.00000 & ... & 52.81250 & 52.81250 & 52.81250 & 52.81250 & 52.81250 & 52.87500 & 52.87500 & 52.87500 & 52.87500 & 52.87500\\\\\n",
       "\t3 & 51.81250 & 51.81250 & 51.81250 & 51.81250 & 51.81250 & 51.81250 & 51.81250 & 51.81250 & 51.81250 & 51.81250 & ... & 51.00000 & 51.00000 & 51.00000 & 51.00000 & 50.93750 & 50.90625 & 50.84375 & 50.75000 & 50.78125 & 50.81250\\\\\n",
       "\t4 & 50.75000 & 50.75000 & 50.75000 & 50.75000 & 50.84375 & 50.81250 & 50.81250 & 50.84375 & 50.62500 & 50.62500 & ... & 51.87500 & 51.87500 & 51.81250 & 51.96875 & 52.06250 & 52.03125 & 52.03125 & 51.96875 & 51.96875 & 52.00000\\\\\n",
       "\t5 & 53.62500 & 53.62500 & 53.59375 & 53.53125 & 53.62500 & 53.56250 & 53.50000 & 53.56250 & 53.53125 & 53.53125 & ... & 53.28125 & 53.28125 & 53.25000 & 53.31250 & 53.34375 & 53.37500 & 53.31250 & 53.12500 & 53.03125 & 53.03125\\\\\n",
       "\t6 & 52.78125 & 52.78125 & 52.78125 & 52.78125 & 52.78125 & 52.71875 & 52.65625 & 52.59375 & 52.56250 & 52.59375 & ... & 52.03125 & 51.93750 & 51.84375 & 51.84375 & 51.81250 & 51.85938 & 51.90625 & 51.96875 & 51.96875 & 51.93750\\\\\n",
       "\\end{tabular}\n"
      ],
      "text/markdown": [
       "\n",
       "A data.frame: 6 × 390\n",
       "\n",
       "| <!--/--> | price.09.30 &lt;dbl&gt; | price.09.31 &lt;dbl&gt; | price.09.32 &lt;dbl&gt; | price.09.33 &lt;dbl&gt; | price.09.34 &lt;dbl&gt; | price.09.35 &lt;dbl&gt; | price.09.36 &lt;dbl&gt; | price.09.37 &lt;dbl&gt; | price.09.38 &lt;dbl&gt; | price.09.39 &lt;dbl&gt; | ... ... | price.15.50 &lt;dbl&gt; | price.15.51 &lt;dbl&gt; | price.15.52 &lt;dbl&gt; | price.15.53 &lt;dbl&gt; | price.15.54 &lt;dbl&gt; | price.15.55 &lt;dbl&gt; | price.15.56 &lt;dbl&gt; | price.15.57 &lt;dbl&gt; | price.15.58 &lt;dbl&gt; | price.15.59 &lt;dbl&gt; |\n",
       "|---|---|---|---|---|---|---|---|---|---|---|---|---|---|---|---|---|---|---|---|---|---|\n",
       "| 1 | 53.84375 | 53.84375 | 53.87500 | 53.87500 | 53.84375 | 53.87500 | 53.87500 | 53.90625 | 53.90625 | 53.84375 | ... | 53.21875 | 53.20312 | 53.18750 | 53.18750 | 53.18750 | 53.18750 | 53.21875 | 53.18750 | 53.18750 | 53.18750 |\n",
       "| 2 | 53.15625 | 53.12500 | 53.12500 | 53.06250 | 53.06250 | 53.00000 | 53.00000 | 53.06250 | 53.00000 | 53.00000 | ... | 52.81250 | 52.81250 | 52.81250 | 52.81250 | 52.81250 | 52.87500 | 52.87500 | 52.87500 | 52.87500 | 52.87500 |\n",
       "| 3 | 51.81250 | 51.81250 | 51.81250 | 51.81250 | 51.81250 | 51.81250 | 51.81250 | 51.81250 | 51.81250 | 51.81250 | ... | 51.00000 | 51.00000 | 51.00000 | 51.00000 | 50.93750 | 50.90625 | 50.84375 | 50.75000 | 50.78125 | 50.81250 |\n",
       "| 4 | 50.75000 | 50.75000 | 50.75000 | 50.75000 | 50.84375 | 50.81250 | 50.81250 | 50.84375 | 50.62500 | 50.62500 | ... | 51.87500 | 51.87500 | 51.81250 | 51.96875 | 52.06250 | 52.03125 | 52.03125 | 51.96875 | 51.96875 | 52.00000 |\n",
       "| 5 | 53.62500 | 53.62500 | 53.59375 | 53.53125 | 53.62500 | 53.56250 | 53.50000 | 53.56250 | 53.53125 | 53.53125 | ... | 53.28125 | 53.28125 | 53.25000 | 53.31250 | 53.34375 | 53.37500 | 53.31250 | 53.12500 | 53.03125 | 53.03125 |\n",
       "| 6 | 52.78125 | 52.78125 | 52.78125 | 52.78125 | 52.78125 | 52.71875 | 52.65625 | 52.59375 | 52.56250 | 52.59375 | ... | 52.03125 | 51.93750 | 51.84375 | 51.84375 | 51.81250 | 51.85938 | 51.90625 | 51.96875 | 51.96875 | 51.93750 |\n",
       "\n"
      ],
      "text/plain": [
       "  price.09.30 price.09.31 price.09.32 price.09.33 price.09.34 price.09.35\n",
       "1 53.84375    53.84375    53.87500    53.87500    53.84375    53.87500   \n",
       "2 53.15625    53.12500    53.12500    53.06250    53.06250    53.00000   \n",
       "3 51.81250    51.81250    51.81250    51.81250    51.81250    51.81250   \n",
       "4 50.75000    50.75000    50.75000    50.75000    50.84375    50.81250   \n",
       "5 53.62500    53.62500    53.59375    53.53125    53.62500    53.56250   \n",
       "6 52.78125    52.78125    52.78125    52.78125    52.78125    52.71875   \n",
       "  price.09.36 price.09.37 price.09.38 price.09.39 ... price.15.50 price.15.51\n",
       "1 53.87500    53.90625    53.90625    53.84375    ... 53.21875    53.20312   \n",
       "2 53.00000    53.06250    53.00000    53.00000    ... 52.81250    52.81250   \n",
       "3 51.81250    51.81250    51.81250    51.81250    ... 51.00000    51.00000   \n",
       "4 50.81250    50.84375    50.62500    50.62500    ... 51.87500    51.87500   \n",
       "5 53.50000    53.56250    53.53125    53.53125    ... 53.28125    53.28125   \n",
       "6 52.65625    52.59375    52.56250    52.59375    ... 52.03125    51.93750   \n",
       "  price.15.52 price.15.53 price.15.54 price.15.55 price.15.56 price.15.57\n",
       "1 53.18750    53.18750    53.18750    53.18750    53.21875    53.18750   \n",
       "2 52.81250    52.81250    52.81250    52.87500    52.87500    52.87500   \n",
       "3 51.00000    51.00000    50.93750    50.90625    50.84375    50.75000   \n",
       "4 51.81250    51.96875    52.06250    52.03125    52.03125    51.96875   \n",
       "5 53.25000    53.31250    53.34375    53.37500    53.31250    53.12500   \n",
       "6 51.84375    51.84375    51.81250    51.85938    51.90625    51.96875   \n",
       "  price.15.58 price.15.59\n",
       "1 53.18750    53.18750   \n",
       "2 52.87500    52.87500   \n",
       "3 50.78125    50.81250   \n",
       "4 51.96875    52.00000   \n",
       "5 53.03125    53.03125   \n",
       "6 51.96875    51.93750   "
      ]
     },
     "metadata": {},
     "output_type": "display_data"
    }
   ],
   "source": [
    "BOA = BOA_data[,-1]\n",
    "head(BOA)"
   ]
  },
  {
   "cell_type": "code",
   "execution_count": 87,
   "id": "5f58a3d8",
   "metadata": {},
   "outputs": [
    {
     "data": {
      "text/html": [
       "<table class=\"dataframe\">\n",
       "<caption>A matrix: 6 × 390 of type dbl</caption>\n",
       "<thead>\n",
       "\t<tr><th scope=col>price.09.30</th><th scope=col>price.09.31</th><th scope=col>price.09.32</th><th scope=col>price.09.33</th><th scope=col>price.09.34</th><th scope=col>price.09.35</th><th scope=col>price.09.36</th><th scope=col>price.09.37</th><th scope=col>price.09.38</th><th scope=col>price.09.39</th><th scope=col>...</th><th scope=col>price.15.50</th><th scope=col>price.15.51</th><th scope=col>price.15.52</th><th scope=col>price.15.53</th><th scope=col>price.15.54</th><th scope=col>price.15.55</th><th scope=col>price.15.56</th><th scope=col>price.15.57</th><th scope=col>price.15.58</th><th scope=col>price.15.59</th></tr>\n",
       "</thead>\n",
       "<tbody>\n",
       "\t<tr><td>53.84375</td><td>53.84375</td><td>53.87500</td><td>53.87500</td><td>53.84375</td><td>53.87500</td><td>53.87500</td><td>53.90625</td><td>53.90625</td><td>53.84375</td><td>...</td><td>53.21875</td><td>53.20312</td><td>53.18750</td><td>53.18750</td><td>53.18750</td><td>53.18750</td><td>53.21875</td><td>53.18750</td><td>53.18750</td><td>53.18750</td></tr>\n",
       "\t<tr><td>53.15625</td><td>53.12500</td><td>53.12500</td><td>53.06250</td><td>53.06250</td><td>53.00000</td><td>53.00000</td><td>53.06250</td><td>53.00000</td><td>53.00000</td><td>...</td><td>52.81250</td><td>52.81250</td><td>52.81250</td><td>52.81250</td><td>52.81250</td><td>52.87500</td><td>52.87500</td><td>52.87500</td><td>52.87500</td><td>52.87500</td></tr>\n",
       "\t<tr><td>51.81250</td><td>51.81250</td><td>51.81250</td><td>51.81250</td><td>51.81250</td><td>51.81250</td><td>51.81250</td><td>51.81250</td><td>51.81250</td><td>51.81250</td><td>...</td><td>51.00000</td><td>51.00000</td><td>51.00000</td><td>51.00000</td><td>50.93750</td><td>50.90625</td><td>50.84375</td><td>50.75000</td><td>50.78125</td><td>50.81250</td></tr>\n",
       "\t<tr><td>50.75000</td><td>50.75000</td><td>50.75000</td><td>50.75000</td><td>50.84375</td><td>50.81250</td><td>50.81250</td><td>50.84375</td><td>50.62500</td><td>50.62500</td><td>...</td><td>51.87500</td><td>51.87500</td><td>51.81250</td><td>51.96875</td><td>52.06250</td><td>52.03125</td><td>52.03125</td><td>51.96875</td><td>51.96875</td><td>52.00000</td></tr>\n",
       "\t<tr><td>53.62500</td><td>53.62500</td><td>53.59375</td><td>53.53125</td><td>53.62500</td><td>53.56250</td><td>53.50000</td><td>53.56250</td><td>53.53125</td><td>53.53125</td><td>...</td><td>53.28125</td><td>53.28125</td><td>53.25000</td><td>53.31250</td><td>53.34375</td><td>53.37500</td><td>53.31250</td><td>53.12500</td><td>53.03125</td><td>53.03125</td></tr>\n",
       "\t<tr><td>52.78125</td><td>52.78125</td><td>52.78125</td><td>52.78125</td><td>52.78125</td><td>52.71875</td><td>52.65625</td><td>52.59375</td><td>52.56250</td><td>52.59375</td><td>...</td><td>52.03125</td><td>51.93750</td><td>51.84375</td><td>51.84375</td><td>51.81250</td><td>51.85938</td><td>51.90625</td><td>51.96875</td><td>51.96875</td><td>51.93750</td></tr>\n",
       "</tbody>\n",
       "</table>\n"
      ],
      "text/latex": [
       "A matrix: 6 × 390 of type dbl\n",
       "\\begin{tabular}{lllllllllllllllllllll}\n",
       " price.09.30 & price.09.31 & price.09.32 & price.09.33 & price.09.34 & price.09.35 & price.09.36 & price.09.37 & price.09.38 & price.09.39 & ... & price.15.50 & price.15.51 & price.15.52 & price.15.53 & price.15.54 & price.15.55 & price.15.56 & price.15.57 & price.15.58 & price.15.59\\\\\n",
       "\\hline\n",
       "\t 53.84375 & 53.84375 & 53.87500 & 53.87500 & 53.84375 & 53.87500 & 53.87500 & 53.90625 & 53.90625 & 53.84375 & ... & 53.21875 & 53.20312 & 53.18750 & 53.18750 & 53.18750 & 53.18750 & 53.21875 & 53.18750 & 53.18750 & 53.18750\\\\\n",
       "\t 53.15625 & 53.12500 & 53.12500 & 53.06250 & 53.06250 & 53.00000 & 53.00000 & 53.06250 & 53.00000 & 53.00000 & ... & 52.81250 & 52.81250 & 52.81250 & 52.81250 & 52.81250 & 52.87500 & 52.87500 & 52.87500 & 52.87500 & 52.87500\\\\\n",
       "\t 51.81250 & 51.81250 & 51.81250 & 51.81250 & 51.81250 & 51.81250 & 51.81250 & 51.81250 & 51.81250 & 51.81250 & ... & 51.00000 & 51.00000 & 51.00000 & 51.00000 & 50.93750 & 50.90625 & 50.84375 & 50.75000 & 50.78125 & 50.81250\\\\\n",
       "\t 50.75000 & 50.75000 & 50.75000 & 50.75000 & 50.84375 & 50.81250 & 50.81250 & 50.84375 & 50.62500 & 50.62500 & ... & 51.87500 & 51.87500 & 51.81250 & 51.96875 & 52.06250 & 52.03125 & 52.03125 & 51.96875 & 51.96875 & 52.00000\\\\\n",
       "\t 53.62500 & 53.62500 & 53.59375 & 53.53125 & 53.62500 & 53.56250 & 53.50000 & 53.56250 & 53.53125 & 53.53125 & ... & 53.28125 & 53.28125 & 53.25000 & 53.31250 & 53.34375 & 53.37500 & 53.31250 & 53.12500 & 53.03125 & 53.03125\\\\\n",
       "\t 52.78125 & 52.78125 & 52.78125 & 52.78125 & 52.78125 & 52.71875 & 52.65625 & 52.59375 & 52.56250 & 52.59375 & ... & 52.03125 & 51.93750 & 51.84375 & 51.84375 & 51.81250 & 51.85938 & 51.90625 & 51.96875 & 51.96875 & 51.93750\\\\\n",
       "\\end{tabular}\n"
      ],
      "text/markdown": [
       "\n",
       "A matrix: 6 × 390 of type dbl\n",
       "\n",
       "| price.09.30 | price.09.31 | price.09.32 | price.09.33 | price.09.34 | price.09.35 | price.09.36 | price.09.37 | price.09.38 | price.09.39 | ... | price.15.50 | price.15.51 | price.15.52 | price.15.53 | price.15.54 | price.15.55 | price.15.56 | price.15.57 | price.15.58 | price.15.59 |\n",
       "|---|---|---|---|---|---|---|---|---|---|---|---|---|---|---|---|---|---|---|---|---|\n",
       "| 53.84375 | 53.84375 | 53.87500 | 53.87500 | 53.84375 | 53.87500 | 53.87500 | 53.90625 | 53.90625 | 53.84375 | ... | 53.21875 | 53.20312 | 53.18750 | 53.18750 | 53.18750 | 53.18750 | 53.21875 | 53.18750 | 53.18750 | 53.18750 |\n",
       "| 53.15625 | 53.12500 | 53.12500 | 53.06250 | 53.06250 | 53.00000 | 53.00000 | 53.06250 | 53.00000 | 53.00000 | ... | 52.81250 | 52.81250 | 52.81250 | 52.81250 | 52.81250 | 52.87500 | 52.87500 | 52.87500 | 52.87500 | 52.87500 |\n",
       "| 51.81250 | 51.81250 | 51.81250 | 51.81250 | 51.81250 | 51.81250 | 51.81250 | 51.81250 | 51.81250 | 51.81250 | ... | 51.00000 | 51.00000 | 51.00000 | 51.00000 | 50.93750 | 50.90625 | 50.84375 | 50.75000 | 50.78125 | 50.81250 |\n",
       "| 50.75000 | 50.75000 | 50.75000 | 50.75000 | 50.84375 | 50.81250 | 50.81250 | 50.84375 | 50.62500 | 50.62500 | ... | 51.87500 | 51.87500 | 51.81250 | 51.96875 | 52.06250 | 52.03125 | 52.03125 | 51.96875 | 51.96875 | 52.00000 |\n",
       "| 53.62500 | 53.62500 | 53.59375 | 53.53125 | 53.62500 | 53.56250 | 53.50000 | 53.56250 | 53.53125 | 53.53125 | ... | 53.28125 | 53.28125 | 53.25000 | 53.31250 | 53.34375 | 53.37500 | 53.31250 | 53.12500 | 53.03125 | 53.03125 |\n",
       "| 52.78125 | 52.78125 | 52.78125 | 52.78125 | 52.78125 | 52.71875 | 52.65625 | 52.59375 | 52.56250 | 52.59375 | ... | 52.03125 | 51.93750 | 51.84375 | 51.84375 | 51.81250 | 51.85938 | 51.90625 | 51.96875 | 51.96875 | 51.93750 |\n",
       "\n"
      ],
      "text/plain": [
       "     price.09.30 price.09.31 price.09.32 price.09.33 price.09.34 price.09.35\n",
       "[1,] 53.84375    53.84375    53.87500    53.87500    53.84375    53.87500   \n",
       "[2,] 53.15625    53.12500    53.12500    53.06250    53.06250    53.00000   \n",
       "[3,] 51.81250    51.81250    51.81250    51.81250    51.81250    51.81250   \n",
       "[4,] 50.75000    50.75000    50.75000    50.75000    50.84375    50.81250   \n",
       "[5,] 53.62500    53.62500    53.59375    53.53125    53.62500    53.56250   \n",
       "[6,] 52.78125    52.78125    52.78125    52.78125    52.78125    52.71875   \n",
       "     price.09.36 price.09.37 price.09.38 price.09.39 ... price.15.50\n",
       "[1,] 53.87500    53.90625    53.90625    53.84375    ... 53.21875   \n",
       "[2,] 53.00000    53.06250    53.00000    53.00000    ... 52.81250   \n",
       "[3,] 51.81250    51.81250    51.81250    51.81250    ... 51.00000   \n",
       "[4,] 50.81250    50.84375    50.62500    50.62500    ... 51.87500   \n",
       "[5,] 53.50000    53.56250    53.53125    53.53125    ... 53.28125   \n",
       "[6,] 52.65625    52.59375    52.56250    52.59375    ... 52.03125   \n",
       "     price.15.51 price.15.52 price.15.53 price.15.54 price.15.55 price.15.56\n",
       "[1,] 53.20312    53.18750    53.18750    53.18750    53.18750    53.21875   \n",
       "[2,] 52.81250    52.81250    52.81250    52.81250    52.87500    52.87500   \n",
       "[3,] 51.00000    51.00000    51.00000    50.93750    50.90625    50.84375   \n",
       "[4,] 51.87500    51.81250    51.96875    52.06250    52.03125    52.03125   \n",
       "[5,] 53.28125    53.25000    53.31250    53.34375    53.37500    53.31250   \n",
       "[6,] 51.93750    51.84375    51.84375    51.81250    51.85938    51.90625   \n",
       "     price.15.57 price.15.58 price.15.59\n",
       "[1,] 53.18750    53.18750    53.18750   \n",
       "[2,] 52.87500    52.87500    52.87500   \n",
       "[3,] 50.75000    50.78125    50.81250   \n",
       "[4,] 51.96875    51.96875    52.00000   \n",
       "[5,] 53.12500    53.03125    53.03125   \n",
       "[6,] 51.96875    51.96875    51.93750   "
      ]
     },
     "metadata": {},
     "output_type": "display_data"
    }
   ],
   "source": [
    "BOA = data.matrix(BOA)\n",
    "head(BOA)"
   ]
  },
  {
   "cell_type": "code",
   "execution_count": 88,
   "id": "1d1df5fe",
   "metadata": {},
   "outputs": [],
   "source": [
    "BOA = BOA[-which(dates==\"08/26/2004\"),] # Outlier"
   ]
  },
  {
   "cell_type": "code",
   "execution_count": 89,
   "id": "3031909c",
   "metadata": {},
   "outputs": [
    {
     "name": "stdout",
     "output_type": "stream",
     "text": [
      "2510 \n",
      " 390"
     ]
    }
   ],
   "source": [
    "n = dim(BOA)[1]\n",
    "j = dim(BOA)[2]\n",
    "cat(n,\"\\n\",j)"
   ]
  },
  {
   "cell_type": "code",
   "execution_count": 90,
   "id": "85ca5538",
   "metadata": {},
   "outputs": [
    {
     "data": {
      "text/html": [
       "<style>\n",
       ".list-inline {list-style: none; margin:0; padding: 0}\n",
       ".list-inline>li {display: inline-block}\n",
       ".list-inline>li:not(:last-child)::after {content: \"\\00b7\"; padding: 0 .5ex}\n",
       "</style>\n",
       "<ol class=list-inline><li>0</li><li>0.0167095115681234</li><li>0.0334190231362468</li><li>0.0501285347043702</li><li>0.0668380462724936</li><li>0.083547557840617</li></ol>\n"
      ],
      "text/latex": [
       "\\begin{enumerate*}\n",
       "\\item 0\n",
       "\\item 0.0167095115681234\n",
       "\\item 0.0334190231362468\n",
       "\\item 0.0501285347043702\n",
       "\\item 0.0668380462724936\n",
       "\\item 0.083547557840617\n",
       "\\end{enumerate*}\n"
      ],
      "text/markdown": [
       "1. 0\n",
       "2. 0.0167095115681234\n",
       "3. 0.0334190231362468\n",
       "4. 0.0501285347043702\n",
       "5. 0.0668380462724936\n",
       "6. 0.083547557840617\n",
       "\n",
       "\n"
      ],
      "text/plain": [
       "[1] 0.00000000 0.01670951 0.03341902 0.05012853 0.06683805 0.08354756"
      ]
     },
     "metadata": {},
     "output_type": "display_data"
    }
   ],
   "source": [
    "times = seq(0, 6.5, length=j)\n",
    "head(times)"
   ]
  },
  {
   "cell_type": "markdown",
   "id": "f08194f7",
   "metadata": {},
   "source": [
    "---\n",
    "8行目： BOAの累積対数収益率関数を計算します。ここで、対数変換を適用することにより、収益率の乗算が対数の加算に置き換わります。そして、最初の観測値に対する対数変換値で各列を補正し、各列を基準化します。\n",
    "\n",
    "9行目： create.bspline.basis関数を使用して、0から6.5までの区間で定義されるBスプライン基底関数を作成します。nbは基底関数の数を指定します。ここでは、200個の基底関数が作成されます。\n",
    "\n",
    "10行目： Data2fd関数を使用して、データセットを関数データオブジェクトに変換します。関数データオブジェクトは、関数の値と基底関数の組み合わせとして表されます。この場合、列方向に転置された累積対数収益率行列が関数データオブジェクトの値になり、Bスプライン基底関数が基底関数になります。"
   ]
  },
  {
   "cell_type": "code",
   "execution_count": 91,
   "id": "a884f23e",
   "metadata": {},
   "outputs": [],
   "source": [
    "# Cumulative log-return functions\n",
    "log_BOA = log(BOA) - matrix(log(BOA)[,1], nrow=n, ncol=j)"
   ]
  },
  {
   "cell_type": "code",
   "execution_count": 92,
   "id": "edea60d1",
   "metadata": {},
   "outputs": [
    {
     "data": {
      "image/png": "[encoded data removed]",
      "text/plain": [
       "plot without title"
      ]
     },
     "metadata": {
      "image/png": {
       "height": 420,
       "width": 420
      }
     },
     "output_type": "display_data"
    }
   ],
   "source": [
    "bspl_basis = create.bspline.basis(rangeval=c(0, 6.5), nord=4, nb=10)\n",
    "plot(bspl_basis)\n",
    "\n",
    "# B-spline basis functions\n",
    "bspl_basis = create.bspline.basis(rangeval=c(0, 6.5), nord=4, nb=200)"
   ]
  },
  {
   "cell_type": "code",
   "execution_count": 95,
   "id": "559e2017",
   "metadata": {},
   "outputs": [
    {
     "data": {
      "text/html": [
       "'done'"
      ],
      "text/latex": [
       "'done'"
      ],
      "text/markdown": [
       "'done'"
      ],
      "text/plain": [
       "[1] \"done\""
      ]
     },
     "metadata": {},
     "output_type": "display_data"
    },
    {
     "data": {
      "text/html": [
       "<strong>png:</strong> 2"
      ],
      "text/latex": [
       "\\textbf{png:} 2"
      ],
      "text/markdown": [
       "**png:** 2"
      ],
      "text/plain": [
       "png \n",
       "  2 "
      ]
     },
     "metadata": {},
     "output_type": "display_data"
    },
    {
     "data": {
      "image/png": "[encoded data removed]"
     },
     "metadata": {},
     "output_type": "display_data"
    }
   ],
   "source": [
    "png(\"141_logre.png\", width=500, height = 500) \n",
    "par(cex=1.2)\n",
    "\n",
    "# Cumulative log-return functions (with basis functions)\n",
    "log_BOA_fd <- Data2fd(times, t(log_BOA), basisobj = bspl_basis)\n",
    "plot(log_BOA_fd[1:10],xlab=\"hours\",ylab=\"log_return\",lwd=1.5)\n",
    "\n",
    "dev.off()\n",
    "png_data <- readBin(\"141_logre.png\", \"raw\", file.size(\"141_logre.png\"))\n",
    "display_png(png_data)"
   ]
  },
  {
   "cell_type": "code",
   "execution_count": 102,
   "id": "d83b70f5",
   "metadata": {},
   "outputs": [
    {
     "data": {
      "text/html": [
       "'done'"
      ],
      "text/latex": [
       "'done'"
      ],
      "text/markdown": [
       "'done'"
      ],
      "text/plain": [
       "[1] \"done\""
      ]
     },
     "metadata": {},
     "output_type": "display_data"
    },
    {
     "data": {
      "text/html": [
       "'done'"
      ],
      "text/latex": [
       "'done'"
      ],
      "text/markdown": [
       "'done'"
      ],
      "text/plain": [
       "[1] \"done\""
      ]
     },
     "metadata": {},
     "output_type": "display_data"
    },
    {
     "data": {
      "text/html": [
       "'done'"
      ],
      "text/latex": [
       "'done'"
      ],
      "text/markdown": [
       "'done'"
      ],
      "text/plain": [
       "[1] \"done\""
      ]
     },
     "metadata": {},
     "output_type": "display_data"
    },
    {
     "data": {
      "text/html": [
       "<strong>png:</strong> 2"
      ],
      "text/latex": [
       "\\textbf{png:} 2"
      ],
      "text/markdown": [
       "**png:** 2"
      ],
      "text/plain": [
       "png \n",
       "  2 "
      ]
     },
     "metadata": {},
     "output_type": "display_data"
    },
    {
     "data": {
      "image/png": "[encoded data removed]"
     },
     "metadata": {},
     "output_type": "display_data"
    }
   ],
   "source": [
    "png(\"142_mean_logre.png\", width=500, height = 500) \n",
    "par(cex=1.2)\n",
    "\n",
    "muhat          <- mean.fd(log_BOA_fd)\n",
    "sdhat          <- sd.fd(log_BOA_fd)\n",
    "SE_hat_U       <- fd(basisobj=bspl_basis) # create upper CI bound\n",
    "SE_hat_L       <- fd(basisobj=bspl_basis) # create lower CI bound\n",
    "\n",
    "SE_hat_U$coefs <-  2*sdhat$coefs/sqrt(n) + muhat$coefs\n",
    "SE_hat_L$coefs <- -2*sdhat$coefs/sqrt(n) + muhat$coefs \n",
    "\n",
    "plot.fd(SE_hat_U,ylim=c(-0.002,0.002),col='red',lty=2,xlab=\"hours\",ylab=\"log_return\")\n",
    "plot.fd(SE_hat_L,add=TRUE,col='red',lty=2)\n",
    "plot.fd(muhat,add=TRUE)\n",
    "grid()\n",
    "\n",
    "legend(\"bottomright\", legend=c(\"mean + 2 SE\", \"mean\", \"mean - 2 SE\"), col=c(\"red\", \"black\", \"red\"), lty=c(2,1,2), lwd=2)\n",
    "\n",
    "dev.off()\n",
    "png_data <- readBin(\"142_mean_logre.png\", \"raw\", file.size(\"142_mean_logre.png\"))\n",
    "display_png(png_data)"
   ]
  },
  {
   "cell_type": "code",
   "execution_count": 104,
   "id": "abdc6662",
   "metadata": {},
   "outputs": [
    {
     "data": {
      "text/html": [
       "'done'"
      ],
      "text/latex": [
       "'done'"
      ],
      "text/markdown": [
       "'done'"
      ],
      "text/plain": [
       "[1] \"done\""
      ]
     },
     "metadata": {},
     "output_type": "display_data"
    },
    {
     "name": "stdout",
     "output_type": "stream",
     "text": [
      "0.8512517 0.07256828 0.02523702 0.01323323 \n",
      "0.8512517 0.92382 0.949057 0.9622902 \n"
     ]
    },
    {
     "data": {
      "text/html": [
       "<strong>png:</strong> 2"
      ],
      "text/latex": [
       "\\textbf{png:} 2"
      ],
      "text/markdown": [
       "**png:** 2"
      ],
      "text/plain": [
       "png \n",
       "  2 "
      ]
     },
     "metadata": {},
     "output_type": "display_data"
    },
    {
     "data": {
      "image/png": "[encoded data removed]"
     },
     "metadata": {},
     "output_type": "display_data"
    }
   ],
   "source": [
    "log_BOA_pca = pca.fd(log_BOA_fd, nharm=4)\n",
    "\n",
    "png(\"143_pri.png\", width=500, height = 500) \n",
    "par(cex=1.2)\n",
    "\n",
    "plot(log_BOA_pca$harmonics, lwd=2)\n",
    "\n",
    "colnames = paste0(\"PC\", 1:ncol(log_BOA_pca$harmonics$coefs))\n",
    "legend(\"bottomleft\", legend=colnames, col=1:ncol(log_BOA_pca$harmonics$coefs), lwd=2)\n",
    "\n",
    "cat(log_BOA_pca$varprop,\"\\n\")\n",
    "cat(cumsum(log_BOA_pca$varprop),\"\\n\")\n",
    "\n",
    "dev.off()\n",
    "png_data <- readBin(\"143_pri.png\", \"raw\", file.size(\"143_pri.png\"))\n",
    "display_png(png_data)"
   ]
  },
  {
   "cell_type": "code",
   "execution_count": 108,
   "id": "c87402f3",
   "metadata": {},
   "outputs": [],
   "source": [
    "xx = seq(0,1,len=dim(BOA)[2]) "
   ]
  },
  {
   "cell_type": "code",
   "execution_count": 118,
   "id": "91e4a0da",
   "metadata": {},
   "outputs": [
    {
     "data": {
      "text/html": [
       "<strong>png:</strong> 2"
      ],
      "text/latex": [
       "\\textbf{png:} 2"
      ],
      "text/markdown": [
       "**png:** 2"
      ],
      "text/plain": [
       "png \n",
       "  2 "
      ]
     },
     "metadata": {},
     "output_type": "display_data"
    },
    {
     "data": {
      "image/png": "[encoded data removed]"
     },
     "metadata": {},
     "output_type": "display_data"
    }
   ],
   "source": [
    "log_BOA_pca  <- pca.fd(log_BOA_fd, nharm=4)\n",
    "\n",
    "# Eigenfunctions of BM process\n",
    "efwp_fun      <- function(x, k=1){sqrt(2)*sin((k-1/2)*pi*x)}\n",
    "\n",
    "# integrate(function(x){(efwp_fun(x,k=1))^2}, lower = 0, upper = 1)\n",
    "EFWP_mat      <- cbind(efwp_fun(x=xx,k=1), efwp_fun(x=xx,k=2), efwp_fun(x=xx,k=3), efwp_fun(x=xx,k=4))\n",
    "\n",
    "\n",
    "# plot\n",
    "png(\"144_sim.png\", width=500, height = 500) \n",
    "par(cex=1.2)\n",
    "# plot(log_BOA_pca$harmonics, main=\"Estimated Eigenfunctions of\\nCumulative Return Functions\", xlab=\"Trading Hours\", ylab=\"\")\n",
    "# matplot(x = xx, y=EFWP_mat, type=\"l\",  main=\"True Eigenfunctions of\\nBrownian Motion\",ylab=\"\",xlab=\"\")\n",
    "matplot(x = xx, y=EFWP_mat, type=\"l\",ylab=\"\",xlab=\"\", lwd=2)\n",
    "legend(\"bottomleft\", legend=colnames, col=1:ncol(log_BOA_pca$harmonics$coefs), lwd=2)\n",
    "dev.off()\n",
    "png_data <- readBin(\"144_sim.png\", \"raw\", file.size(\"144_sim.png\"))\n",
    "display_png(png_data)"
   ]
  },
  {
   "cell_type": "markdown",
   "id": "f1a51e00",
   "metadata": {},
   "source": [
    "# 1.5 Diffusion tensor imaging"
   ]
  },
  {
   "cell_type": "code",
   "execution_count": 119,
   "id": "5a1b341b",
   "metadata": {},
   "outputs": [],
   "source": [
    "library(refund)\n",
    "data(DTI)"
   ]
  },
  {
   "cell_type": "code",
   "execution_count": 120,
   "id": "cbb72594",
   "metadata": {
    "collapsed": true
   },
   "outputs": [
    {
     "name": "stdout",
     "output_type": "stream",
     "text": [
      "'data.frame':\t382 obs. of  9 variables:\n",
      " $ ID        : num  1001 1002 1003 1004 1005 ...\n",
      " $ visit     : int  1 1 1 1 1 1 1 1 1 1 ...\n",
      " $ visit.time: int  0 0 0 0 0 0 0 0 0 0 ...\n",
      " $ Nscans    : int  1 1 1 1 1 1 1 1 1 1 ...\n",
      " $ case      : num  0 0 0 0 0 0 0 0 0 0 ...\n",
      " $ sex       : Factor w/ 2 levels \"male\",\"female\": 2 2 1 1 1 1 1 1 1 1 ...\n",
      " $ pasat     : int  NA NA NA NA NA NA NA NA NA NA ...\n",
      " $ cca       : num [1:382, 1:93] 0.491 0.472 0.502 0.402 0.402 ...\n",
      "  ..- attr(*, \"dimnames\")=List of 2\n",
      "  .. ..$ : chr [1:382] \"1001_1\" \"1002_1\" \"1003_1\" \"1004_1\" ...\n",
      "  .. ..$ : chr [1:93] \"cca_1\" \"cca_2\" \"cca_3\" \"cca_4\" ...\n",
      " $ rcst      : num [1:382, 1:55] 0.257 NaN NaN 0.508 NaN ...\n",
      "  ..- attr(*, \"dimnames\")=List of 2\n",
      "  .. ..$ : chr [1:382] \"1001_1\" \"1002_1\" \"1003_1\" \"1004_1\" ...\n",
      "  .. ..$ : chr [1:55] \"rcst_1\" \"rcst_2\" \"rcst_3\" \"rcst_4\" ...\n"
     ]
    }
   ],
   "source": [
    "str(DTI)"
   ]
  },
  {
   "cell_type": "code",
   "execution_count": 121,
   "id": "ae106a51",
   "metadata": {
    "collapsed": true
   },
   "outputs": [
    {
     "data": {
      "text/html": [
       "<table class=\"dataframe\">\n",
       "<caption>A data.frame: 6 × 9</caption>\n",
       "<thead>\n",
       "\t<tr><th></th><th scope=col>ID</th><th scope=col>visit</th><th scope=col>visit.time</th><th scope=col>Nscans</th><th scope=col>case</th><th scope=col>sex</th><th scope=col>pasat</th><th scope=col>cca</th><th scope=col>rcst</th></tr>\n",
       "\t<tr><th></th><th scope=col>&lt;dbl&gt;</th><th scope=col>&lt;int&gt;</th><th scope=col>&lt;int&gt;</th><th scope=col>&lt;int&gt;</th><th scope=col>&lt;dbl&gt;</th><th scope=col>&lt;fct&gt;</th><th scope=col>&lt;int&gt;</th><th scope=col>&lt;dbl[,93]&gt;</th><th scope=col>&lt;dbl[,55]&gt;</th></tr>\n",
       "</thead>\n",
       "<tbody>\n",
       "\t<tr><th scope=row>1</th><td>1001</td><td>1</td><td>0</td><td>1</td><td>0</td><td>female</td><td>NA</td><td>0.4909345, 0.5168018, 0.5356539, 0.5553587, 0.5927610, 0.6326935, 0.6503855, 0.6556130, 0.6493701, 0.6378739, 0.6286463, 0.6249649, 0.6164504, 0.6113308, 0.5846939, 0.5385250, 0.4950826, 0.4952554, 0.4888065, 0.4825257, 0.4741349, 0.4898970, 0.4928850, 0.4911993, 0.4932295, 0.5043283, 0.5092916, 0.5059736, 0.5065265, 0.5050361, 0.5066120, 0.5028980, 0.5073618, 0.5081009, 0.5247082, 0.5252773, 0.5235987, 0.5243505, 0.5254499, 0.5306318, 0.5338370, 0.5296567, 0.5318295, 0.5296125, 0.5331821, 0.5288681, 0.5307563, 0.5416137, 0.5452572, 0.5474421, 0.5441192, 0.5347157, 0.5279458, 0.5259310, 0.5175913, 0.5234301, 0.5217467, 0.5250109, 0.5195787, 0.5092322, 0.4879112, 0.4754212, 0.4655447, 0.4513198, 0.4394037, 0.4379589, 0.4339554, 0.4245345, 0.4179126, 0.4184430, 0.4117148, 0.4191516, 0.4376579, 0.4528836, 0.4735466, 0.4922851, 0.4976906, 0.5111858, 0.5357575, 0.5380131, 0.5387591, 0.5385923, 0.5431367, 0.5632726, 0.5903442, 0.5812517, 0.5768193, 0.5916373, 0.6047983, 0.6118206, 0.6072471, 0.5974377, 0.5904773</td><td>0.2572899, 0.4539093, 0.3974958, 0.3915055, 0.4181097, 0.4165069, 0.4357346, 0.4540771, 0.4841092, 0.4536247, 0.5051717, 0.5190712, 0.5807487, 0.5661553, 0.5833364, 0.5603094, 0.5345778, 0.5623530, 0.6101868, 0.6075959, 0.6240531, 0.7011781, 0.7701491, 0.7426501, 0.6603320, 0.6868709, 0.6910859, 0.7008225, 0.7090975, 0.7170979, 0.7262979, 0.7284356, 0.7156681, 0.6972388, 0.6685733, 0.6328179, 0.5990850, 0.5801229, 0.5738956, 0.5527057, 0.5058014, 0.4450996, 0.3727109, 0.3259199, 0.3151132, 0.3231551, 0.3733820, 0.4597227, 0.5190081, 0.5084256, 0.5013133, 0.4828025, 0.4709835, 0.4287402, 0.4557126</td></tr>\n",
       "\t<tr><th scope=row>2</th><td>1002</td><td>1</td><td>0</td><td>1</td><td>0</td><td>female</td><td>NA</td><td>0.4721627, 0.4868219, 0.5022577, 0.5233635, 0.5524401, 0.5872003, 0.5970120, 0.6026607, 0.5922767, 0.5791859, 0.5714253, 0.5640410, 0.5488670, 0.5148614, 0.4690637, 0.4654895, 0.4945643, 0.5027834, 0.5290919, 0.5236951, 0.5009698, 0.5070110, 0.5206877, 0.5153710, 0.5076689, 0.5017398, 0.4982807, 0.4993118, 0.4869815, 0.4797477, 0.4787024, 0.4760067, 0.4795855, 0.4781358, 0.4784981, 0.4869597, 0.5065917, 0.5220251, 0.5445128, 0.5510683, 0.5453291, 0.5442394, 0.5345523, 0.5294878, 0.5287803, 0.5116867, 0.4984125, 0.4872645, 0.4818140, 0.4791778, 0.4769786, 0.4805995, 0.4742046, 0.4575991, 0.4526461, 0.4501681, 0.4521089, 0.4581485, 0.4618510, 0.4685422, 0.4699607, 0.4765646, 0.4666116, 0.4626807, 0.4690559, 0.4767521, 0.4787997, 0.4795087, 0.4818308, 0.4887047, 0.4940524, 0.5075587, 0.5209661, 0.5285265, 0.5200662, 0.5465158, 0.5642346, 0.5570745, 0.5766790, 0.5894610, 0.5750992, 0.5891457, 0.6038479, 0.6269639, 0.6265557, 0.6024469, 0.5859679, 0.5778964, 0.5849247, 0.6037823, 0.6068070, 0.5946983, 0.5802742</td><td>      NaN,       NaN,       NaN,       NaN,       NaN,       NaN,       NaN,       NaN,       NaN,       NaN,       NaN,       NaN, 0.4427903, 0.4799762, 0.4842274, 0.5239656, 0.5594616, 0.6047412, 0.6070987, 0.6534204, 0.6910838, 0.6663648, 0.7453985, 0.7552195, 0.7129236, 0.6598093, 0.6647575, 0.7498987, 0.7653176, 0.7016240, 0.7160461, 0.7138011, 0.6769029, 0.6252532, 0.6085429, 0.5917788, 0.5692703, 0.5564034, 0.5408012, 0.4996903, 0.4079949, 0.3440148, 0.3113530, 0.3197576, 0.3746915, 0.4106683, 0.4513569, 0.4839963, 0.4920049, 0.5002135, 0.5298003, 0.5132566, 0.4892501, 0.5183189, 0.5100032</td></tr>\n",
       "\t<tr><th scope=row>3</th><td>1003</td><td>1</td><td>0</td><td>1</td><td>0</td><td>male  </td><td>NA</td><td>0.5023738, 0.5136516, 0.5392542, 0.5742101, 0.6031339, 0.6335913, 0.6357541, 0.6350799, 0.6201638, 0.6086281, 0.5910287, 0.5680196, 0.5433478, 0.5134790, 0.4871413, 0.4840465, 0.4948048, 0.4906371, 0.4877579, 0.4742280, 0.4738927, 0.4807152, 0.4739193, 0.4670146, 0.4849994, 0.4870079, 0.4788655, 0.4700110, 0.4724737, 0.4824247, 0.4725281, 0.4758382, 0.4773336, 0.4825085, 0.4907332, 0.4852776, 0.4835870, 0.4742337, 0.4742299, 0.4688590, 0.4722176, 0.4788008, 0.4803440, 0.4789484, 0.4802429, 0.4883517, 0.4993035, 0.5062250, 0.5014466, 0.4911293, 0.4988815, 0.5020438, 0.5023207, 0.4976664, 0.4900235, 0.4861588, 0.4769564, 0.4662806, 0.4600752, 0.4610481, 0.4506334, 0.4442553, 0.4372329, 0.4424339, 0.4434134, 0.4464280, 0.4498960, 0.4646567, 0.4737444, 0.4890673, 0.4755496, 0.4704858, 0.4490488, 0.4558191, 0.4685645, 0.4891330, 0.5178116, 0.5445336, 0.5325316, 0.5435952, 0.5755065, 0.5669365, 0.5611880, 0.5618615, 0.4979372, 0.4693416, 0.5376648, 0.5916874, 0.6318164, 0.6518945, 0.6663194, 0.6714403, 0.6747586</td><td>      NaN,       NaN,       NaN,       NaN,       NaN,       NaN,       NaN,       NaN,       NaN,       NaN,       NaN,       NaN, 0.4242951, 0.4083576, 0.4397501, 0.4502663, 0.4443586, 0.5011072, 0.4793393, 0.4803002, 0.5289717, 0.6112340, 0.6479803, 0.6017279, 0.5460718, 0.5464185, 0.5249155, 0.5413014, 0.5365488, 0.5243660, 0.5286935, 0.5360446, 0.5376481, 0.5613167, 0.5918731, 0.5972560, 0.6323820, 0.6274462, 0.5886160, 0.5386779, 0.4982805, 0.4743366, 0.4248040, 0.3810404, 0.3438456, 0.3691729, 0.4243655, 0.4913873, 0.5264028, 0.5382920, 0.4941652, 0.4786767, 0.4648388, 0.4744005, 0.4666150</td></tr>\n",
       "\t<tr><th scope=row>4</th><td>1004</td><td>1</td><td>0</td><td>1</td><td>0</td><td>male  </td><td>NA</td><td>0.4021894, 0.4225127, 0.4398983, 0.4600235, 0.4751297, 0.4990257, 0.5169105, 0.5552692, 0.5826485, 0.6005767, 0.6135842, 0.6087443, 0.6049979, 0.6097975, 0.6123108, 0.6054502, 0.5878376, 0.5627270, 0.5388493, 0.5277784, 0.5353428, 0.5407067, 0.5427709, 0.5340262, 0.5321662, 0.5264835, 0.5285895, 0.5170827, 0.5192671, 0.5283726, 0.5369133, 0.5415416, 0.5411768, 0.5298056, 0.5265747, 0.5230531, 0.5322323, 0.5437366, 0.5473111, 0.5435323, 0.5403579, 0.5492442, 0.5464427, 0.5513654, 0.5442514, 0.5418579, 0.5276556, 0.5260929, 0.5268219, 0.5322590, 0.5352924, 0.5421866, 0.5406984, 0.5355762, 0.5287561, 0.5238445, 0.5214700, 0.5246442, 0.5195213, 0.5200249, 0.5096727, 0.5097405, 0.4958409, 0.4733000, 0.4706838, 0.4593108, 0.4526219, 0.4437527, 0.4466991, 0.4473163, 0.4423435, 0.4467567, 0.4553031, 0.4538774, 0.4643204, 0.4881822, 0.4992190, 0.5127671, 0.5182494, 0.5300732, 0.5358121, 0.5464979, 0.5785460, 0.5892935, 0.5938302, 0.5973344, 0.6029045, 0.6057769, 0.6135602, 0.6092361, 0.5950356, 0.5910879, 0.5721291</td><td>0.5084014, 0.4992163, 0.4691159, 0.4769311, 0.4543334, 0.4705589, 0.4650044, 0.4516397, 0.4183939, 0.4460144, 0.4580368, 0.4032085, 0.4325730, 0.4469912, 0.4780969, 0.4612418, 0.4926567, 0.5389419, 0.5940445, 0.6035938, 0.6278855, 0.6240876, 0.6641187, 0.7483581, 0.6893554, 0.6885824, 0.6389015, 0.6472982, 0.6605986, 0.6928892, 0.7196661, 0.7107051, 0.6820282, 0.6542262, 0.6282046, 0.5931635, 0.5808101, 0.5353107, 0.4516191, 0.4320660, 0.3969305, 0.3696511, 0.3461371, 0.3570355, 0.4009525, 0.4458206, 0.4693457, 0.4796245, 0.4683311, 0.4548420, 0.4557622, 0.4466009, 0.4414828, 0.4561388, 0.4738059</td></tr>\n",
       "\t<tr><th scope=row>5</th><td>1005</td><td>1</td><td>0</td><td>1</td><td>0</td><td>male  </td><td>NA</td><td>0.4018747, 0.4055805, 0.3985487, 0.3860009, 0.4088248, 0.4251830, 0.4296263, 0.4445455, 0.4869439, 0.5100381, 0.5370970, 0.5495563, 0.5530675, 0.5552451, 0.5515937, 0.5405005, 0.5216249, 0.4937439, 0.4676554, 0.4492405, 0.4328835, 0.4302568, 0.4136841, 0.4171932, 0.4308096, 0.4333863, 0.4309859, 0.4293500, 0.4472919, 0.4475631, 0.4443928, 0.4465552, 0.4555505, 0.4598154, 0.4588684, 0.4510280, 0.4479067, 0.4288189, 0.4344099, 0.4413199, 0.4545124, 0.4640535, 0.4653603, 0.4622807, 0.4682920, 0.4724640, 0.4865018, 0.4889248, 0.5030559, 0.5046597, 0.5081852, 0.4963467, 0.4906359, 0.4751055, 0.4673718, 0.4658837, 0.4628209, 0.4558239, 0.4466764, 0.4479579, 0.4483537, 0.4559092, 0.4650150, 0.4680664, 0.4610759, 0.4653676, 0.4541795, 0.4461444, 0.4371924, 0.4263956, 0.4071285, 0.3883047, 0.3731089, 0.3724391, 0.3662524, 0.3749865, 0.3913597, 0.4063210, 0.4277560, 0.4484050, 0.4646201, 0.4733612, 0.4714478, 0.4598014, 0.4955797, 0.5698172, 0.6075271, 0.6004670, 0.5928705, 0.6061470, 0.6067129, 0.5915445, 0.5529606</td><td>      NaN,       NaN,       NaN,       NaN,       NaN,       NaN,       NaN,       NaN,       NaN,       NaN,       NaN,       NaN, 0.3977058, 0.4079596, 0.4459420, 0.4663953, 0.4593197, 0.4511683, 0.4702447, 0.5023612, 0.5646569, 0.5882904, 0.5629938, 0.5475182, 0.5099632, 0.5287529, 0.5645719, 0.5841638, 0.5995660, 0.6381874, 0.6984054, 0.7147462, 0.6943818, 0.6758208, 0.6536192, 0.6074113, 0.5573240, 0.5266489, 0.4671231, 0.4092376, 0.3763735, 0.3519118, 0.3618251, 0.3829314, 0.4217941, 0.4171747, 0.4253626, 0.4308574, 0.4320994, 0.4214853, 0.4609892, 0.5057951, 0.5080890, 0.4767073, 0.4429195</td></tr>\n",
       "\t<tr><th scope=row>6</th><td>1006</td><td>1</td><td>0</td><td>1</td><td>0</td><td>male  </td><td>NA</td><td>0.4507296, 0.4535052, 0.4575306, 0.4655026, 0.4804154, 0.4937174, 0.5006674, 0.5083514, 0.5359727, 0.5628992, 0.5839382, 0.6011204, 0.6004425, 0.5910003, 0.5932429, 0.5952501, 0.5897929, 0.5674635, 0.5600975, 0.5442711, 0.5307788, 0.5270553, 0.5242514, 0.5284671, 0.5284363, 0.5263287, 0.5148458, 0.5112428, 0.5095147, 0.5101039, 0.5141380, 0.5105966, 0.5094148, 0.5154653, 0.5322481, 0.5399518, 0.5390547, 0.5411247, 0.5400291, 0.5393729, 0.5410160, 0.5491967, 0.5463855, 0.5429810, 0.5365108, 0.5289166, 0.5306145, 0.5335256, 0.5366259, 0.5454417, 0.5530306, 0.5562951, 0.5556393, 0.5553431, 0.5454777, 0.5393787, 0.5278914, 0.5133496, 0.5004446, 0.4985635, 0.4935425, 0.4969251, 0.4938564, 0.4933331, 0.4879019, 0.4984086, 0.5122750, 0.5194019, 0.5305953, 0.5408786, 0.5483874, 0.5537315, 0.5609281, 0.5702388, 0.5791580, 0.5921053, 0.5845321, 0.6041333, 0.6194701, 0.6211175, 0.6180734, 0.6086901, 0.6156449, 0.6227556, 0.6188223, 0.6118301, 0.5994892, 0.5639784, 0.5438903, 0.5573987, 0.5438379, 0.5225091, 0.5131888</td><td>      NaN,       NaN,       NaN, 0.4667860, 0.4902578, 0.4447027, 0.5080710, 0.5048712, 0.5174266, 0.5170904, 0.4614651, 0.4175223, 0.3966519, 0.4429594, 0.4981442, 0.5012751, 0.4944828, 0.5252420, 0.5647402, 0.5555619, 0.5503638, 0.5351496, 0.5871307, 0.6427424, 0.6547044, 0.6116605, 0.5807249, 0.6231745, 0.6273913, 0.6485733, 0.6805228, 0.6855703, 0.6657428, 0.6465982, 0.6437774, 0.6108314, 0.5535329, 0.5110511, 0.4527900, 0.3999296, 0.3606198, 0.3296604, 0.3191388, 0.3408626, 0.3994447, 0.4403925, 0.4856287, 0.4982856, 0.4916248, 0.4721890, 0.4359856, 0.4185785, 0.4495368, 0.4603511, 0.4601647</td></tr>\n",
       "</tbody>\n",
       "</table>\n"
      ],
      "text/latex": [
       "A data.frame: 6 × 9\n",
       "\\begin{tabular}{r|lllllllll}\n",
       "  & ID & visit & visit.time & Nscans & case & sex & pasat & cca & rcst\\\\\n",
       "  & <dbl> & <int> & <int> & <int> & <dbl> & <fct> & <int> & <dbl{[},93{]}> & <dbl{[},55{]}>\\\\\n",
       "\\hline\n",
       "\t1 & 1001 & 1 & 0 & 1 & 0 & female & NA & 0.4909345, 0.5168018, 0.5356539, 0.5553587, 0.5927610, 0.6326935, 0.6503855, 0.6556130, 0.6493701, 0.6378739, 0.6286463, 0.6249649, 0.6164504, 0.6113308, 0.5846939, 0.5385250, 0.4950826, 0.4952554, 0.4888065, 0.4825257, 0.4741349, 0.4898970, 0.4928850, 0.4911993, 0.4932295, 0.5043283, 0.5092916, 0.5059736, 0.5065265, 0.5050361, 0.5066120, 0.5028980, 0.5073618, 0.5081009, 0.5247082, 0.5252773, 0.5235987, 0.5243505, 0.5254499, 0.5306318, 0.5338370, 0.5296567, 0.5318295, 0.5296125, 0.5331821, 0.5288681, 0.5307563, 0.5416137, 0.5452572, 0.5474421, 0.5441192, 0.5347157, 0.5279458, 0.5259310, 0.5175913, 0.5234301, 0.5217467, 0.5250109, 0.5195787, 0.5092322, 0.4879112, 0.4754212, 0.4655447, 0.4513198, 0.4394037, 0.4379589, 0.4339554, 0.4245345, 0.4179126, 0.4184430, 0.4117148, 0.4191516, 0.4376579, 0.4528836, 0.4735466, 0.4922851, 0.4976906, 0.5111858, 0.5357575, 0.5380131, 0.5387591, 0.5385923, 0.5431367, 0.5632726, 0.5903442, 0.5812517, 0.5768193, 0.5916373, 0.6047983, 0.6118206, 0.6072471, 0.5974377, 0.5904773 & 0.2572899, 0.4539093, 0.3974958, 0.3915055, 0.4181097, 0.4165069, 0.4357346, 0.4540771, 0.4841092, 0.4536247, 0.5051717, 0.5190712, 0.5807487, 0.5661553, 0.5833364, 0.5603094, 0.5345778, 0.5623530, 0.6101868, 0.6075959, 0.6240531, 0.7011781, 0.7701491, 0.7426501, 0.6603320, 0.6868709, 0.6910859, 0.7008225, 0.7090975, 0.7170979, 0.7262979, 0.7284356, 0.7156681, 0.6972388, 0.6685733, 0.6328179, 0.5990850, 0.5801229, 0.5738956, 0.5527057, 0.5058014, 0.4450996, 0.3727109, 0.3259199, 0.3151132, 0.3231551, 0.3733820, 0.4597227, 0.5190081, 0.5084256, 0.5013133, 0.4828025, 0.4709835, 0.4287402, 0.4557126\\\\\n",
       "\t2 & 1002 & 1 & 0 & 1 & 0 & female & NA & 0.4721627, 0.4868219, 0.5022577, 0.5233635, 0.5524401, 0.5872003, 0.5970120, 0.6026607, 0.5922767, 0.5791859, 0.5714253, 0.5640410, 0.5488670, 0.5148614, 0.4690637, 0.4654895, 0.4945643, 0.5027834, 0.5290919, 0.5236951, 0.5009698, 0.5070110, 0.5206877, 0.5153710, 0.5076689, 0.5017398, 0.4982807, 0.4993118, 0.4869815, 0.4797477, 0.4787024, 0.4760067, 0.4795855, 0.4781358, 0.4784981, 0.4869597, 0.5065917, 0.5220251, 0.5445128, 0.5510683, 0.5453291, 0.5442394, 0.5345523, 0.5294878, 0.5287803, 0.5116867, 0.4984125, 0.4872645, 0.4818140, 0.4791778, 0.4769786, 0.4805995, 0.4742046, 0.4575991, 0.4526461, 0.4501681, 0.4521089, 0.4581485, 0.4618510, 0.4685422, 0.4699607, 0.4765646, 0.4666116, 0.4626807, 0.4690559, 0.4767521, 0.4787997, 0.4795087, 0.4818308, 0.4887047, 0.4940524, 0.5075587, 0.5209661, 0.5285265, 0.5200662, 0.5465158, 0.5642346, 0.5570745, 0.5766790, 0.5894610, 0.5750992, 0.5891457, 0.6038479, 0.6269639, 0.6265557, 0.6024469, 0.5859679, 0.5778964, 0.5849247, 0.6037823, 0.6068070, 0.5946983, 0.5802742 &       NaN,       NaN,       NaN,       NaN,       NaN,       NaN,       NaN,       NaN,       NaN,       NaN,       NaN,       NaN, 0.4427903, 0.4799762, 0.4842274, 0.5239656, 0.5594616, 0.6047412, 0.6070987, 0.6534204, 0.6910838, 0.6663648, 0.7453985, 0.7552195, 0.7129236, 0.6598093, 0.6647575, 0.7498987, 0.7653176, 0.7016240, 0.7160461, 0.7138011, 0.6769029, 0.6252532, 0.6085429, 0.5917788, 0.5692703, 0.5564034, 0.5408012, 0.4996903, 0.4079949, 0.3440148, 0.3113530, 0.3197576, 0.3746915, 0.4106683, 0.4513569, 0.4839963, 0.4920049, 0.5002135, 0.5298003, 0.5132566, 0.4892501, 0.5183189, 0.5100032\\\\\n",
       "\t3 & 1003 & 1 & 0 & 1 & 0 & male   & NA & 0.5023738, 0.5136516, 0.5392542, 0.5742101, 0.6031339, 0.6335913, 0.6357541, 0.6350799, 0.6201638, 0.6086281, 0.5910287, 0.5680196, 0.5433478, 0.5134790, 0.4871413, 0.4840465, 0.4948048, 0.4906371, 0.4877579, 0.4742280, 0.4738927, 0.4807152, 0.4739193, 0.4670146, 0.4849994, 0.4870079, 0.4788655, 0.4700110, 0.4724737, 0.4824247, 0.4725281, 0.4758382, 0.4773336, 0.4825085, 0.4907332, 0.4852776, 0.4835870, 0.4742337, 0.4742299, 0.4688590, 0.4722176, 0.4788008, 0.4803440, 0.4789484, 0.4802429, 0.4883517, 0.4993035, 0.5062250, 0.5014466, 0.4911293, 0.4988815, 0.5020438, 0.5023207, 0.4976664, 0.4900235, 0.4861588, 0.4769564, 0.4662806, 0.4600752, 0.4610481, 0.4506334, 0.4442553, 0.4372329, 0.4424339, 0.4434134, 0.4464280, 0.4498960, 0.4646567, 0.4737444, 0.4890673, 0.4755496, 0.4704858, 0.4490488, 0.4558191, 0.4685645, 0.4891330, 0.5178116, 0.5445336, 0.5325316, 0.5435952, 0.5755065, 0.5669365, 0.5611880, 0.5618615, 0.4979372, 0.4693416, 0.5376648, 0.5916874, 0.6318164, 0.6518945, 0.6663194, 0.6714403, 0.6747586 &       NaN,       NaN,       NaN,       NaN,       NaN,       NaN,       NaN,       NaN,       NaN,       NaN,       NaN,       NaN, 0.4242951, 0.4083576, 0.4397501, 0.4502663, 0.4443586, 0.5011072, 0.4793393, 0.4803002, 0.5289717, 0.6112340, 0.6479803, 0.6017279, 0.5460718, 0.5464185, 0.5249155, 0.5413014, 0.5365488, 0.5243660, 0.5286935, 0.5360446, 0.5376481, 0.5613167, 0.5918731, 0.5972560, 0.6323820, 0.6274462, 0.5886160, 0.5386779, 0.4982805, 0.4743366, 0.4248040, 0.3810404, 0.3438456, 0.3691729, 0.4243655, 0.4913873, 0.5264028, 0.5382920, 0.4941652, 0.4786767, 0.4648388, 0.4744005, 0.4666150\\\\\n",
       "\t4 & 1004 & 1 & 0 & 1 & 0 & male   & NA & 0.4021894, 0.4225127, 0.4398983, 0.4600235, 0.4751297, 0.4990257, 0.5169105, 0.5552692, 0.5826485, 0.6005767, 0.6135842, 0.6087443, 0.6049979, 0.6097975, 0.6123108, 0.6054502, 0.5878376, 0.5627270, 0.5388493, 0.5277784, 0.5353428, 0.5407067, 0.5427709, 0.5340262, 0.5321662, 0.5264835, 0.5285895, 0.5170827, 0.5192671, 0.5283726, 0.5369133, 0.5415416, 0.5411768, 0.5298056, 0.5265747, 0.5230531, 0.5322323, 0.5437366, 0.5473111, 0.5435323, 0.5403579, 0.5492442, 0.5464427, 0.5513654, 0.5442514, 0.5418579, 0.5276556, 0.5260929, 0.5268219, 0.5322590, 0.5352924, 0.5421866, 0.5406984, 0.5355762, 0.5287561, 0.5238445, 0.5214700, 0.5246442, 0.5195213, 0.5200249, 0.5096727, 0.5097405, 0.4958409, 0.4733000, 0.4706838, 0.4593108, 0.4526219, 0.4437527, 0.4466991, 0.4473163, 0.4423435, 0.4467567, 0.4553031, 0.4538774, 0.4643204, 0.4881822, 0.4992190, 0.5127671, 0.5182494, 0.5300732, 0.5358121, 0.5464979, 0.5785460, 0.5892935, 0.5938302, 0.5973344, 0.6029045, 0.6057769, 0.6135602, 0.6092361, 0.5950356, 0.5910879, 0.5721291 & 0.5084014, 0.4992163, 0.4691159, 0.4769311, 0.4543334, 0.4705589, 0.4650044, 0.4516397, 0.4183939, 0.4460144, 0.4580368, 0.4032085, 0.4325730, 0.4469912, 0.4780969, 0.4612418, 0.4926567, 0.5389419, 0.5940445, 0.6035938, 0.6278855, 0.6240876, 0.6641187, 0.7483581, 0.6893554, 0.6885824, 0.6389015, 0.6472982, 0.6605986, 0.6928892, 0.7196661, 0.7107051, 0.6820282, 0.6542262, 0.6282046, 0.5931635, 0.5808101, 0.5353107, 0.4516191, 0.4320660, 0.3969305, 0.3696511, 0.3461371, 0.3570355, 0.4009525, 0.4458206, 0.4693457, 0.4796245, 0.4683311, 0.4548420, 0.4557622, 0.4466009, 0.4414828, 0.4561388, 0.4738059\\\\\n",
       "\t5 & 1005 & 1 & 0 & 1 & 0 & male   & NA & 0.4018747, 0.4055805, 0.3985487, 0.3860009, 0.4088248, 0.4251830, 0.4296263, 0.4445455, 0.4869439, 0.5100381, 0.5370970, 0.5495563, 0.5530675, 0.5552451, 0.5515937, 0.5405005, 0.5216249, 0.4937439, 0.4676554, 0.4492405, 0.4328835, 0.4302568, 0.4136841, 0.4171932, 0.4308096, 0.4333863, 0.4309859, 0.4293500, 0.4472919, 0.4475631, 0.4443928, 0.4465552, 0.4555505, 0.4598154, 0.4588684, 0.4510280, 0.4479067, 0.4288189, 0.4344099, 0.4413199, 0.4545124, 0.4640535, 0.4653603, 0.4622807, 0.4682920, 0.4724640, 0.4865018, 0.4889248, 0.5030559, 0.5046597, 0.5081852, 0.4963467, 0.4906359, 0.4751055, 0.4673718, 0.4658837, 0.4628209, 0.4558239, 0.4466764, 0.4479579, 0.4483537, 0.4559092, 0.4650150, 0.4680664, 0.4610759, 0.4653676, 0.4541795, 0.4461444, 0.4371924, 0.4263956, 0.4071285, 0.3883047, 0.3731089, 0.3724391, 0.3662524, 0.3749865, 0.3913597, 0.4063210, 0.4277560, 0.4484050, 0.4646201, 0.4733612, 0.4714478, 0.4598014, 0.4955797, 0.5698172, 0.6075271, 0.6004670, 0.5928705, 0.6061470, 0.6067129, 0.5915445, 0.5529606 &       NaN,       NaN,       NaN,       NaN,       NaN,       NaN,       NaN,       NaN,       NaN,       NaN,       NaN,       NaN, 0.3977058, 0.4079596, 0.4459420, 0.4663953, 0.4593197, 0.4511683, 0.4702447, 0.5023612, 0.5646569, 0.5882904, 0.5629938, 0.5475182, 0.5099632, 0.5287529, 0.5645719, 0.5841638, 0.5995660, 0.6381874, 0.6984054, 0.7147462, 0.6943818, 0.6758208, 0.6536192, 0.6074113, 0.5573240, 0.5266489, 0.4671231, 0.4092376, 0.3763735, 0.3519118, 0.3618251, 0.3829314, 0.4217941, 0.4171747, 0.4253626, 0.4308574, 0.4320994, 0.4214853, 0.4609892, 0.5057951, 0.5080890, 0.4767073, 0.4429195\\\\\n",
       "\t6 & 1006 & 1 & 0 & 1 & 0 & male   & NA & 0.4507296, 0.4535052, 0.4575306, 0.4655026, 0.4804154, 0.4937174, 0.5006674, 0.5083514, 0.5359727, 0.5628992, 0.5839382, 0.6011204, 0.6004425, 0.5910003, 0.5932429, 0.5952501, 0.5897929, 0.5674635, 0.5600975, 0.5442711, 0.5307788, 0.5270553, 0.5242514, 0.5284671, 0.5284363, 0.5263287, 0.5148458, 0.5112428, 0.5095147, 0.5101039, 0.5141380, 0.5105966, 0.5094148, 0.5154653, 0.5322481, 0.5399518, 0.5390547, 0.5411247, 0.5400291, 0.5393729, 0.5410160, 0.5491967, 0.5463855, 0.5429810, 0.5365108, 0.5289166, 0.5306145, 0.5335256, 0.5366259, 0.5454417, 0.5530306, 0.5562951, 0.5556393, 0.5553431, 0.5454777, 0.5393787, 0.5278914, 0.5133496, 0.5004446, 0.4985635, 0.4935425, 0.4969251, 0.4938564, 0.4933331, 0.4879019, 0.4984086, 0.5122750, 0.5194019, 0.5305953, 0.5408786, 0.5483874, 0.5537315, 0.5609281, 0.5702388, 0.5791580, 0.5921053, 0.5845321, 0.6041333, 0.6194701, 0.6211175, 0.6180734, 0.6086901, 0.6156449, 0.6227556, 0.6188223, 0.6118301, 0.5994892, 0.5639784, 0.5438903, 0.5573987, 0.5438379, 0.5225091, 0.5131888 &       NaN,       NaN,       NaN, 0.4667860, 0.4902578, 0.4447027, 0.5080710, 0.5048712, 0.5174266, 0.5170904, 0.4614651, 0.4175223, 0.3966519, 0.4429594, 0.4981442, 0.5012751, 0.4944828, 0.5252420, 0.5647402, 0.5555619, 0.5503638, 0.5351496, 0.5871307, 0.6427424, 0.6547044, 0.6116605, 0.5807249, 0.6231745, 0.6273913, 0.6485733, 0.6805228, 0.6855703, 0.6657428, 0.6465982, 0.6437774, 0.6108314, 0.5535329, 0.5110511, 0.4527900, 0.3999296, 0.3606198, 0.3296604, 0.3191388, 0.3408626, 0.3994447, 0.4403925, 0.4856287, 0.4982856, 0.4916248, 0.4721890, 0.4359856, 0.4185785, 0.4495368, 0.4603511, 0.4601647\\\\\n",
       "\\end{tabular}\n"
      ],
      "text/markdown": [
       "\n",
       "A data.frame: 6 × 9\n",
       "\n",
       "| <!--/--> | ID &lt;dbl&gt; | visit &lt;int&gt; | visit.time &lt;int&gt; | Nscans &lt;int&gt; | case &lt;dbl&gt; | sex &lt;fct&gt; | pasat &lt;int&gt; | cca &lt;dbl[,93]&gt; | rcst &lt;dbl[,55]&gt; |\n",
       "|---|---|---|---|---|---|---|---|---|---|\n",
       "| 1 | 1001 | 1 | 0 | 1 | 0 | female | NA | 0.4909345, 0.5168018, 0.5356539, 0.5553587, 0.5927610, 0.6326935, 0.6503855, 0.6556130, 0.6493701, 0.6378739, 0.6286463, 0.6249649, 0.6164504, 0.6113308, 0.5846939, 0.5385250, 0.4950826, 0.4952554, 0.4888065, 0.4825257, 0.4741349, 0.4898970, 0.4928850, 0.4911993, 0.4932295, 0.5043283, 0.5092916, 0.5059736, 0.5065265, 0.5050361, 0.5066120, 0.5028980, 0.5073618, 0.5081009, 0.5247082, 0.5252773, 0.5235987, 0.5243505, 0.5254499, 0.5306318, 0.5338370, 0.5296567, 0.5318295, 0.5296125, 0.5331821, 0.5288681, 0.5307563, 0.5416137, 0.5452572, 0.5474421, 0.5441192, 0.5347157, 0.5279458, 0.5259310, 0.5175913, 0.5234301, 0.5217467, 0.5250109, 0.5195787, 0.5092322, 0.4879112, 0.4754212, 0.4655447, 0.4513198, 0.4394037, 0.4379589, 0.4339554, 0.4245345, 0.4179126, 0.4184430, 0.4117148, 0.4191516, 0.4376579, 0.4528836, 0.4735466, 0.4922851, 0.4976906, 0.5111858, 0.5357575, 0.5380131, 0.5387591, 0.5385923, 0.5431367, 0.5632726, 0.5903442, 0.5812517, 0.5768193, 0.5916373, 0.6047983, 0.6118206, 0.6072471, 0.5974377, 0.5904773 | 0.2572899, 0.4539093, 0.3974958, 0.3915055, 0.4181097, 0.4165069, 0.4357346, 0.4540771, 0.4841092, 0.4536247, 0.5051717, 0.5190712, 0.5807487, 0.5661553, 0.5833364, 0.5603094, 0.5345778, 0.5623530, 0.6101868, 0.6075959, 0.6240531, 0.7011781, 0.7701491, 0.7426501, 0.6603320, 0.6868709, 0.6910859, 0.7008225, 0.7090975, 0.7170979, 0.7262979, 0.7284356, 0.7156681, 0.6972388, 0.6685733, 0.6328179, 0.5990850, 0.5801229, 0.5738956, 0.5527057, 0.5058014, 0.4450996, 0.3727109, 0.3259199, 0.3151132, 0.3231551, 0.3733820, 0.4597227, 0.5190081, 0.5084256, 0.5013133, 0.4828025, 0.4709835, 0.4287402, 0.4557126 |\n",
       "| 2 | 1002 | 1 | 0 | 1 | 0 | female | NA | 0.4721627, 0.4868219, 0.5022577, 0.5233635, 0.5524401, 0.5872003, 0.5970120, 0.6026607, 0.5922767, 0.5791859, 0.5714253, 0.5640410, 0.5488670, 0.5148614, 0.4690637, 0.4654895, 0.4945643, 0.5027834, 0.5290919, 0.5236951, 0.5009698, 0.5070110, 0.5206877, 0.5153710, 0.5076689, 0.5017398, 0.4982807, 0.4993118, 0.4869815, 0.4797477, 0.4787024, 0.4760067, 0.4795855, 0.4781358, 0.4784981, 0.4869597, 0.5065917, 0.5220251, 0.5445128, 0.5510683, 0.5453291, 0.5442394, 0.5345523, 0.5294878, 0.5287803, 0.5116867, 0.4984125, 0.4872645, 0.4818140, 0.4791778, 0.4769786, 0.4805995, 0.4742046, 0.4575991, 0.4526461, 0.4501681, 0.4521089, 0.4581485, 0.4618510, 0.4685422, 0.4699607, 0.4765646, 0.4666116, 0.4626807, 0.4690559, 0.4767521, 0.4787997, 0.4795087, 0.4818308, 0.4887047, 0.4940524, 0.5075587, 0.5209661, 0.5285265, 0.5200662, 0.5465158, 0.5642346, 0.5570745, 0.5766790, 0.5894610, 0.5750992, 0.5891457, 0.6038479, 0.6269639, 0.6265557, 0.6024469, 0.5859679, 0.5778964, 0.5849247, 0.6037823, 0.6068070, 0.5946983, 0.5802742 |       NaN,       NaN,       NaN,       NaN,       NaN,       NaN,       NaN,       NaN,       NaN,       NaN,       NaN,       NaN, 0.4427903, 0.4799762, 0.4842274, 0.5239656, 0.5594616, 0.6047412, 0.6070987, 0.6534204, 0.6910838, 0.6663648, 0.7453985, 0.7552195, 0.7129236, 0.6598093, 0.6647575, 0.7498987, 0.7653176, 0.7016240, 0.7160461, 0.7138011, 0.6769029, 0.6252532, 0.6085429, 0.5917788, 0.5692703, 0.5564034, 0.5408012, 0.4996903, 0.4079949, 0.3440148, 0.3113530, 0.3197576, 0.3746915, 0.4106683, 0.4513569, 0.4839963, 0.4920049, 0.5002135, 0.5298003, 0.5132566, 0.4892501, 0.5183189, 0.5100032 |\n",
       "| 3 | 1003 | 1 | 0 | 1 | 0 | male   | NA | 0.5023738, 0.5136516, 0.5392542, 0.5742101, 0.6031339, 0.6335913, 0.6357541, 0.6350799, 0.6201638, 0.6086281, 0.5910287, 0.5680196, 0.5433478, 0.5134790, 0.4871413, 0.4840465, 0.4948048, 0.4906371, 0.4877579, 0.4742280, 0.4738927, 0.4807152, 0.4739193, 0.4670146, 0.4849994, 0.4870079, 0.4788655, 0.4700110, 0.4724737, 0.4824247, 0.4725281, 0.4758382, 0.4773336, 0.4825085, 0.4907332, 0.4852776, 0.4835870, 0.4742337, 0.4742299, 0.4688590, 0.4722176, 0.4788008, 0.4803440, 0.4789484, 0.4802429, 0.4883517, 0.4993035, 0.5062250, 0.5014466, 0.4911293, 0.4988815, 0.5020438, 0.5023207, 0.4976664, 0.4900235, 0.4861588, 0.4769564, 0.4662806, 0.4600752, 0.4610481, 0.4506334, 0.4442553, 0.4372329, 0.4424339, 0.4434134, 0.4464280, 0.4498960, 0.4646567, 0.4737444, 0.4890673, 0.4755496, 0.4704858, 0.4490488, 0.4558191, 0.4685645, 0.4891330, 0.5178116, 0.5445336, 0.5325316, 0.5435952, 0.5755065, 0.5669365, 0.5611880, 0.5618615, 0.4979372, 0.4693416, 0.5376648, 0.5916874, 0.6318164, 0.6518945, 0.6663194, 0.6714403, 0.6747586 |       NaN,       NaN,       NaN,       NaN,       NaN,       NaN,       NaN,       NaN,       NaN,       NaN,       NaN,       NaN, 0.4242951, 0.4083576, 0.4397501, 0.4502663, 0.4443586, 0.5011072, 0.4793393, 0.4803002, 0.5289717, 0.6112340, 0.6479803, 0.6017279, 0.5460718, 0.5464185, 0.5249155, 0.5413014, 0.5365488, 0.5243660, 0.5286935, 0.5360446, 0.5376481, 0.5613167, 0.5918731, 0.5972560, 0.6323820, 0.6274462, 0.5886160, 0.5386779, 0.4982805, 0.4743366, 0.4248040, 0.3810404, 0.3438456, 0.3691729, 0.4243655, 0.4913873, 0.5264028, 0.5382920, 0.4941652, 0.4786767, 0.4648388, 0.4744005, 0.4666150 |\n",
       "| 4 | 1004 | 1 | 0 | 1 | 0 | male   | NA | 0.4021894, 0.4225127, 0.4398983, 0.4600235, 0.4751297, 0.4990257, 0.5169105, 0.5552692, 0.5826485, 0.6005767, 0.6135842, 0.6087443, 0.6049979, 0.6097975, 0.6123108, 0.6054502, 0.5878376, 0.5627270, 0.5388493, 0.5277784, 0.5353428, 0.5407067, 0.5427709, 0.5340262, 0.5321662, 0.5264835, 0.5285895, 0.5170827, 0.5192671, 0.5283726, 0.5369133, 0.5415416, 0.5411768, 0.5298056, 0.5265747, 0.5230531, 0.5322323, 0.5437366, 0.5473111, 0.5435323, 0.5403579, 0.5492442, 0.5464427, 0.5513654, 0.5442514, 0.5418579, 0.5276556, 0.5260929, 0.5268219, 0.5322590, 0.5352924, 0.5421866, 0.5406984, 0.5355762, 0.5287561, 0.5238445, 0.5214700, 0.5246442, 0.5195213, 0.5200249, 0.5096727, 0.5097405, 0.4958409, 0.4733000, 0.4706838, 0.4593108, 0.4526219, 0.4437527, 0.4466991, 0.4473163, 0.4423435, 0.4467567, 0.4553031, 0.4538774, 0.4643204, 0.4881822, 0.4992190, 0.5127671, 0.5182494, 0.5300732, 0.5358121, 0.5464979, 0.5785460, 0.5892935, 0.5938302, 0.5973344, 0.6029045, 0.6057769, 0.6135602, 0.6092361, 0.5950356, 0.5910879, 0.5721291 | 0.5084014, 0.4992163, 0.4691159, 0.4769311, 0.4543334, 0.4705589, 0.4650044, 0.4516397, 0.4183939, 0.4460144, 0.4580368, 0.4032085, 0.4325730, 0.4469912, 0.4780969, 0.4612418, 0.4926567, 0.5389419, 0.5940445, 0.6035938, 0.6278855, 0.6240876, 0.6641187, 0.7483581, 0.6893554, 0.6885824, 0.6389015, 0.6472982, 0.6605986, 0.6928892, 0.7196661, 0.7107051, 0.6820282, 0.6542262, 0.6282046, 0.5931635, 0.5808101, 0.5353107, 0.4516191, 0.4320660, 0.3969305, 0.3696511, 0.3461371, 0.3570355, 0.4009525, 0.4458206, 0.4693457, 0.4796245, 0.4683311, 0.4548420, 0.4557622, 0.4466009, 0.4414828, 0.4561388, 0.4738059 |\n",
       "| 5 | 1005 | 1 | 0 | 1 | 0 | male   | NA | 0.4018747, 0.4055805, 0.3985487, 0.3860009, 0.4088248, 0.4251830, 0.4296263, 0.4445455, 0.4869439, 0.5100381, 0.5370970, 0.5495563, 0.5530675, 0.5552451, 0.5515937, 0.5405005, 0.5216249, 0.4937439, 0.4676554, 0.4492405, 0.4328835, 0.4302568, 0.4136841, 0.4171932, 0.4308096, 0.4333863, 0.4309859, 0.4293500, 0.4472919, 0.4475631, 0.4443928, 0.4465552, 0.4555505, 0.4598154, 0.4588684, 0.4510280, 0.4479067, 0.4288189, 0.4344099, 0.4413199, 0.4545124, 0.4640535, 0.4653603, 0.4622807, 0.4682920, 0.4724640, 0.4865018, 0.4889248, 0.5030559, 0.5046597, 0.5081852, 0.4963467, 0.4906359, 0.4751055, 0.4673718, 0.4658837, 0.4628209, 0.4558239, 0.4466764, 0.4479579, 0.4483537, 0.4559092, 0.4650150, 0.4680664, 0.4610759, 0.4653676, 0.4541795, 0.4461444, 0.4371924, 0.4263956, 0.4071285, 0.3883047, 0.3731089, 0.3724391, 0.3662524, 0.3749865, 0.3913597, 0.4063210, 0.4277560, 0.4484050, 0.4646201, 0.4733612, 0.4714478, 0.4598014, 0.4955797, 0.5698172, 0.6075271, 0.6004670, 0.5928705, 0.6061470, 0.6067129, 0.5915445, 0.5529606 |       NaN,       NaN,       NaN,       NaN,       NaN,       NaN,       NaN,       NaN,       NaN,       NaN,       NaN,       NaN, 0.3977058, 0.4079596, 0.4459420, 0.4663953, 0.4593197, 0.4511683, 0.4702447, 0.5023612, 0.5646569, 0.5882904, 0.5629938, 0.5475182, 0.5099632, 0.5287529, 0.5645719, 0.5841638, 0.5995660, 0.6381874, 0.6984054, 0.7147462, 0.6943818, 0.6758208, 0.6536192, 0.6074113, 0.5573240, 0.5266489, 0.4671231, 0.4092376, 0.3763735, 0.3519118, 0.3618251, 0.3829314, 0.4217941, 0.4171747, 0.4253626, 0.4308574, 0.4320994, 0.4214853, 0.4609892, 0.5057951, 0.5080890, 0.4767073, 0.4429195 |\n",
       "| 6 | 1006 | 1 | 0 | 1 | 0 | male   | NA | 0.4507296, 0.4535052, 0.4575306, 0.4655026, 0.4804154, 0.4937174, 0.5006674, 0.5083514, 0.5359727, 0.5628992, 0.5839382, 0.6011204, 0.6004425, 0.5910003, 0.5932429, 0.5952501, 0.5897929, 0.5674635, 0.5600975, 0.5442711, 0.5307788, 0.5270553, 0.5242514, 0.5284671, 0.5284363, 0.5263287, 0.5148458, 0.5112428, 0.5095147, 0.5101039, 0.5141380, 0.5105966, 0.5094148, 0.5154653, 0.5322481, 0.5399518, 0.5390547, 0.5411247, 0.5400291, 0.5393729, 0.5410160, 0.5491967, 0.5463855, 0.5429810, 0.5365108, 0.5289166, 0.5306145, 0.5335256, 0.5366259, 0.5454417, 0.5530306, 0.5562951, 0.5556393, 0.5553431, 0.5454777, 0.5393787, 0.5278914, 0.5133496, 0.5004446, 0.4985635, 0.4935425, 0.4969251, 0.4938564, 0.4933331, 0.4879019, 0.4984086, 0.5122750, 0.5194019, 0.5305953, 0.5408786, 0.5483874, 0.5537315, 0.5609281, 0.5702388, 0.5791580, 0.5921053, 0.5845321, 0.6041333, 0.6194701, 0.6211175, 0.6180734, 0.6086901, 0.6156449, 0.6227556, 0.6188223, 0.6118301, 0.5994892, 0.5639784, 0.5438903, 0.5573987, 0.5438379, 0.5225091, 0.5131888 |       NaN,       NaN,       NaN, 0.4667860, 0.4902578, 0.4447027, 0.5080710, 0.5048712, 0.5174266, 0.5170904, 0.4614651, 0.4175223, 0.3966519, 0.4429594, 0.4981442, 0.5012751, 0.4944828, 0.5252420, 0.5647402, 0.5555619, 0.5503638, 0.5351496, 0.5871307, 0.6427424, 0.6547044, 0.6116605, 0.5807249, 0.6231745, 0.6273913, 0.6485733, 0.6805228, 0.6855703, 0.6657428, 0.6465982, 0.6437774, 0.6108314, 0.5535329, 0.5110511, 0.4527900, 0.3999296, 0.3606198, 0.3296604, 0.3191388, 0.3408626, 0.3994447, 0.4403925, 0.4856287, 0.4982856, 0.4916248, 0.4721890, 0.4359856, 0.4185785, 0.4495368, 0.4603511, 0.4601647 |\n",
       "\n"
      ],
      "text/plain": [
       "  ID   visit visit.time Nscans case sex    pasat\n",
       "1 1001 1     0          1      0    female NA   \n",
       "2 1002 1     0          1      0    female NA   \n",
       "3 1003 1     0          1      0    male   NA   \n",
       "4 1004 1     0          1      0    male   NA   \n",
       "5 1005 1     0          1      0    male   NA   \n",
       "6 1006 1     0          1      0    male   NA   \n",
       "  cca                                                                                                                                                                                                                                                                                                                                                                                                                                                                                                                                                                                                                                                                                                                                                                                                                                                                                                                                                                                                                                                          \n",
       "1 0.4909345, 0.5168018, 0.5356539, 0.5553587, 0.5927610, 0.6326935, 0.6503855, 0.6556130, 0.6493701, 0.6378739, 0.6286463, 0.6249649, 0.6164504, 0.6113308, 0.5846939, 0.5385250, 0.4950826, 0.4952554, 0.4888065, 0.4825257, 0.4741349, 0.4898970, 0.4928850, 0.4911993, 0.4932295, 0.5043283, 0.5092916, 0.5059736, 0.5065265, 0.5050361, 0.5066120, 0.5028980, 0.5073618, 0.5081009, 0.5247082, 0.5252773, 0.5235987, 0.5243505, 0.5254499, 0.5306318, 0.5338370, 0.5296567, 0.5318295, 0.5296125, 0.5331821, 0.5288681, 0.5307563, 0.5416137, 0.5452572, 0.5474421, 0.5441192, 0.5347157, 0.5279458, 0.5259310, 0.5175913, 0.5234301, 0.5217467, 0.5250109, 0.5195787, 0.5092322, 0.4879112, 0.4754212, 0.4655447, 0.4513198, 0.4394037, 0.4379589, 0.4339554, 0.4245345, 0.4179126, 0.4184430, 0.4117148, 0.4191516, 0.4376579, 0.4528836, 0.4735466, 0.4922851, 0.4976906, 0.5111858, 0.5357575, 0.5380131, 0.5387591, 0.5385923, 0.5431367, 0.5632726, 0.5903442, 0.5812517, 0.5768193, 0.5916373, 0.6047983, 0.6118206, 0.6072471, 0.5974377, 0.5904773\n",
       "2 0.4721627, 0.4868219, 0.5022577, 0.5233635, 0.5524401, 0.5872003, 0.5970120, 0.6026607, 0.5922767, 0.5791859, 0.5714253, 0.5640410, 0.5488670, 0.5148614, 0.4690637, 0.4654895, 0.4945643, 0.5027834, 0.5290919, 0.5236951, 0.5009698, 0.5070110, 0.5206877, 0.5153710, 0.5076689, 0.5017398, 0.4982807, 0.4993118, 0.4869815, 0.4797477, 0.4787024, 0.4760067, 0.4795855, 0.4781358, 0.4784981, 0.4869597, 0.5065917, 0.5220251, 0.5445128, 0.5510683, 0.5453291, 0.5442394, 0.5345523, 0.5294878, 0.5287803, 0.5116867, 0.4984125, 0.4872645, 0.4818140, 0.4791778, 0.4769786, 0.4805995, 0.4742046, 0.4575991, 0.4526461, 0.4501681, 0.4521089, 0.4581485, 0.4618510, 0.4685422, 0.4699607, 0.4765646, 0.4666116, 0.4626807, 0.4690559, 0.4767521, 0.4787997, 0.4795087, 0.4818308, 0.4887047, 0.4940524, 0.5075587, 0.5209661, 0.5285265, 0.5200662, 0.5465158, 0.5642346, 0.5570745, 0.5766790, 0.5894610, 0.5750992, 0.5891457, 0.6038479, 0.6269639, 0.6265557, 0.6024469, 0.5859679, 0.5778964, 0.5849247, 0.6037823, 0.6068070, 0.5946983, 0.5802742\n",
       "3 0.5023738, 0.5136516, 0.5392542, 0.5742101, 0.6031339, 0.6335913, 0.6357541, 0.6350799, 0.6201638, 0.6086281, 0.5910287, 0.5680196, 0.5433478, 0.5134790, 0.4871413, 0.4840465, 0.4948048, 0.4906371, 0.4877579, 0.4742280, 0.4738927, 0.4807152, 0.4739193, 0.4670146, 0.4849994, 0.4870079, 0.4788655, 0.4700110, 0.4724737, 0.4824247, 0.4725281, 0.4758382, 0.4773336, 0.4825085, 0.4907332, 0.4852776, 0.4835870, 0.4742337, 0.4742299, 0.4688590, 0.4722176, 0.4788008, 0.4803440, 0.4789484, 0.4802429, 0.4883517, 0.4993035, 0.5062250, 0.5014466, 0.4911293, 0.4988815, 0.5020438, 0.5023207, 0.4976664, 0.4900235, 0.4861588, 0.4769564, 0.4662806, 0.4600752, 0.4610481, 0.4506334, 0.4442553, 0.4372329, 0.4424339, 0.4434134, 0.4464280, 0.4498960, 0.4646567, 0.4737444, 0.4890673, 0.4755496, 0.4704858, 0.4490488, 0.4558191, 0.4685645, 0.4891330, 0.5178116, 0.5445336, 0.5325316, 0.5435952, 0.5755065, 0.5669365, 0.5611880, 0.5618615, 0.4979372, 0.4693416, 0.5376648, 0.5916874, 0.6318164, 0.6518945, 0.6663194, 0.6714403, 0.6747586\n",
       "4 0.4021894, 0.4225127, 0.4398983, 0.4600235, 0.4751297, 0.4990257, 0.5169105, 0.5552692, 0.5826485, 0.6005767, 0.6135842, 0.6087443, 0.6049979, 0.6097975, 0.6123108, 0.6054502, 0.5878376, 0.5627270, 0.5388493, 0.5277784, 0.5353428, 0.5407067, 0.5427709, 0.5340262, 0.5321662, 0.5264835, 0.5285895, 0.5170827, 0.5192671, 0.5283726, 0.5369133, 0.5415416, 0.5411768, 0.5298056, 0.5265747, 0.5230531, 0.5322323, 0.5437366, 0.5473111, 0.5435323, 0.5403579, 0.5492442, 0.5464427, 0.5513654, 0.5442514, 0.5418579, 0.5276556, 0.5260929, 0.5268219, 0.5322590, 0.5352924, 0.5421866, 0.5406984, 0.5355762, 0.5287561, 0.5238445, 0.5214700, 0.5246442, 0.5195213, 0.5200249, 0.5096727, 0.5097405, 0.4958409, 0.4733000, 0.4706838, 0.4593108, 0.4526219, 0.4437527, 0.4466991, 0.4473163, 0.4423435, 0.4467567, 0.4553031, 0.4538774, 0.4643204, 0.4881822, 0.4992190, 0.5127671, 0.5182494, 0.5300732, 0.5358121, 0.5464979, 0.5785460, 0.5892935, 0.5938302, 0.5973344, 0.6029045, 0.6057769, 0.6135602, 0.6092361, 0.5950356, 0.5910879, 0.5721291\n",
       "5 0.4018747, 0.4055805, 0.3985487, 0.3860009, 0.4088248, 0.4251830, 0.4296263, 0.4445455, 0.4869439, 0.5100381, 0.5370970, 0.5495563, 0.5530675, 0.5552451, 0.5515937, 0.5405005, 0.5216249, 0.4937439, 0.4676554, 0.4492405, 0.4328835, 0.4302568, 0.4136841, 0.4171932, 0.4308096, 0.4333863, 0.4309859, 0.4293500, 0.4472919, 0.4475631, 0.4443928, 0.4465552, 0.4555505, 0.4598154, 0.4588684, 0.4510280, 0.4479067, 0.4288189, 0.4344099, 0.4413199, 0.4545124, 0.4640535, 0.4653603, 0.4622807, 0.4682920, 0.4724640, 0.4865018, 0.4889248, 0.5030559, 0.5046597, 0.5081852, 0.4963467, 0.4906359, 0.4751055, 0.4673718, 0.4658837, 0.4628209, 0.4558239, 0.4466764, 0.4479579, 0.4483537, 0.4559092, 0.4650150, 0.4680664, 0.4610759, 0.4653676, 0.4541795, 0.4461444, 0.4371924, 0.4263956, 0.4071285, 0.3883047, 0.3731089, 0.3724391, 0.3662524, 0.3749865, 0.3913597, 0.4063210, 0.4277560, 0.4484050, 0.4646201, 0.4733612, 0.4714478, 0.4598014, 0.4955797, 0.5698172, 0.6075271, 0.6004670, 0.5928705, 0.6061470, 0.6067129, 0.5915445, 0.5529606\n",
       "6 0.4507296, 0.4535052, 0.4575306, 0.4655026, 0.4804154, 0.4937174, 0.5006674, 0.5083514, 0.5359727, 0.5628992, 0.5839382, 0.6011204, 0.6004425, 0.5910003, 0.5932429, 0.5952501, 0.5897929, 0.5674635, 0.5600975, 0.5442711, 0.5307788, 0.5270553, 0.5242514, 0.5284671, 0.5284363, 0.5263287, 0.5148458, 0.5112428, 0.5095147, 0.5101039, 0.5141380, 0.5105966, 0.5094148, 0.5154653, 0.5322481, 0.5399518, 0.5390547, 0.5411247, 0.5400291, 0.5393729, 0.5410160, 0.5491967, 0.5463855, 0.5429810, 0.5365108, 0.5289166, 0.5306145, 0.5335256, 0.5366259, 0.5454417, 0.5530306, 0.5562951, 0.5556393, 0.5553431, 0.5454777, 0.5393787, 0.5278914, 0.5133496, 0.5004446, 0.4985635, 0.4935425, 0.4969251, 0.4938564, 0.4933331, 0.4879019, 0.4984086, 0.5122750, 0.5194019, 0.5305953, 0.5408786, 0.5483874, 0.5537315, 0.5609281, 0.5702388, 0.5791580, 0.5921053, 0.5845321, 0.6041333, 0.6194701, 0.6211175, 0.6180734, 0.6086901, 0.6156449, 0.6227556, 0.6188223, 0.6118301, 0.5994892, 0.5639784, 0.5438903, 0.5573987, 0.5438379, 0.5225091, 0.5131888\n",
       "  rcst                                                                                                                                                                                                                                                                                                                                                                                                                                                                                                                                                                                                                       \n",
       "1 0.2572899, 0.4539093, 0.3974958, 0.3915055, 0.4181097, 0.4165069, 0.4357346, 0.4540771, 0.4841092, 0.4536247, 0.5051717, 0.5190712, 0.5807487, 0.5661553, 0.5833364, 0.5603094, 0.5345778, 0.5623530, 0.6101868, 0.6075959, 0.6240531, 0.7011781, 0.7701491, 0.7426501, 0.6603320, 0.6868709, 0.6910859, 0.7008225, 0.7090975, 0.7170979, 0.7262979, 0.7284356, 0.7156681, 0.6972388, 0.6685733, 0.6328179, 0.5990850, 0.5801229, 0.5738956, 0.5527057, 0.5058014, 0.4450996, 0.3727109, 0.3259199, 0.3151132, 0.3231551, 0.3733820, 0.4597227, 0.5190081, 0.5084256, 0.5013133, 0.4828025, 0.4709835, 0.4287402, 0.4557126\n",
       "2       NaN,       NaN,       NaN,       NaN,       NaN,       NaN,       NaN,       NaN,       NaN,       NaN,       NaN,       NaN, 0.4427903, 0.4799762, 0.4842274, 0.5239656, 0.5594616, 0.6047412, 0.6070987, 0.6534204, 0.6910838, 0.6663648, 0.7453985, 0.7552195, 0.7129236, 0.6598093, 0.6647575, 0.7498987, 0.7653176, 0.7016240, 0.7160461, 0.7138011, 0.6769029, 0.6252532, 0.6085429, 0.5917788, 0.5692703, 0.5564034, 0.5408012, 0.4996903, 0.4079949, 0.3440148, 0.3113530, 0.3197576, 0.3746915, 0.4106683, 0.4513569, 0.4839963, 0.4920049, 0.5002135, 0.5298003, 0.5132566, 0.4892501, 0.5183189, 0.5100032\n",
       "3       NaN,       NaN,       NaN,       NaN,       NaN,       NaN,       NaN,       NaN,       NaN,       NaN,       NaN,       NaN, 0.4242951, 0.4083576, 0.4397501, 0.4502663, 0.4443586, 0.5011072, 0.4793393, 0.4803002, 0.5289717, 0.6112340, 0.6479803, 0.6017279, 0.5460718, 0.5464185, 0.5249155, 0.5413014, 0.5365488, 0.5243660, 0.5286935, 0.5360446, 0.5376481, 0.5613167, 0.5918731, 0.5972560, 0.6323820, 0.6274462, 0.5886160, 0.5386779, 0.4982805, 0.4743366, 0.4248040, 0.3810404, 0.3438456, 0.3691729, 0.4243655, 0.4913873, 0.5264028, 0.5382920, 0.4941652, 0.4786767, 0.4648388, 0.4744005, 0.4666150\n",
       "4 0.5084014, 0.4992163, 0.4691159, 0.4769311, 0.4543334, 0.4705589, 0.4650044, 0.4516397, 0.4183939, 0.4460144, 0.4580368, 0.4032085, 0.4325730, 0.4469912, 0.4780969, 0.4612418, 0.4926567, 0.5389419, 0.5940445, 0.6035938, 0.6278855, 0.6240876, 0.6641187, 0.7483581, 0.6893554, 0.6885824, 0.6389015, 0.6472982, 0.6605986, 0.6928892, 0.7196661, 0.7107051, 0.6820282, 0.6542262, 0.6282046, 0.5931635, 0.5808101, 0.5353107, 0.4516191, 0.4320660, 0.3969305, 0.3696511, 0.3461371, 0.3570355, 0.4009525, 0.4458206, 0.4693457, 0.4796245, 0.4683311, 0.4548420, 0.4557622, 0.4466009, 0.4414828, 0.4561388, 0.4738059\n",
       "5       NaN,       NaN,       NaN,       NaN,       NaN,       NaN,       NaN,       NaN,       NaN,       NaN,       NaN,       NaN, 0.3977058, 0.4079596, 0.4459420, 0.4663953, 0.4593197, 0.4511683, 0.4702447, 0.5023612, 0.5646569, 0.5882904, 0.5629938, 0.5475182, 0.5099632, 0.5287529, 0.5645719, 0.5841638, 0.5995660, 0.6381874, 0.6984054, 0.7147462, 0.6943818, 0.6758208, 0.6536192, 0.6074113, 0.5573240, 0.5266489, 0.4671231, 0.4092376, 0.3763735, 0.3519118, 0.3618251, 0.3829314, 0.4217941, 0.4171747, 0.4253626, 0.4308574, 0.4320994, 0.4214853, 0.4609892, 0.5057951, 0.5080890, 0.4767073, 0.4429195\n",
       "6       NaN,       NaN,       NaN, 0.4667860, 0.4902578, 0.4447027, 0.5080710, 0.5048712, 0.5174266, 0.5170904, 0.4614651, 0.4175223, 0.3966519, 0.4429594, 0.4981442, 0.5012751, 0.4944828, 0.5252420, 0.5647402, 0.5555619, 0.5503638, 0.5351496, 0.5871307, 0.6427424, 0.6547044, 0.6116605, 0.5807249, 0.6231745, 0.6273913, 0.6485733, 0.6805228, 0.6855703, 0.6657428, 0.6465982, 0.6437774, 0.6108314, 0.5535329, 0.5110511, 0.4527900, 0.3999296, 0.3606198, 0.3296604, 0.3191388, 0.3408626, 0.3994447, 0.4403925, 0.4856287, 0.4982856, 0.4916248, 0.4721890, 0.4359856, 0.4185785, 0.4495368, 0.4603511, 0.4601647"
      ]
     },
     "metadata": {},
     "output_type": "display_data"
    }
   ],
   "source": [
    "head(DTI)"
   ]
  },
  {
   "cell_type": "code",
   "execution_count": 122,
   "id": "ee515ef5",
   "metadata": {},
   "outputs": [],
   "source": [
    "y = DTI$cca\n",
    "y = y[-c(126, 130, 131, 125, 319, 321),] # missing values"
   ]
  },
  {
   "cell_type": "code",
   "execution_count": 123,
   "id": "fe53bece",
   "metadata": {},
   "outputs": [
    {
     "data": {
      "text/html": [
       "<style>\n",
       ".list-inline {list-style: none; margin:0; padding: 0}\n",
       ".list-inline>li {display: inline-block}\n",
       ".list-inline>li:not(:last-child)::after {content: \"\\00b7\"; padding: 0 .5ex}\n",
       "</style>\n",
       "<ol class=list-inline><li>376</li><li>93</li></ol>\n"
      ],
      "text/latex": [
       "\\begin{enumerate*}\n",
       "\\item 376\n",
       "\\item 93\n",
       "\\end{enumerate*}\n"
      ],
      "text/markdown": [
       "1. 376\n",
       "2. 93\n",
       "\n",
       "\n"
      ],
      "text/plain": [
       "[1] 376  93"
      ]
     },
     "metadata": {},
     "output_type": "display_data"
    }
   ],
   "source": [
    "dim(y)"
   ]
  },
  {
   "cell_type": "code",
   "execution_count": 124,
   "id": "cb7b4a76",
   "metadata": {},
   "outputs": [],
   "source": [
    "N = dim(y)[1]\n",
    "M = dim(y)[2]"
   ]
  },
  {
   "cell_type": "code",
   "execution_count": 125,
   "id": "a599104b",
   "metadata": {},
   "outputs": [],
   "source": [
    "argvals = seq(0,1,length=M)\n",
    "data_basis = create.bspline.basis(c(0,1), nbasis=10)\n",
    "y_fd = Data2fd(argvals, t(y), data_basis)"
   ]
  },
  {
   "cell_type": "code",
   "execution_count": null,
   "id": "7c5ab434",
   "metadata": {},
   "outputs": [],
   "source": [
    "legend(\"bottomleft\", legend=colnames, col=1:ncol(log_BOA_pca$harmonics$coefs), lwd=2)"
   ]
  },
  {
   "cell_type": "code",
   "execution_count": 139,
   "id": "5f230275",
   "metadata": {},
   "outputs": [],
   "source": [
    "colnames = c(\n",
    "    \"sample\",\n",
    "    \"mean + 3 SD\",\n",
    "#     \"mean + 2 SD\",\n",
    "#     \"mean + 1 SD\",\n",
    "    \"mean\",\n",
    "#     \"mean - 1 SD\",\n",
    "#     \"mean - 2 SD\",\n",
    "    \"mean - 3 SD\")"
   ]
  },
  {
   "cell_type": "code",
   "execution_count": 140,
   "id": "a1018013",
   "metadata": {},
   "outputs": [
    {
     "data": {
      "text/html": [
       "'done'"
      ],
      "text/latex": [
       "'done'"
      ],
      "text/markdown": [
       "'done'"
      ],
      "text/plain": [
       "[1] \"done\""
      ]
     },
     "metadata": {},
     "output_type": "display_data"
    },
    {
     "data": {
      "text/html": [
       "<strong>png:</strong> 2"
      ],
      "text/latex": [
       "\\textbf{png:} 2"
      ],
      "text/markdown": [
       "**png:** 2"
      ],
      "text/plain": [
       "png \n",
       "  2 "
      ]
     },
     "metadata": {},
     "output_type": "display_data"
    },
    {
     "data": {
      "image/png": "[encoded data removed]"
     },
     "metadata": {},
     "output_type": "display_data"
    }
   ],
   "source": [
    "png(\"151_dti.png\", width=500, height = 500) \n",
    "par(cex=1.2)\n",
    "\n",
    "plot(y_fd, lty=1, col=\"gray\", xlab=\"location\", ylab=\"Fractional anisotoropy\", ylim=c(0.1, .9))\n",
    "lines(mean.fd(y_fd), lwd=2)\n",
    "lines(mean.fd(y_fd) + std.fd(y_fd), lwd=2, lty=2, col=\"green\")\n",
    "lines(mean.fd(y_fd) + 2*std.fd(y_fd), lwd=2, lty=2, col=\"yellow\")\n",
    "lines(mean.fd(y_fd) + 3*std.fd(y_fd), lwd=2, lty=2, col=\"red\")\n",
    "lines(mean.fd(y_fd) - std.fd(y_fd), lwd=2, lty=2, col=\"green\")\n",
    "lines(mean.fd(y_fd) - 2*std.fd(y_fd), lwd=2, lty=2, col=\"yellow\")\n",
    "lines(mean.fd(y_fd) - 3*std.fd(y_fd), lwd=2, lty=2, col=\"red\")\n",
    "legend(\"bottomleft\", legend=colnames, col=c(\"gray\", \"red\", 1,  \"red\"), lty=c(1, 2, 1, 2))\n",
    "# legend(\"bottomleft\", legend=colnames, col=c(\"gray\", \"red\", \"yellow\", \"green\", 1, \"green\", \"green\", \"red\"), lty=c(1,2,2,2,1,2,2,2))\n",
    "\n",
    "dev.off()\n",
    "png_data <- readBin(\"151_dti.png\", \"raw\", file.size(\"151_dti.png\"))\n",
    "display_png(png_data)"
   ]
  },
  {
   "cell_type": "markdown",
   "id": "97dbf410",
   "metadata": {},
   "source": [
    "## 1.6 Problems"
   ]
  },
  {
   "cell_type": "markdown",
   "id": "50d52c3d",
   "metadata": {},
   "source": [
    "### 1.1 The pinch is a dataset included in the fda package. It consists of 151 measurements of pinch force for 20 replications (curves).\n",
    "\n",
    "(a) Convert the pinch data to functional objects using 15 B-splines of order\n",
    "four (cubic splines) and plot the 20 smoothed curves on one graph.\n",
    "\n",
    "(b) Calculate the pointwise mean and SD and add them to the plot.\n",
    "\n",
    "(c) Graph the perspective and contour plots of the sample covariance function ˆc(t, s) of the pinch curves.\n",
    "\n",
    "(d) Graph the first four EFPC’s of the pinch data. How many components\n",
    "do you need to explain 90% of variation?\n"
   ]
  },
  {
   "cell_type": "code",
   "execution_count": 142,
   "id": "13a52986",
   "metadata": {},
   "outputs": [
    {
     "data": {
      "text/html": [
       "<table class=\"dataframe\">\n",
       "<caption>A matrix: 6 × 20 of type dbl</caption>\n",
       "<tbody>\n",
       "\t<tr><td>-0.068</td><td> 0.078</td><td>-0.148</td><td>-0.065</td><td>-0.291</td><td>-0.041</td><td>-0.059</td><td>-0.102</td><td>-0.172</td><td>-0.224</td><td> 0.002</td><td>-0.032</td><td>-0.111</td><td>-0.087</td><td> 0.087</td><td>-0.019</td><td>-0.141</td><td>-0.032</td><td>-0.209</td><td>-0.102</td></tr>\n",
       "\t<tr><td>-0.090</td><td>-0.032</td><td>-0.090</td><td> 0.045</td><td>-0.193</td><td>-0.087</td><td> 0.115</td><td> 0.005</td><td>-0.083</td><td> 0.017</td><td>-0.123</td><td> 0.042</td><td>-0.282</td><td>-0.410</td><td> 0.002</td><td>-0.535</td><td> 0.081</td><td>-0.038</td><td>-0.038</td><td>-0.053</td></tr>\n",
       "\t<tr><td> 0.100</td><td>-0.053</td><td>-0.053</td><td>-0.093</td><td>-0.273</td><td>-0.004</td><td>-0.032</td><td>-0.160</td><td>-0.120</td><td>-0.184</td><td>-0.135</td><td>-0.056</td><td> 0.023</td><td>-0.026</td><td> 0.020</td><td>-0.050</td><td> 0.463</td><td>-0.169</td><td>-0.187</td><td>-0.141</td></tr>\n",
       "\t<tr><td>-0.138</td><td> 0.029</td><td>-0.050</td><td>-0.010</td><td>-0.196</td><td>-0.080</td><td>-0.132</td><td>-0.145</td><td> 0.023</td><td>-0.096</td><td>-0.071</td><td>-0.038</td><td> 0.005</td><td>-0.007</td><td>-0.111</td><td> 0.002</td><td>-0.187</td><td>-0.114</td><td>-0.120</td><td>-0.068</td></tr>\n",
       "\t<tr><td>-0.053</td><td>-0.026</td><td>-0.047</td><td> 0.072</td><td>-0.175</td><td>-0.056</td><td> 0.054</td><td>-0.218</td><td>-0.376</td><td>-0.279</td><td> 0.014</td><td>-0.059</td><td>-0.047</td><td> 0.390</td><td> 0.075</td><td> 0.451</td><td>-0.221</td><td>-0.102</td><td>-0.645</td><td>-0.019</td></tr>\n",
       "\t<tr><td>-0.245</td><td>-0.004</td><td>-0.047</td><td>-0.035</td><td>-0.135</td><td> 0.441</td><td>-0.090</td><td>-0.053</td><td>-0.056</td><td>-0.111</td><td>-0.013</td><td> 0.020</td><td>-0.068</td><td>-0.047</td><td>-0.059</td><td> 0.036</td><td>-0.218</td><td> 0.032</td><td>-0.141</td><td> 0.066</td></tr>\n",
       "</tbody>\n",
       "</table>\n"
      ],
      "text/latex": [
       "A matrix: 6 × 20 of type dbl\n",
       "\\begin{tabular}{llllllllllllllllllll}\n",
       "\t -0.068 &  0.078 & -0.148 & -0.065 & -0.291 & -0.041 & -0.059 & -0.102 & -0.172 & -0.224 &  0.002 & -0.032 & -0.111 & -0.087 &  0.087 & -0.019 & -0.141 & -0.032 & -0.209 & -0.102\\\\\n",
       "\t -0.090 & -0.032 & -0.090 &  0.045 & -0.193 & -0.087 &  0.115 &  0.005 & -0.083 &  0.017 & -0.123 &  0.042 & -0.282 & -0.410 &  0.002 & -0.535 &  0.081 & -0.038 & -0.038 & -0.053\\\\\n",
       "\t  0.100 & -0.053 & -0.053 & -0.093 & -0.273 & -0.004 & -0.032 & -0.160 & -0.120 & -0.184 & -0.135 & -0.056 &  0.023 & -0.026 &  0.020 & -0.050 &  0.463 & -0.169 & -0.187 & -0.141\\\\\n",
       "\t -0.138 &  0.029 & -0.050 & -0.010 & -0.196 & -0.080 & -0.132 & -0.145 &  0.023 & -0.096 & -0.071 & -0.038 &  0.005 & -0.007 & -0.111 &  0.002 & -0.187 & -0.114 & -0.120 & -0.068\\\\\n",
       "\t -0.053 & -0.026 & -0.047 &  0.072 & -0.175 & -0.056 &  0.054 & -0.218 & -0.376 & -0.279 &  0.014 & -0.059 & -0.047 &  0.390 &  0.075 &  0.451 & -0.221 & -0.102 & -0.645 & -0.019\\\\\n",
       "\t -0.245 & -0.004 & -0.047 & -0.035 & -0.135 &  0.441 & -0.090 & -0.053 & -0.056 & -0.111 & -0.013 &  0.020 & -0.068 & -0.047 & -0.059 &  0.036 & -0.218 &  0.032 & -0.141 &  0.066\\\\\n",
       "\\end{tabular}\n"
      ],
      "text/markdown": [
       "\n",
       "A matrix: 6 × 20 of type dbl\n",
       "\n",
       "| -0.068 |  0.078 | -0.148 | -0.065 | -0.291 | -0.041 | -0.059 | -0.102 | -0.172 | -0.224 |  0.002 | -0.032 | -0.111 | -0.087 |  0.087 | -0.019 | -0.141 | -0.032 | -0.209 | -0.102 |\n",
       "| -0.090 | -0.032 | -0.090 |  0.045 | -0.193 | -0.087 |  0.115 |  0.005 | -0.083 |  0.017 | -0.123 |  0.042 | -0.282 | -0.410 |  0.002 | -0.535 |  0.081 | -0.038 | -0.038 | -0.053 |\n",
       "|  0.100 | -0.053 | -0.053 | -0.093 | -0.273 | -0.004 | -0.032 | -0.160 | -0.120 | -0.184 | -0.135 | -0.056 |  0.023 | -0.026 |  0.020 | -0.050 |  0.463 | -0.169 | -0.187 | -0.141 |\n",
       "| -0.138 |  0.029 | -0.050 | -0.010 | -0.196 | -0.080 | -0.132 | -0.145 |  0.023 | -0.096 | -0.071 | -0.038 |  0.005 | -0.007 | -0.111 |  0.002 | -0.187 | -0.114 | -0.120 | -0.068 |\n",
       "| -0.053 | -0.026 | -0.047 |  0.072 | -0.175 | -0.056 |  0.054 | -0.218 | -0.376 | -0.279 |  0.014 | -0.059 | -0.047 |  0.390 |  0.075 |  0.451 | -0.221 | -0.102 | -0.645 | -0.019 |\n",
       "| -0.245 | -0.004 | -0.047 | -0.035 | -0.135 |  0.441 | -0.090 | -0.053 | -0.056 | -0.111 | -0.013 |  0.020 | -0.068 | -0.047 | -0.059 |  0.036 | -0.218 |  0.032 | -0.141 |  0.066 |\n",
       "\n"
      ],
      "text/plain": [
       "     [,1]   [,2]   [,3]   [,4]   [,5]   [,6]   [,7]   [,8]   [,9]   [,10] \n",
       "[1,] -0.068  0.078 -0.148 -0.065 -0.291 -0.041 -0.059 -0.102 -0.172 -0.224\n",
       "[2,] -0.090 -0.032 -0.090  0.045 -0.193 -0.087  0.115  0.005 -0.083  0.017\n",
       "[3,]  0.100 -0.053 -0.053 -0.093 -0.273 -0.004 -0.032 -0.160 -0.120 -0.184\n",
       "[4,] -0.138  0.029 -0.050 -0.010 -0.196 -0.080 -0.132 -0.145  0.023 -0.096\n",
       "[5,] -0.053 -0.026 -0.047  0.072 -0.175 -0.056  0.054 -0.218 -0.376 -0.279\n",
       "[6,] -0.245 -0.004 -0.047 -0.035 -0.135  0.441 -0.090 -0.053 -0.056 -0.111\n",
       "     [,11]  [,12]  [,13]  [,14]  [,15]  [,16]  [,17]  [,18]  [,19]  [,20] \n",
       "[1,]  0.002 -0.032 -0.111 -0.087  0.087 -0.019 -0.141 -0.032 -0.209 -0.102\n",
       "[2,] -0.123  0.042 -0.282 -0.410  0.002 -0.535  0.081 -0.038 -0.038 -0.053\n",
       "[3,] -0.135 -0.056  0.023 -0.026  0.020 -0.050  0.463 -0.169 -0.187 -0.141\n",
       "[4,] -0.071 -0.038  0.005 -0.007 -0.111  0.002 -0.187 -0.114 -0.120 -0.068\n",
       "[5,]  0.014 -0.059 -0.047  0.390  0.075  0.451 -0.221 -0.102 -0.645 -0.019\n",
       "[6,] -0.013  0.020 -0.068 -0.047 -0.059  0.036 -0.218  0.032 -0.141  0.066"
      ]
     },
     "metadata": {},
     "output_type": "display_data"
    }
   ],
   "source": [
    "head(pinch)"
   ]
  },
  {
   "cell_type": "code",
   "execution_count": 143,
   "id": "522d2f84",
   "metadata": {},
   "outputs": [
    {
     "data": {
      "text/html": [
       "<style>\n",
       ".list-inline {list-style: none; margin:0; padding: 0}\n",
       ".list-inline>li {display: inline-block}\n",
       ".list-inline>li:not(:last-child)::after {content: \"\\00b7\"; padding: 0 .5ex}\n",
       "</style>\n",
       "<ol class=list-inline><li>151</li><li>20</li></ol>\n"
      ],
      "text/latex": [
       "\\begin{enumerate*}\n",
       "\\item 151\n",
       "\\item 20\n",
       "\\end{enumerate*}\n"
      ],
      "text/markdown": [
       "1. 151\n",
       "2. 20\n",
       "\n",
       "\n"
      ],
      "text/plain": [
       "[1] 151  20"
      ]
     },
     "metadata": {},
     "output_type": "display_data"
    }
   ],
   "source": [
    "dim(pinch)"
   ]
  },
  {
   "cell_type": "code",
   "execution_count": 160,
   "id": "48794fab",
   "metadata": {},
   "outputs": [
    {
     "data": {
      "text/html": [
       "-0.834"
      ],
      "text/latex": [
       "-0.834"
      ],
      "text/markdown": [
       "-0.834"
      ],
      "text/plain": [
       "[1] -0.834"
      ]
     },
     "metadata": {},
     "output_type": "display_data"
    }
   ],
   "source": [
    "min(pinch)"
   ]
  },
  {
   "cell_type": "code",
   "execution_count": 184,
   "id": "b102be1d",
   "metadata": {},
   "outputs": [],
   "source": [
    "N = dim(pinch)[2] # 20 \n",
    "J = dim(pinch)[1] # 151"
   ]
  },
  {
   "cell_type": "code",
   "execution_count": 195,
   "id": "59080ab3",
   "metadata": {},
   "outputs": [
    {
     "data": {
      "text/html": [
       "<style>\n",
       ".list-inline {list-style: none; margin:0; padding: 0}\n",
       ".list-inline>li {display: inline-block}\n",
       ".list-inline>li:not(:last-child)::after {content: \"\\00b7\"; padding: 0 .5ex}\n",
       "</style>\n",
       "<ol class=list-inline><li>2</li><li>3</li><li>4</li><li>5</li></ol>\n"
      ],
      "text/latex": [
       "\\begin{enumerate*}\n",
       "\\item 2\n",
       "\\item 3\n",
       "\\item 4\n",
       "\\item 5\n",
       "\\end{enumerate*}\n"
      ],
      "text/markdown": [
       "1. 2\n",
       "2. 3\n",
       "3. 4\n",
       "4. 5\n",
       "\n",
       "\n"
      ],
      "text/plain": [
       "[1] 2 3 4 5"
      ]
     },
     "metadata": {},
     "output_type": "display_data"
    }
   ],
   "source": [
    "c(2:5)"
   ]
  },
  {
   "cell_type": "code",
   "execution_count": 201,
   "id": "2cd015d3",
   "metadata": {},
   "outputs": [
    {
     "data": {
      "text/html": [
       "<strong>png:</strong> 2"
      ],
      "text/latex": [
       "\\textbf{png:} 2"
      ],
      "text/markdown": [
       "**png:** 2"
      ],
      "text/plain": [
       "png \n",
       "  2 "
      ]
     },
     "metadata": {},
     "output_type": "display_data"
    },
    {
     "data": {
      "image/png": "[encoded data removed]"
     },
     "metadata": {},
     "output_type": "display_data"
    }
   ],
   "source": [
    "png(\"1611_pinch_raw.png\", width=500, height = 500) \n",
    "par(cex=1.2)\n",
    "\n",
    "plot(t, pinch[,1], type = \"p\", xlim=c(0,150), ylim = c(-1, 11), xlab = \"Time\", ylab = \"Pinch angle [rad]\", col=1)\n",
    "\n",
    "for (n in 2:4) {\n",
    "    lines(t, pinch[,n], col = n, type = \"p\")\n",
    "}\n",
    "grid()\n",
    "\n",
    "dev.off()\n",
    "png_data <- readBin(\"1611_pinch_raw.png\", \"raw\", file.size(\"1611_pinch_raw.png\"))\n",
    "display_png(png_data)"
   ]
  },
  {
   "cell_type": "code",
   "execution_count": 203,
   "id": "74fd5587",
   "metadata": {},
   "outputs": [
    {
     "data": {
      "text/html": [
       "'done'"
      ],
      "text/latex": [
       "'done'"
      ],
      "text/markdown": [
       "'done'"
      ],
      "text/plain": [
       "[1] \"done\""
      ]
     },
     "metadata": {},
     "output_type": "display_data"
    },
    {
     "data": {
      "text/html": [
       "<strong>png:</strong> 2"
      ],
      "text/latex": [
       "\\textbf{png:} 2"
      ],
      "text/markdown": [
       "**png:** 2"
      ],
      "text/plain": [
       "png \n",
       "  2 "
      ]
     },
     "metadata": {},
     "output_type": "display_data"
    },
    {
     "data": {
      "image/png": "[encoded data removed]"
     },
     "metadata": {},
     "output_type": "display_data"
    }
   ],
   "source": [
    "png(\"1612_pinch_smo.png\", width=500, height = 500) \n",
    "par(cex=1.2)\n",
    "\n",
    "b_spl_15 = create.bspline.basis(rangeval=c(0,J), nbasis=15, norder=4)\n",
    "pinch_fd = smooth.basis(y=pinch, fdParobj=b_spl_15)\n",
    "\n",
    "plot(pinch_fd, xlab = \"Time\", ylab = \"Pinch angle [rad]\", col=\"gray\", lty=1)\n",
    "\n",
    "dev.off()\n",
    "png_data <- readBin(\"1612_pinch_smo.png\", \"raw\", file.size(\"1612_pinch_smo.png\"))\n",
    "display_png(png_data)"
   ]
  },
  {
   "cell_type": "code",
   "execution_count": 210,
   "id": "f5566ac2",
   "metadata": {},
   "outputs": [
    {
     "data": {
      "text/html": [
       "'done'"
      ],
      "text/latex": [
       "'done'"
      ],
      "text/markdown": [
       "'done'"
      ],
      "text/plain": [
       "[1] \"done\""
      ]
     },
     "metadata": {},
     "output_type": "display_data"
    },
    {
     "data": {
      "text/html": [
       "<strong>png:</strong> 2"
      ],
      "text/latex": [
       "\\textbf{png:} 2"
      ],
      "text/markdown": [
       "**png:** 2"
      ],
      "text/plain": [
       "png \n",
       "  2 "
      ]
     },
     "metadata": {},
     "output_type": "display_data"
    },
    {
     "data": {
      "image/png": "[encoded data removed]"
     },
     "metadata": {},
     "output_type": "display_data"
    }
   ],
   "source": [
    "png(\"1613_pinch_mean.png\", width=500, height = 500) \n",
    "par(cex=1.2)\n",
    "\n",
    "pinch_mean = mean.fd(pinch_fd$fd)\n",
    "pinch_sd = sd.fd(pinch_fd$fd)\n",
    "\n",
    "plot(pinch_fd, xlab = \"Time\", ylab = \"Pinch angle [rad]\", col=\"gray\", lty=1)\n",
    "lines(pinch_sd, lwd=2)\n",
    "lines(pinch_mean, lwd=2, lty=2)\n",
    "legend(\"topright\", legend=c(\"sample\", \"mean\", \"SD\",\"0\"), lty=c(\"solid\",  \"dashed\", \"solid\", \"dotted\"), col=c(\"gray\", \"black\", \"black\", \"black\"))\n",
    "grid()\n",
    "\n",
    "dev.off()\n",
    "png_data <- readBin(\"1613_pinch_mean.png\", \"raw\", file.size(\"1613_pinch_mean.png\"))\n",
    "display_png(png_data)"
   ]
  },
  {
   "cell_type": "code",
   "execution_count": 221,
   "id": "592ad369",
   "metadata": {},
   "outputs": [
    {
     "data": {
      "text/html": [
       "<strong>png:</strong> 2"
      ],
      "text/latex": [
       "\\textbf{png:} 2"
      ],
      "text/markdown": [
       "**png:** 2"
      ],
      "text/plain": [
       "png \n",
       "  2 "
      ]
     },
     "metadata": {},
     "output_type": "display_data"
    },
    {
     "data": {
      "image/png": "[encoded data removed]"
     },
     "metadata": {},
     "output_type": "display_data"
    }
   ],
   "source": [
    "png(\"1614_cov.png\", width=1000, height = 500) \n",
    "par(mfrow=c(1,2), cex=1.2)\n",
    "pinch_cov = var.fd(pinch_fd$fd)\n",
    "grid=seq(0, 15.1, by = 0.1)\n",
    "pinch_cov_mat = eval.bifd(grid, grid, pinch_cov)\n",
    "persp(grid, grid, pinch_cov_mat, xlab=\"s\",\n",
    "        ylab=\"t\", zlab=\"c(s,t)\"\n",
    ")\n",
    "contour(grid, grid, pinch_cov_mat, lwd=2)\n",
    "\n",
    "dev.off()\n",
    "png_data <- readBin(\"1614_cov.png\", \"raw\", file.size(\"1614_cov.png\"))\n",
    "display_png(png_data)"
   ]
  },
  {
   "cell_type": "code",
   "execution_count": 237,
   "id": "14e4e886",
   "metadata": {},
   "outputs": [
    {
     "data": {
      "text/html": [
       "'done'"
      ],
      "text/latex": [
       "'done'"
      ],
      "text/markdown": [
       "'done'"
      ],
      "text/plain": [
       "[1] \"done\""
      ]
     },
     "metadata": {},
     "output_type": "display_data"
    },
    {
     "name": "stdout",
     "output_type": "stream",
     "text": [
      "0.8512517 0.07256828 0.02523702 0.01323323 \n",
      "0.8512517 0.92382 0.949057 0.9622902 \n"
     ]
    },
    {
     "data": {
      "text/html": [
       "<strong>png:</strong> 2"
      ],
      "text/latex": [
       "\\textbf{png:} 2"
      ],
      "text/markdown": [
       "**png:** 2"
      ],
      "text/plain": [
       "png \n",
       "  2 "
      ]
     },
     "metadata": {},
     "output_type": "display_data"
    },
    {
     "data": {
      "image/png": "[encoded data removed]"
     },
     "metadata": {},
     "output_type": "display_data"
    }
   ],
   "source": [
    "pinch_pca = pca.fd(pinch_fd$fd, nharm=4)\n",
    "\n",
    "png(\"1615_pri.png\", width=500, height = 500) \n",
    "par(cex=1.2)\n",
    "\n",
    "plot(pinch_pca$harmonics, lwd=2, xlab = \"Time\")\n",
    "\n",
    "colnames = paste0(\"PC\", 1:ncol(pinch_pca$harmonics$coefs))\n",
    "legend(\"bottomright\", legend=colnames, col=1:ncol(pinch_pca$harmonics$coefs), lwd=2)\n",
    "grid()\n",
    "\n",
    "cat(log_BOA_pca$varprop,\"\\n\")\n",
    "cat(cumsum(log_BOA_pca$varprop),\"\\n\")\n",
    "\n",
    "dev.off()\n",
    "png_data <- readBin(\"1615_pri.png\", \"raw\", file.size(\"1615_pri.png\"))\n",
    "display_png(png_data)"
   ]
  },
  {
   "cell_type": "code",
   "execution_count": null,
   "id": "2fb45c72",
   "metadata": {},
   "outputs": [],
   "source": [
    "\n"
   ]
  }
 ],
 "metadata": {
  "kernelspec": {
   "display_name": "R",
   "language": "R",
   "name": "ir"
  },
  "language_info": {
   "codemirror_mode": "r",
   "file_extension": ".r",
   "mimetype": "text/x-r-source",
   "name": "R",
   "pygments_lexer": "r",
   "version": "4.1.3"
  }
 },
 "nbformat": 4,
 "nbformat_minor": 5
}
