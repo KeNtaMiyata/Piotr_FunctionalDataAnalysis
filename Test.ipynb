{
 "cells": [
  {
   "cell_type": "code",
   "execution_count": 1,
   "id": "aaaa5a1a",
   "metadata": {},
   "outputs": [
    {
     "name": "stderr",
     "output_type": "stream",
     "text": [
      "Loading required package: splines\n",
      "\n",
      "Loading required package: fds\n",
      "\n",
      "Loading required package: rainbow\n",
      "\n",
      "Loading required package: MASS\n",
      "\n",
      "Loading required package: pcaPP\n",
      "\n",
      "Loading required package: RCurl\n",
      "\n",
      "Loading required package: deSolve\n",
      "\n",
      "\n",
      "Attaching package: 'fda'\n",
      "\n",
      "\n",
      "The following object is masked from 'package:graphics':\n",
      "\n",
      "    matplot\n",
      "\n",
      "\n"
     ]
    }
   ],
   "source": [
    "library(fda)"
   ]
  },
  {
   "cell_type": "code",
   "execution_count": 2,
   "id": "6a2cb2f1",
   "metadata": {},
   "outputs": [],
   "source": [
    "b25basis = create.bspline.basis(rangeval=c(0,1), nbasis=10, norder=4) "
   ]
  },
  {
   "cell_type": "code",
   "execution_count": 6,
   "id": "1918474c",
   "metadata": {},
   "outputs": [
    {
     "data": {
      "text/html": [
       "'list'"
      ],
      "text/latex": [
       "'list'"
      ],
      "text/markdown": [
       "'list'"
      ],
      "text/plain": [
       "[1] \"list\""
      ]
     },
     "metadata": {},
     "output_type": "display_data"
    }
   ],
   "source": [
    "typeof(b25basis)"
   ]
  },
  {
   "cell_type": "code",
   "execution_count": 7,
   "id": "ee830b82",
   "metadata": {},
   "outputs": [
    {
     "data": {
      "text/plain": [
       "$call\n",
       "basisfd(type = type, rangeval = rangeval, nbasis = nbasis, params = params, \n",
       "    dropind = dropind, quadvals = quadvals, values = values, \n",
       "    basisvalues = basisvalues)\n",
       "\n",
       "$type\n",
       "[1] \"bspline\"\n",
       "\n",
       "$rangeval\n",
       "[1] 0 1\n",
       "\n",
       "$nbasis\n",
       "[1] 10\n",
       "\n",
       "$params\n",
       "[1] 0.1428571 0.2857143 0.4285714 0.5714286 0.7142857 0.8571429\n",
       "\n",
       "$dropind\n",
       "NULL\n",
       "\n",
       "$quadvals\n",
       "NULL\n",
       "\n",
       "$values\n",
       "list()\n",
       "\n",
       "$basisvalues\n",
       "list()\n",
       "\n",
       "$names\n",
       " [1] \"bspl4.1\"  \"bspl4.2\"  \"bspl4.3\"  \"bspl4.4\"  \"bspl4.5\"  \"bspl4.6\" \n",
       " [7] \"bspl4.7\"  \"bspl4.8\"  \"bspl4.9\"  \"bspl4.10\"\n",
       "\n",
       "attr(,\"class\")\n",
       "[1] \"basisfd\""
      ]
     },
     "metadata": {},
     "output_type": "display_data"
    }
   ],
   "source": [
    "b25basis"
   ]
  },
  {
   "cell_type": "code",
   "execution_count": null,
   "id": "d736f8a1",
   "metadata": {},
   "outputs": [],
   "source": []
  }
 ],
 "metadata": {
  "kernelspec": {
   "display_name": "R",
   "language": "R",
   "name": "ir"
  },
  "language_info": {
   "codemirror_mode": "r",
   "file_extension": ".r",
   "mimetype": "text/x-r-source",
   "name": "R",
   "pygments_lexer": "r",
   "version": "4.1.3"
  }
 },
 "nbformat": 4,
 "nbformat_minor": 5
}
